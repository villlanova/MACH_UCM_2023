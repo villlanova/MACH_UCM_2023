{
  "cells": [
    {
      "cell_type": "markdown",
      "source": [
        "He realizado la práctica final usando el dataset de la competición de Kaggle: Predict Student Performance from Game Play"
      ],
      "metadata": {
        "id": "Gtae1wsnlU_E"
      }
    },
    {
      "cell_type": "markdown",
      "source": [
        "Link a la competición: https://www.kaggle.com/competitions/predict-student-performance-from-game-play"
      ],
      "metadata": {
        "id": "Gdlfsd14lhrG"
      }
    },
    {
      "cell_type": "markdown",
      "metadata": {
        "id": "d15Yi3cczsup"
      },
      "source": [
        "# Librerías"
      ]
    },
    {
      "cell_type": "code",
      "execution_count": null,
      "metadata": {
        "id": "N1Pfxx3BzQ6d"
      },
      "outputs": [],
      "source": [
        "from google.colab import files\n",
        "import zipfile\n",
        "import pandas as pd\n",
        "import numpy as np\n",
        "import matplotlib.pyplot as plt\n",
        "import seaborn as sns\n",
        "from sklearn.preprocessing import LabelEncoder\n",
        "from sklearn.impute import SimpleImputer\n",
        "from sklearn.model_selection import train_test_split\n",
        "from sklearn.metrics import accuracy_score, precision_score, recall_score, f1_score, confusion_matrix\n",
        "from statsmodels.graphics.mosaicplot import mosaic\n",
        "from sklearn.neighbors import KNeighborsClassifier\n",
        "from sklearn.tree import DecisionTreeClassifier\n",
        "from sklearn.ensemble import BaggingClassifier\n",
        "from sklearn.ensemble import RandomForestClassifier\n",
        "from sklearn.ensemble import GradientBoostingClassifier\n",
        "import xgboost as xgb\n",
        "import keras\n",
        "from keras.models import Sequential\n",
        "from keras.layers import Dense\n",
        "from sklearn.model_selection import GridSearchCV\n",
        "from xgboost import XGBClassifier"
      ]
    },
    {
      "cell_type": "markdown",
      "metadata": {
        "id": "gPXhSrNHg0z0"
      },
      "source": [
        "# Obtención de los Datos desde Kaggle"
      ]
    },
    {
      "cell_type": "code",
      "execution_count": null,
      "metadata": {
        "colab": {
          "base_uri": "https://localhost:8080/"
        },
        "id": "VUYFT_KD073h",
        "outputId": "9cfbc72e-3906-46d6-a215-68389e8ee68b"
      },
      "outputs": [
        {
          "output_type": "stream",
          "name": "stdout",
          "text": [
            "Looking in indexes: https://pypi.org/simple, https://us-python.pkg.dev/colab-wheels/public/simple/\n",
            "Requirement already satisfied: kaggle in /usr/local/lib/python3.10/dist-packages (1.5.13)\n",
            "Requirement already satisfied: six>=1.10 in /usr/local/lib/python3.10/dist-packages (from kaggle) (1.16.0)\n",
            "Requirement already satisfied: certifi in /usr/local/lib/python3.10/dist-packages (from kaggle) (2022.12.7)\n",
            "Requirement already satisfied: python-dateutil in /usr/local/lib/python3.10/dist-packages (from kaggle) (2.8.2)\n",
            "Requirement already satisfied: requests in /usr/local/lib/python3.10/dist-packages (from kaggle) (2.27.1)\n",
            "Requirement already satisfied: tqdm in /usr/local/lib/python3.10/dist-packages (from kaggle) (4.65.0)\n",
            "Requirement already satisfied: python-slugify in /usr/local/lib/python3.10/dist-packages (from kaggle) (8.0.1)\n",
            "Requirement already satisfied: urllib3 in /usr/local/lib/python3.10/dist-packages (from kaggle) (1.26.15)\n",
            "Requirement already satisfied: text-unidecode>=1.3 in /usr/local/lib/python3.10/dist-packages (from python-slugify->kaggle) (1.3)\n",
            "Requirement already satisfied: charset-normalizer~=2.0.0 in /usr/local/lib/python3.10/dist-packages (from requests->kaggle) (2.0.12)\n",
            "Requirement already satisfied: idna<4,>=2.5 in /usr/local/lib/python3.10/dist-packages (from requests->kaggle) (3.4)\n"
          ]
        }
      ],
      "source": [
        "pip install kaggle"
      ]
    },
    {
      "cell_type": "code",
      "execution_count": null,
      "metadata": {
        "colab": {
          "base_uri": "https://localhost:8080/",
          "height": 73
        },
        "id": "oxshqLlm2QbU",
        "outputId": "27597229-a79c-408f-8d32-2d1a72327c9b"
      },
      "outputs": [
        {
          "output_type": "display_data",
          "data": {
            "text/plain": [
              "<IPython.core.display.HTML object>"
            ],
            "text/html": [
              "\n",
              "     <input type=\"file\" id=\"files-108a8b1a-ed2e-4e32-a4d7-4d133f2df679\" name=\"files[]\" multiple disabled\n",
              "        style=\"border:none\" />\n",
              "     <output id=\"result-108a8b1a-ed2e-4e32-a4d7-4d133f2df679\">\n",
              "      Upload widget is only available when the cell has been executed in the\n",
              "      current browser session. Please rerun this cell to enable.\n",
              "      </output>\n",
              "      <script>// Copyright 2017 Google LLC\n",
              "//\n",
              "// Licensed under the Apache License, Version 2.0 (the \"License\");\n",
              "// you may not use this file except in compliance with the License.\n",
              "// You may obtain a copy of the License at\n",
              "//\n",
              "//      http://www.apache.org/licenses/LICENSE-2.0\n",
              "//\n",
              "// Unless required by applicable law or agreed to in writing, software\n",
              "// distributed under the License is distributed on an \"AS IS\" BASIS,\n",
              "// WITHOUT WARRANTIES OR CONDITIONS OF ANY KIND, either express or implied.\n",
              "// See the License for the specific language governing permissions and\n",
              "// limitations under the License.\n",
              "\n",
              "/**\n",
              " * @fileoverview Helpers for google.colab Python module.\n",
              " */\n",
              "(function(scope) {\n",
              "function span(text, styleAttributes = {}) {\n",
              "  const element = document.createElement('span');\n",
              "  element.textContent = text;\n",
              "  for (const key of Object.keys(styleAttributes)) {\n",
              "    element.style[key] = styleAttributes[key];\n",
              "  }\n",
              "  return element;\n",
              "}\n",
              "\n",
              "// Max number of bytes which will be uploaded at a time.\n",
              "const MAX_PAYLOAD_SIZE = 100 * 1024;\n",
              "\n",
              "function _uploadFiles(inputId, outputId) {\n",
              "  const steps = uploadFilesStep(inputId, outputId);\n",
              "  const outputElement = document.getElementById(outputId);\n",
              "  // Cache steps on the outputElement to make it available for the next call\n",
              "  // to uploadFilesContinue from Python.\n",
              "  outputElement.steps = steps;\n",
              "\n",
              "  return _uploadFilesContinue(outputId);\n",
              "}\n",
              "\n",
              "// This is roughly an async generator (not supported in the browser yet),\n",
              "// where there are multiple asynchronous steps and the Python side is going\n",
              "// to poll for completion of each step.\n",
              "// This uses a Promise to block the python side on completion of each step,\n",
              "// then passes the result of the previous step as the input to the next step.\n",
              "function _uploadFilesContinue(outputId) {\n",
              "  const outputElement = document.getElementById(outputId);\n",
              "  const steps = outputElement.steps;\n",
              "\n",
              "  const next = steps.next(outputElement.lastPromiseValue);\n",
              "  return Promise.resolve(next.value.promise).then((value) => {\n",
              "    // Cache the last promise value to make it available to the next\n",
              "    // step of the generator.\n",
              "    outputElement.lastPromiseValue = value;\n",
              "    return next.value.response;\n",
              "  });\n",
              "}\n",
              "\n",
              "/**\n",
              " * Generator function which is called between each async step of the upload\n",
              " * process.\n",
              " * @param {string} inputId Element ID of the input file picker element.\n",
              " * @param {string} outputId Element ID of the output display.\n",
              " * @return {!Iterable<!Object>} Iterable of next steps.\n",
              " */\n",
              "function* uploadFilesStep(inputId, outputId) {\n",
              "  const inputElement = document.getElementById(inputId);\n",
              "  inputElement.disabled = false;\n",
              "\n",
              "  const outputElement = document.getElementById(outputId);\n",
              "  outputElement.innerHTML = '';\n",
              "\n",
              "  const pickedPromise = new Promise((resolve) => {\n",
              "    inputElement.addEventListener('change', (e) => {\n",
              "      resolve(e.target.files);\n",
              "    });\n",
              "  });\n",
              "\n",
              "  const cancel = document.createElement('button');\n",
              "  inputElement.parentElement.appendChild(cancel);\n",
              "  cancel.textContent = 'Cancel upload';\n",
              "  const cancelPromise = new Promise((resolve) => {\n",
              "    cancel.onclick = () => {\n",
              "      resolve(null);\n",
              "    };\n",
              "  });\n",
              "\n",
              "  // Wait for the user to pick the files.\n",
              "  const files = yield {\n",
              "    promise: Promise.race([pickedPromise, cancelPromise]),\n",
              "    response: {\n",
              "      action: 'starting',\n",
              "    }\n",
              "  };\n",
              "\n",
              "  cancel.remove();\n",
              "\n",
              "  // Disable the input element since further picks are not allowed.\n",
              "  inputElement.disabled = true;\n",
              "\n",
              "  if (!files) {\n",
              "    return {\n",
              "      response: {\n",
              "        action: 'complete',\n",
              "      }\n",
              "    };\n",
              "  }\n",
              "\n",
              "  for (const file of files) {\n",
              "    const li = document.createElement('li');\n",
              "    li.append(span(file.name, {fontWeight: 'bold'}));\n",
              "    li.append(span(\n",
              "        `(${file.type || 'n/a'}) - ${file.size} bytes, ` +\n",
              "        `last modified: ${\n",
              "            file.lastModifiedDate ? file.lastModifiedDate.toLocaleDateString() :\n",
              "                                    'n/a'} - `));\n",
              "    const percent = span('0% done');\n",
              "    li.appendChild(percent);\n",
              "\n",
              "    outputElement.appendChild(li);\n",
              "\n",
              "    const fileDataPromise = new Promise((resolve) => {\n",
              "      const reader = new FileReader();\n",
              "      reader.onload = (e) => {\n",
              "        resolve(e.target.result);\n",
              "      };\n",
              "      reader.readAsArrayBuffer(file);\n",
              "    });\n",
              "    // Wait for the data to be ready.\n",
              "    let fileData = yield {\n",
              "      promise: fileDataPromise,\n",
              "      response: {\n",
              "        action: 'continue',\n",
              "      }\n",
              "    };\n",
              "\n",
              "    // Use a chunked sending to avoid message size limits. See b/62115660.\n",
              "    let position = 0;\n",
              "    do {\n",
              "      const length = Math.min(fileData.byteLength - position, MAX_PAYLOAD_SIZE);\n",
              "      const chunk = new Uint8Array(fileData, position, length);\n",
              "      position += length;\n",
              "\n",
              "      const base64 = btoa(String.fromCharCode.apply(null, chunk));\n",
              "      yield {\n",
              "        response: {\n",
              "          action: 'append',\n",
              "          file: file.name,\n",
              "          data: base64,\n",
              "        },\n",
              "      };\n",
              "\n",
              "      let percentDone = fileData.byteLength === 0 ?\n",
              "          100 :\n",
              "          Math.round((position / fileData.byteLength) * 100);\n",
              "      percent.textContent = `${percentDone}% done`;\n",
              "\n",
              "    } while (position < fileData.byteLength);\n",
              "  }\n",
              "\n",
              "  // All done.\n",
              "  yield {\n",
              "    response: {\n",
              "      action: 'complete',\n",
              "    }\n",
              "  };\n",
              "}\n",
              "\n",
              "scope.google = scope.google || {};\n",
              "scope.google.colab = scope.google.colab || {};\n",
              "scope.google.colab._files = {\n",
              "  _uploadFiles,\n",
              "  _uploadFilesContinue,\n",
              "};\n",
              "})(self);\n",
              "</script> "
            ]
          },
          "metadata": {}
        },
        {
          "output_type": "stream",
          "name": "stdout",
          "text": [
            "Saving kaggle.json to kaggle.json\n"
          ]
        }
      ],
      "source": [
        "# Carga el archivo JSON de credenciales\n",
        "files.upload()\n",
        "\n",
        "# Mueve el archivo a la ubicación correcta\n",
        "!mkdir -p ~/.kaggle\n",
        "!mv kaggle.json ~/.kaggle/\n",
        "\n",
        "# Cambia los permisos del archivo\n",
        "!chmod 600 ~/.kaggle/kaggle.json"
      ]
    },
    {
      "cell_type": "code",
      "execution_count": null,
      "metadata": {
        "colab": {
          "base_uri": "https://localhost:8080/"
        },
        "id": "zaApxJbJ1cqH",
        "outputId": "ae6ae4cd-605e-4233-d38e-6cb0712fab05"
      },
      "outputs": [
        {
          "output_type": "stream",
          "name": "stdout",
          "text": [
            "Downloading predict-student-performance-from-game-play.zip to /content\n",
            "100% 968M/968M [00:31<00:00, 32.9MB/s]\n",
            "100% 968M/968M [00:31<00:00, 31.8MB/s]\n"
          ]
        }
      ],
      "source": [
        "!kaggle competitions download -c predict-student-performance-from-game-play"
      ]
    },
    {
      "cell_type": "code",
      "execution_count": null,
      "metadata": {
        "id": "CebbOGyM3Ivw"
      },
      "outputs": [],
      "source": [
        "# Nombre del archivo ZIP descargado\n",
        "zip_filename = '/content/predict-student-performance-from-game-play.zip'\n",
        "\n",
        "# Descomprime el archivo ZIP\n",
        "with zipfile.ZipFile(zip_filename, 'r') as zip_ref:\n",
        "    zip_ref.extractall()"
      ]
    },
    {
      "cell_type": "markdown",
      "metadata": {
        "id": "Fgv-dpgS0Bxd"
      },
      "source": [
        "# 1. Validación de los Datos"
      ]
    },
    {
      "cell_type": "markdown",
      "metadata": {
        "id": "q4FKozcNHeX_"
      },
      "source": [
        "Trabajaremos con el archivo Train Data"
      ]
    },
    {
      "cell_type": "code",
      "execution_count": null,
      "metadata": {
        "colab": {
          "base_uri": "https://localhost:8080/"
        },
        "id": "zm7KjFer0GfA",
        "outputId": "a2f922dd-3993-4889-a2fd-794d75ba8706"
      },
      "outputs": [
        {
          "name": "stdout",
          "output_type": "stream",
          "text": [
            "El tamaño del dataset es (26296946, 20)\n"
          ]
        }
      ],
      "source": [
        "dtypes={\n",
        "    'elapsed_time':np.int32,\n",
        "    'event_name':'category',\n",
        "    'name':'category',\n",
        "    'level':np.uint8,\n",
        "    'room_coor_x':np.float32,\n",
        "    'room_coor_y':np.float32,\n",
        "    'screen_coor_x':np.float32,\n",
        "    'screen_coor_y':np.float32,\n",
        "    'hover_duration':np.float32,\n",
        "    'text':'category',\n",
        "    'fqid':'category',\n",
        "    'room_fqid':'category',\n",
        "    'text_fqid':'category',\n",
        "    'fullscreen':'category',\n",
        "    'hq':'category',\n",
        "    'music':'category',\n",
        "    'level_group':'category'}\n",
        "\n",
        "df = pd.read_csv('/content/train.csv', dtype=dtypes)\n",
        "print(\"El tamaño del dataset es {}\".format(df.shape))"
      ]
    },
    {
      "cell_type": "code",
      "execution_count": null,
      "metadata": {
        "colab": {
          "base_uri": "https://localhost:8080/",
          "height": 444
        },
        "id": "dkSVHUJL59By",
        "outputId": "3a6e6387-5fae-4016-efe9-673f813f4cfd"
      },
      "outputs": [
        {
          "data": {
            "text/html": [
              "\n",
              "  <div id=\"df-15f3bdf1-9317-499b-abfc-56a1e391a3d2\">\n",
              "    <div class=\"colab-df-container\">\n",
              "      <div>\n",
              "<style scoped>\n",
              "    .dataframe tbody tr th:only-of-type {\n",
              "        vertical-align: middle;\n",
              "    }\n",
              "\n",
              "    .dataframe tbody tr th {\n",
              "        vertical-align: top;\n",
              "    }\n",
              "\n",
              "    .dataframe thead th {\n",
              "        text-align: right;\n",
              "    }\n",
              "</style>\n",
              "<table border=\"1\" class=\"dataframe\">\n",
              "  <thead>\n",
              "    <tr style=\"text-align: right;\">\n",
              "      <th></th>\n",
              "      <th>session_id</th>\n",
              "      <th>index</th>\n",
              "      <th>elapsed_time</th>\n",
              "      <th>event_name</th>\n",
              "      <th>name</th>\n",
              "      <th>level</th>\n",
              "      <th>page</th>\n",
              "      <th>room_coor_x</th>\n",
              "      <th>room_coor_y</th>\n",
              "      <th>screen_coor_x</th>\n",
              "      <th>screen_coor_y</th>\n",
              "      <th>hover_duration</th>\n",
              "      <th>text</th>\n",
              "      <th>fqid</th>\n",
              "      <th>room_fqid</th>\n",
              "      <th>text_fqid</th>\n",
              "      <th>fullscreen</th>\n",
              "      <th>hq</th>\n",
              "      <th>music</th>\n",
              "      <th>level_group</th>\n",
              "    </tr>\n",
              "  </thead>\n",
              "  <tbody>\n",
              "    <tr>\n",
              "      <th>0</th>\n",
              "      <td>20090312431273200</td>\n",
              "      <td>0</td>\n",
              "      <td>0</td>\n",
              "      <td>cutscene_click</td>\n",
              "      <td>basic</td>\n",
              "      <td>0</td>\n",
              "      <td>NaN</td>\n",
              "      <td>-413.991394</td>\n",
              "      <td>-159.314682</td>\n",
              "      <td>380.0</td>\n",
              "      <td>494.0</td>\n",
              "      <td>NaN</td>\n",
              "      <td>undefined</td>\n",
              "      <td>intro</td>\n",
              "      <td>tunic.historicalsociety.closet</td>\n",
              "      <td>tunic.historicalsociety.closet.intro</td>\n",
              "      <td>0</td>\n",
              "      <td>0</td>\n",
              "      <td>1</td>\n",
              "      <td>0-4</td>\n",
              "    </tr>\n",
              "    <tr>\n",
              "      <th>1</th>\n",
              "      <td>20090312431273200</td>\n",
              "      <td>1</td>\n",
              "      <td>1323</td>\n",
              "      <td>person_click</td>\n",
              "      <td>basic</td>\n",
              "      <td>0</td>\n",
              "      <td>NaN</td>\n",
              "      <td>-413.991394</td>\n",
              "      <td>-159.314682</td>\n",
              "      <td>380.0</td>\n",
              "      <td>494.0</td>\n",
              "      <td>NaN</td>\n",
              "      <td>Whatcha doing over there, Jo?</td>\n",
              "      <td>gramps</td>\n",
              "      <td>tunic.historicalsociety.closet</td>\n",
              "      <td>tunic.historicalsociety.closet.gramps.intro_0_...</td>\n",
              "      <td>0</td>\n",
              "      <td>0</td>\n",
              "      <td>1</td>\n",
              "      <td>0-4</td>\n",
              "    </tr>\n",
              "    <tr>\n",
              "      <th>2</th>\n",
              "      <td>20090312431273200</td>\n",
              "      <td>2</td>\n",
              "      <td>831</td>\n",
              "      <td>person_click</td>\n",
              "      <td>basic</td>\n",
              "      <td>0</td>\n",
              "      <td>NaN</td>\n",
              "      <td>-413.991394</td>\n",
              "      <td>-159.314682</td>\n",
              "      <td>380.0</td>\n",
              "      <td>494.0</td>\n",
              "      <td>NaN</td>\n",
              "      <td>Just talking to Teddy.</td>\n",
              "      <td>gramps</td>\n",
              "      <td>tunic.historicalsociety.closet</td>\n",
              "      <td>tunic.historicalsociety.closet.gramps.intro_0_...</td>\n",
              "      <td>0</td>\n",
              "      <td>0</td>\n",
              "      <td>1</td>\n",
              "      <td>0-4</td>\n",
              "    </tr>\n",
              "    <tr>\n",
              "      <th>3</th>\n",
              "      <td>20090312431273200</td>\n",
              "      <td>3</td>\n",
              "      <td>1147</td>\n",
              "      <td>person_click</td>\n",
              "      <td>basic</td>\n",
              "      <td>0</td>\n",
              "      <td>NaN</td>\n",
              "      <td>-413.991394</td>\n",
              "      <td>-159.314682</td>\n",
              "      <td>380.0</td>\n",
              "      <td>494.0</td>\n",
              "      <td>NaN</td>\n",
              "      <td>I gotta run to my meeting!</td>\n",
              "      <td>gramps</td>\n",
              "      <td>tunic.historicalsociety.closet</td>\n",
              "      <td>tunic.historicalsociety.closet.gramps.intro_0_...</td>\n",
              "      <td>0</td>\n",
              "      <td>0</td>\n",
              "      <td>1</td>\n",
              "      <td>0-4</td>\n",
              "    </tr>\n",
              "    <tr>\n",
              "      <th>4</th>\n",
              "      <td>20090312431273200</td>\n",
              "      <td>4</td>\n",
              "      <td>1863</td>\n",
              "      <td>person_click</td>\n",
              "      <td>basic</td>\n",
              "      <td>0</td>\n",
              "      <td>NaN</td>\n",
              "      <td>-412.991394</td>\n",
              "      <td>-159.314682</td>\n",
              "      <td>381.0</td>\n",
              "      <td>494.0</td>\n",
              "      <td>NaN</td>\n",
              "      <td>Can I come, Gramps?</td>\n",
              "      <td>gramps</td>\n",
              "      <td>tunic.historicalsociety.closet</td>\n",
              "      <td>tunic.historicalsociety.closet.gramps.intro_0_...</td>\n",
              "      <td>0</td>\n",
              "      <td>0</td>\n",
              "      <td>1</td>\n",
              "      <td>0-4</td>\n",
              "    </tr>\n",
              "  </tbody>\n",
              "</table>\n",
              "</div>\n",
              "      <button class=\"colab-df-convert\" onclick=\"convertToInteractive('df-15f3bdf1-9317-499b-abfc-56a1e391a3d2')\"\n",
              "              title=\"Convert this dataframe to an interactive table.\"\n",
              "              style=\"display:none;\">\n",
              "        \n",
              "  <svg xmlns=\"http://www.w3.org/2000/svg\" height=\"24px\"viewBox=\"0 0 24 24\"\n",
              "       width=\"24px\">\n",
              "    <path d=\"M0 0h24v24H0V0z\" fill=\"none\"/>\n",
              "    <path d=\"M18.56 5.44l.94 2.06.94-2.06 2.06-.94-2.06-.94-.94-2.06-.94 2.06-2.06.94zm-11 1L8.5 8.5l.94-2.06 2.06-.94-2.06-.94L8.5 2.5l-.94 2.06-2.06.94zm10 10l.94 2.06.94-2.06 2.06-.94-2.06-.94-.94-2.06-.94 2.06-2.06.94z\"/><path d=\"M17.41 7.96l-1.37-1.37c-.4-.4-.92-.59-1.43-.59-.52 0-1.04.2-1.43.59L10.3 9.45l-7.72 7.72c-.78.78-.78 2.05 0 2.83L4 21.41c.39.39.9.59 1.41.59.51 0 1.02-.2 1.41-.59l7.78-7.78 2.81-2.81c.8-.78.8-2.07 0-2.86zM5.41 20L4 18.59l7.72-7.72 1.47 1.35L5.41 20z\"/>\n",
              "  </svg>\n",
              "      </button>\n",
              "      \n",
              "  <style>\n",
              "    .colab-df-container {\n",
              "      display:flex;\n",
              "      flex-wrap:wrap;\n",
              "      gap: 12px;\n",
              "    }\n",
              "\n",
              "    .colab-df-convert {\n",
              "      background-color: #E8F0FE;\n",
              "      border: none;\n",
              "      border-radius: 50%;\n",
              "      cursor: pointer;\n",
              "      display: none;\n",
              "      fill: #1967D2;\n",
              "      height: 32px;\n",
              "      padding: 0 0 0 0;\n",
              "      width: 32px;\n",
              "    }\n",
              "\n",
              "    .colab-df-convert:hover {\n",
              "      background-color: #E2EBFA;\n",
              "      box-shadow: 0px 1px 2px rgba(60, 64, 67, 0.3), 0px 1px 3px 1px rgba(60, 64, 67, 0.15);\n",
              "      fill: #174EA6;\n",
              "    }\n",
              "\n",
              "    [theme=dark] .colab-df-convert {\n",
              "      background-color: #3B4455;\n",
              "      fill: #D2E3FC;\n",
              "    }\n",
              "\n",
              "    [theme=dark] .colab-df-convert:hover {\n",
              "      background-color: #434B5C;\n",
              "      box-shadow: 0px 1px 3px 1px rgba(0, 0, 0, 0.15);\n",
              "      filter: drop-shadow(0px 1px 2px rgba(0, 0, 0, 0.3));\n",
              "      fill: #FFFFFF;\n",
              "    }\n",
              "  </style>\n",
              "\n",
              "      <script>\n",
              "        const buttonEl =\n",
              "          document.querySelector('#df-15f3bdf1-9317-499b-abfc-56a1e391a3d2 button.colab-df-convert');\n",
              "        buttonEl.style.display =\n",
              "          google.colab.kernel.accessAllowed ? 'block' : 'none';\n",
              "\n",
              "        async function convertToInteractive(key) {\n",
              "          const element = document.querySelector('#df-15f3bdf1-9317-499b-abfc-56a1e391a3d2');\n",
              "          const dataTable =\n",
              "            await google.colab.kernel.invokeFunction('convertToInteractive',\n",
              "                                                     [key], {});\n",
              "          if (!dataTable) return;\n",
              "\n",
              "          const docLinkHtml = 'Like what you see? Visit the ' +\n",
              "            '<a target=\"_blank\" href=https://colab.research.google.com/notebooks/data_table.ipynb>data table notebook</a>'\n",
              "            + ' to learn more about interactive tables.';\n",
              "          element.innerHTML = '';\n",
              "          dataTable['output_type'] = 'display_data';\n",
              "          await google.colab.output.renderOutput(dataTable, element);\n",
              "          const docLink = document.createElement('div');\n",
              "          docLink.innerHTML = docLinkHtml;\n",
              "          element.appendChild(docLink);\n",
              "        }\n",
              "      </script>\n",
              "    </div>\n",
              "  </div>\n",
              "  "
            ],
            "text/plain": [
              "          session_id  index  elapsed_time      event_name   name  level  page  \\\n",
              "0  20090312431273200      0             0  cutscene_click  basic      0   NaN   \n",
              "1  20090312431273200      1          1323    person_click  basic      0   NaN   \n",
              "2  20090312431273200      2           831    person_click  basic      0   NaN   \n",
              "3  20090312431273200      3          1147    person_click  basic      0   NaN   \n",
              "4  20090312431273200      4          1863    person_click  basic      0   NaN   \n",
              "\n",
              "   room_coor_x  room_coor_y  screen_coor_x  screen_coor_y  hover_duration  \\\n",
              "0  -413.991394  -159.314682          380.0          494.0             NaN   \n",
              "1  -413.991394  -159.314682          380.0          494.0             NaN   \n",
              "2  -413.991394  -159.314682          380.0          494.0             NaN   \n",
              "3  -413.991394  -159.314682          380.0          494.0             NaN   \n",
              "4  -412.991394  -159.314682          381.0          494.0             NaN   \n",
              "\n",
              "                            text    fqid                       room_fqid  \\\n",
              "0                      undefined   intro  tunic.historicalsociety.closet   \n",
              "1  Whatcha doing over there, Jo?  gramps  tunic.historicalsociety.closet   \n",
              "2         Just talking to Teddy.  gramps  tunic.historicalsociety.closet   \n",
              "3     I gotta run to my meeting!  gramps  tunic.historicalsociety.closet   \n",
              "4            Can I come, Gramps?  gramps  tunic.historicalsociety.closet   \n",
              "\n",
              "                                           text_fqid fullscreen hq music  \\\n",
              "0               tunic.historicalsociety.closet.intro          0  0     1   \n",
              "1  tunic.historicalsociety.closet.gramps.intro_0_...          0  0     1   \n",
              "2  tunic.historicalsociety.closet.gramps.intro_0_...          0  0     1   \n",
              "3  tunic.historicalsociety.closet.gramps.intro_0_...          0  0     1   \n",
              "4  tunic.historicalsociety.closet.gramps.intro_0_...          0  0     1   \n",
              "\n",
              "  level_group  \n",
              "0         0-4  \n",
              "1         0-4  \n",
              "2         0-4  \n",
              "3         0-4  \n",
              "4         0-4  "
            ]
          },
          "execution_count": 8,
          "metadata": {},
          "output_type": "execute_result"
        }
      ],
      "source": [
        "df.head()"
      ]
    },
    {
      "cell_type": "code",
      "execution_count": null,
      "metadata": {
        "colab": {
          "base_uri": "https://localhost:8080/"
        },
        "id": "ayfWDeQX6Lo2",
        "outputId": "3b8c1dba-7593-4ffe-fa0e-9df11b3b268c"
      },
      "outputs": [
        {
          "data": {
            "text/plain": [
              "Index(['session_id', 'index', 'elapsed_time', 'event_name', 'name', 'level',\n",
              "       'page', 'room_coor_x', 'room_coor_y', 'screen_coor_x', 'screen_coor_y',\n",
              "       'hover_duration', 'text', 'fqid', 'room_fqid', 'text_fqid',\n",
              "       'fullscreen', 'hq', 'music', 'level_group'],\n",
              "      dtype='object')"
            ]
          },
          "execution_count": 9,
          "metadata": {},
          "output_type": "execute_result"
        }
      ],
      "source": [
        "df.columns"
      ]
    },
    {
      "cell_type": "code",
      "execution_count": null,
      "metadata": {
        "colab": {
          "base_uri": "https://localhost:8080/"
        },
        "id": "E3VmCnxj6Tzi",
        "outputId": "b40b7f81-4a62-41ab-b642-cbaa76e7d05e"
      },
      "outputs": [
        {
          "name": "stdout",
          "output_type": "stream",
          "text": [
            "Número de duplicados:  (0, 20)\n"
          ]
        }
      ],
      "source": [
        "print(\"Número de duplicados: \", df[df.duplicated()].shape)"
      ]
    },
    {
      "cell_type": "code",
      "execution_count": null,
      "metadata": {
        "colab": {
          "base_uri": "https://localhost:8080/"
        },
        "id": "D98BwgcV6UIp",
        "outputId": "a67ac63b-7c22-403f-eb34-0fc58ecd9cff"
      },
      "outputs": [
        {
          "data": {
            "text/plain": [
              "session_id               0\n",
              "index                    0\n",
              "elapsed_time             0\n",
              "event_name               0\n",
              "name                     0\n",
              "level                    0\n",
              "page              25732402\n",
              "room_coor_x        2073272\n",
              "room_coor_y        2073272\n",
              "screen_coor_x      2073272\n",
              "screen_coor_y      2073272\n",
              "hover_duration    24294702\n",
              "text              16679807\n",
              "fqid               8274415\n",
              "room_fqid                0\n",
              "text_fqid         16679702\n",
              "fullscreen               0\n",
              "hq                       0\n",
              "music                    0\n",
              "level_group              0\n",
              "dtype: int64"
            ]
          },
          "execution_count": 5,
          "metadata": {},
          "output_type": "execute_result"
        }
      ],
      "source": [
        "df.isna().sum()"
      ]
    },
    {
      "cell_type": "markdown",
      "metadata": {
        "id": "-qr2Sa6OqNlC"
      },
      "source": [
        "Imputaré los missings más adelante."
      ]
    },
    {
      "cell_type": "code",
      "execution_count": null,
      "metadata": {
        "colab": {
          "base_uri": "https://localhost:8080/"
        },
        "id": "VCXuZ6KB-OMx",
        "outputId": "b0c40c11-9823-4f61-bae2-652672888e2f"
      },
      "outputs": [
        {
          "data": {
            "text/plain": [
              "session_id           int64\n",
              "index                int64\n",
              "elapsed_time         int32\n",
              "event_name        category\n",
              "name              category\n",
              "level                uint8\n",
              "page               float64\n",
              "room_coor_x        float32\n",
              "room_coor_y        float32\n",
              "screen_coor_x      float32\n",
              "screen_coor_y      float32\n",
              "hover_duration     float32\n",
              "text              category\n",
              "fqid              category\n",
              "room_fqid         category\n",
              "text_fqid         category\n",
              "fullscreen        category\n",
              "hq                category\n",
              "music             category\n",
              "level_group       category\n",
              "dtype: object"
            ]
          },
          "execution_count": 6,
          "metadata": {},
          "output_type": "execute_result"
        }
      ],
      "source": [
        "df.dtypes"
      ]
    },
    {
      "cell_type": "markdown",
      "metadata": {
        "id": "tol4-eMuvYXB"
      },
      "source": [
        "Vamos a echar un vistazo a las distintas variables, y algunas categóricas las transformaremos a numéricas."
      ]
    },
    {
      "cell_type": "code",
      "execution_count": null,
      "metadata": {
        "id": "SZ3mMPVSl5aS"
      },
      "outputs": [],
      "source": [
        "le = LabelEncoder()"
      ]
    },
    {
      "cell_type": "code",
      "execution_count": null,
      "metadata": {
        "colab": {
          "base_uri": "https://localhost:8080/"
        },
        "id": "tXwP9KIA6UwD",
        "outputId": "22de8724-eae7-4034-fb52-9eed8f896658"
      },
      "outputs": [
        {
          "data": {
            "text/plain": [
              "['cutscene_click', 'person_click', 'navigate_click', 'observation_click', 'notification_click', ..., 'object_hover', 'map_hover', 'map_click', 'checkpoint', 'notebook_click']\n",
              "Length: 11\n",
              "Categories (11, object): ['checkpoint', 'cutscene_click', 'map_click', 'map_hover', ...,\n",
              "                          'object_click', 'object_hover', 'observation_click', 'person_click']"
            ]
          },
          "execution_count": 8,
          "metadata": {},
          "output_type": "execute_result"
        }
      ],
      "source": [
        "df['event_name'].unique()"
      ]
    },
    {
      "cell_type": "code",
      "execution_count": null,
      "metadata": {
        "colab": {
          "base_uri": "https://localhost:8080/"
        },
        "id": "ZiSkello_s49",
        "outputId": "e7d5caca-a26a-46df-e785-e9ca28eca0a8"
      },
      "outputs": [
        {
          "data": {
            "text/plain": [
              "array([ 1, 10,  4,  9,  6,  7,  8,  3,  2,  0,  5])"
            ]
          },
          "execution_count": 9,
          "metadata": {},
          "output_type": "execute_result"
        }
      ],
      "source": [
        "df['event_name'] = le.fit_transform(df['event_name'])\n",
        "df['event_name'].unique()"
      ]
    },
    {
      "cell_type": "code",
      "execution_count": null,
      "metadata": {
        "colab": {
          "base_uri": "https://localhost:8080/"
        },
        "id": "mcU7J8gP916f",
        "outputId": "ffb7b609-973c-4250-ee30-764005dfe597"
      },
      "outputs": [
        {
          "data": {
            "text/plain": [
              "['basic', 'undefined', 'close', 'open', 'prev', 'next']\n",
              "Categories (6, object): ['basic', 'close', 'next', 'open', 'prev', 'undefined']"
            ]
          },
          "execution_count": 10,
          "metadata": {},
          "output_type": "execute_result"
        }
      ],
      "source": [
        "df['name'].unique()"
      ]
    },
    {
      "cell_type": "code",
      "execution_count": null,
      "metadata": {
        "colab": {
          "base_uri": "https://localhost:8080/"
        },
        "id": "c5YZQaIPC8Lb",
        "outputId": "2a0f2b1a-5372-47d7-e42e-63881b1e4625"
      },
      "outputs": [
        {
          "data": {
            "text/plain": [
              "array([0, 5, 1, 3, 4, 2])"
            ]
          },
          "execution_count": 11,
          "metadata": {},
          "output_type": "execute_result"
        }
      ],
      "source": [
        "df['name'] = le.fit_transform(df['name'])\n",
        "df['name'].unique()"
      ]
    },
    {
      "cell_type": "code",
      "execution_count": null,
      "metadata": {
        "colab": {
          "base_uri": "https://localhost:8080/"
        },
        "id": "6GS40_aXnWWg",
        "outputId": "bff5779a-07f1-4606-fe39-00ee582b20cd"
      },
      "outputs": [
        {
          "data": {
            "text/plain": [
              "['undefined', 'Whatcha doing over there, Jo?', 'Just talking to Teddy.', 'I gotta run to my meeting!', 'Can I come, Gramps?', ..., 'Come on, Jo!', 'Meet me back in my office and we'll get start..., 'Here I am!', 'Wells sabotaged Gramps!', 'AND he stole Teddy!']\n",
              "Length: 598\n",
              "Categories (597, object): ['*COUGH COUGH COUGH*', '*cough cough*', '*grumble grumble*',\n",
              "                           'A boring old shirt.', ..., 'Wells sabotaged Gramps!',\n",
              "                           'Wells! Where's Teddy? Is he okay?', 'Who is Teddy?', 'Why don't you prove your case?']"
            ]
          },
          "execution_count": 12,
          "metadata": {},
          "output_type": "execute_result"
        }
      ],
      "source": [
        "df['text'].unique()"
      ]
    },
    {
      "cell_type": "code",
      "execution_count": null,
      "metadata": {
        "colab": {
          "base_uri": "https://localhost:8080/"
        },
        "id": "ZXnNdzfFAD0g",
        "outputId": "e47c401b-4f46-47e6-f782-a2b51097525a"
      },
      "outputs": [
        {
          "data": {
            "text/plain": [
              "['intro', 'gramps', 'teddy', 'photo', NaN, ..., 'block_badge', 'fox', 'block_badge_2', 'block_1', 'chap2_finale']\n",
              "Length: 129\n",
              "Categories (128, object): ['archivist', 'archivist_glasses', 'block', 'block_0', ..., 'fox',\n",
              "                           'block_badge_2', 'block_1', 'chap2_finale']"
            ]
          },
          "execution_count": 13,
          "metadata": {},
          "output_type": "execute_result"
        }
      ],
      "source": [
        "df['fqid'].unique()"
      ]
    },
    {
      "cell_type": "code",
      "execution_count": null,
      "metadata": {
        "colab": {
          "base_uri": "https://localhost:8080/"
        },
        "id": "zrCW60ElDEhu",
        "outputId": "10d2ee33-3a0a-42de-a543-195120431120"
      },
      "outputs": [
        {
          "data": {
            "text/plain": [
              "['tunic.historicalsociety.closet', 'tunic.historicalsociety.basement', 'tunic.historicalsociety.entry', 'tunic.historicalsociety.collection', 'tunic.historicalsociety.stacks', ..., 'tunic.historicalsociety.cage', 'tunic.historicalsociety.collection_flag', 'tunic.wildlife.center', 'tunic.flaghouse.entry', 'tunic.capitol_2.hall']\n",
              "Length: 19\n",
              "Categories (19, object): ['tunic.capitol_0.hall', 'tunic.capitol_1.hall', 'tunic.capitol_2.hall',\n",
              "                          'tunic.drycleaner.frontdesk', ..., 'tunic.kohlcenter.halloffame',\n",
              "                          'tunic.library.frontdesk', 'tunic.library.microfiche', 'tunic.wildlife.center']"
            ]
          },
          "execution_count": 14,
          "metadata": {},
          "output_type": "execute_result"
        }
      ],
      "source": [
        "df['room_fqid'].unique()"
      ]
    },
    {
      "cell_type": "code",
      "execution_count": null,
      "metadata": {
        "colab": {
          "base_uri": "https://localhost:8080/"
        },
        "id": "zf1ZSseAEJZG",
        "outputId": "eae9197c-3c02-4731-b156-907e77375789"
      },
      "outputs": [
        {
          "data": {
            "text/plain": [
              "['tunic.historicalsociety.closet.intro', 'tunic.historicalsociety.closet.gramps.intro_0..., 'tunic.historicalsociety.closet.teddy.intro_0_..., NaN, 'tunic.historicalsociety.closet.teddy.intro_0_..., ..., 'tunic.wildlife.center.fox.concern', 'tunic.library.frontdesk.block_badge_2', 'tunic.historicalsociety.entry.gramps.hub', 'tunic.humanecology.frontdesk.block_1', 'tunic.drycleaner.frontdesk.block_1']\n",
              "Length: 127\n",
              "Categories (126, object): ['tunic.capitol_0.hall.boss.talktogramps', 'tunic.capitol_0.hall.chap1_finale_c',\n",
              "                           'tunic.capitol_1.hall.boss.haveyougotit', 'tunic.capitol_1.hall.boss.writeitup', ...,\n",
              "                           'tunic.library.frontdesk.block_badge_2', 'tunic.historicalsociety.entry.gramps.hub',\n",
              "                           'tunic.humanecology.frontdesk.block_1', 'tunic.drycleaner.frontdesk.block_1']"
            ]
          },
          "execution_count": 15,
          "metadata": {},
          "output_type": "execute_result"
        }
      ],
      "source": [
        "df['text_fqid'].unique()"
      ]
    },
    {
      "cell_type": "code",
      "execution_count": null,
      "metadata": {
        "colab": {
          "base_uri": "https://localhost:8080/"
        },
        "id": "tyMfh0V2EUeP",
        "outputId": "019c0d5d-9abb-48c0-ad9a-2ad1a646764a"
      },
      "outputs": [
        {
          "data": {
            "text/plain": [
              "['0', '1']\n",
              "Categories (2, object): ['0', '1']"
            ]
          },
          "execution_count": 16,
          "metadata": {},
          "output_type": "execute_result"
        }
      ],
      "source": [
        "df['fullscreen'].unique()"
      ]
    },
    {
      "cell_type": "code",
      "execution_count": null,
      "metadata": {
        "colab": {
          "base_uri": "https://localhost:8080/"
        },
        "id": "d4bs8R--Eaj7",
        "outputId": "418e7fb1-cbe9-4a14-e995-c0b98c634bc0"
      },
      "outputs": [
        {
          "data": {
            "text/plain": [
              "array([0, 1])"
            ]
          },
          "execution_count": 17,
          "metadata": {},
          "output_type": "execute_result"
        }
      ],
      "source": [
        "df['fullscreen'] = df['fullscreen'].astype(int)\n",
        "df['fullscreen'].unique()"
      ]
    },
    {
      "cell_type": "code",
      "execution_count": null,
      "metadata": {
        "colab": {
          "base_uri": "https://localhost:8080/"
        },
        "id": "z867yN4dEiML",
        "outputId": "47ef36a7-293c-422f-c640-ee9fe8235ea6"
      },
      "outputs": [
        {
          "data": {
            "text/plain": [
              "['0', '1']\n",
              "Categories (2, object): ['0', '1']"
            ]
          },
          "execution_count": 18,
          "metadata": {},
          "output_type": "execute_result"
        }
      ],
      "source": [
        "df['hq'].unique()"
      ]
    },
    {
      "cell_type": "code",
      "execution_count": null,
      "metadata": {
        "colab": {
          "base_uri": "https://localhost:8080/"
        },
        "id": "IZjLpL2REm8b",
        "outputId": "6581e006-7fbe-4518-af7b-84e17d77bc4a"
      },
      "outputs": [
        {
          "data": {
            "text/plain": [
              "array([0, 1])"
            ]
          },
          "execution_count": 19,
          "metadata": {},
          "output_type": "execute_result"
        }
      ],
      "source": [
        "df['hq'] = df['hq'].astype(int)\n",
        "df['hq'].unique()"
      ]
    },
    {
      "cell_type": "code",
      "execution_count": null,
      "metadata": {
        "colab": {
          "base_uri": "https://localhost:8080/"
        },
        "id": "rhbl9smpEsiE",
        "outputId": "084ff6f9-7879-4bad-f911-aa914b0d0050"
      },
      "outputs": [
        {
          "data": {
            "text/plain": [
              "['1', '0']\n",
              "Categories (2, object): ['0', '1']"
            ]
          },
          "execution_count": 20,
          "metadata": {},
          "output_type": "execute_result"
        }
      ],
      "source": [
        "df['music'].unique()"
      ]
    },
    {
      "cell_type": "code",
      "execution_count": null,
      "metadata": {
        "colab": {
          "base_uri": "https://localhost:8080/"
        },
        "id": "2NUbLcXmEv7K",
        "outputId": "36ee0716-2e5d-428b-eb76-24615237bc1a"
      },
      "outputs": [
        {
          "data": {
            "text/plain": [
              "array([1, 0])"
            ]
          },
          "execution_count": 21,
          "metadata": {},
          "output_type": "execute_result"
        }
      ],
      "source": [
        "df['music'] = df['music'].astype(int)\n",
        "df['music'].unique()"
      ]
    },
    {
      "cell_type": "code",
      "execution_count": null,
      "metadata": {
        "colab": {
          "base_uri": "https://localhost:8080/"
        },
        "id": "H77we_FlEzfs",
        "outputId": "3dc3e6e2-e173-4327-8320-a51673e60792"
      },
      "outputs": [
        {
          "data": {
            "text/plain": [
              "['0-4', '5-12', '13-22']\n",
              "Categories (3, object): ['0-4', '13-22', '5-12']"
            ]
          },
          "execution_count": 22,
          "metadata": {},
          "output_type": "execute_result"
        }
      ],
      "source": [
        "df['level_group'].unique()"
      ]
    },
    {
      "cell_type": "code",
      "execution_count": null,
      "metadata": {
        "colab": {
          "base_uri": "https://localhost:8080/"
        },
        "id": "snO_2z8WFL4e",
        "outputId": "c0f64bb5-c9ab-40df-cb45-a3076e1ca1de"
      },
      "outputs": [
        {
          "data": {
            "text/plain": [
              "[1, 2, 3]\n",
              "Categories (3, int64): [1, 3, 2]"
            ]
          },
          "execution_count": 23,
          "metadata": {},
          "output_type": "execute_result"
        }
      ],
      "source": [
        "map = {'0-4': 1, '5-12': 2, '13-22': 3}\n",
        "df['level_group'] = df['level_group'].replace(map)\n",
        "df['level_group'].unique()"
      ]
    },
    {
      "cell_type": "code",
      "execution_count": null,
      "metadata": {
        "colab": {
          "base_uri": "https://localhost:8080/"
        },
        "id": "4MwKDbaGZijg",
        "outputId": "fc5585b4-d5a3-4d60-9cc3-ba334b94b9e8"
      },
      "outputs": [
        {
          "name": "stdout",
          "output_type": "stream",
          "text": [
            "<class 'pandas.core.frame.DataFrame'>\n",
            "RangeIndex: 26296946 entries, 0 to 26296945\n",
            "Data columns (total 20 columns):\n",
            " #   Column          Dtype   \n",
            "---  ------          -----   \n",
            " 0   session_id      int64   \n",
            " 1   index           int64   \n",
            " 2   elapsed_time    int32   \n",
            " 3   event_name      int64   \n",
            " 4   name            int64   \n",
            " 5   level           uint8   \n",
            " 6   page            float64 \n",
            " 7   room_coor_x     float32 \n",
            " 8   room_coor_y     float32 \n",
            " 9   screen_coor_x   float32 \n",
            " 10  screen_coor_y   float32 \n",
            " 11  hover_duration  float32 \n",
            " 12  text            category\n",
            " 13  fqid            category\n",
            " 14  room_fqid       category\n",
            " 15  text_fqid       category\n",
            " 16  fullscreen      int64   \n",
            " 17  hq              int64   \n",
            " 18  music           int64   \n",
            " 19  level_group     category\n",
            "dtypes: category(5), float32(5), float64(1), int32(1), int64(7), uint8(1)\n",
            "memory usage: 2.4 GB\n"
          ]
        }
      ],
      "source": [
        "df.info()"
      ]
    },
    {
      "cell_type": "markdown",
      "metadata": {
        "id": "fVMlPqOOabZa"
      },
      "source": [
        "# 2. Análisis Exploratorio"
      ]
    },
    {
      "cell_type": "markdown",
      "metadata": {
        "id": "M6S0vJWCafGc"
      },
      "source": [
        "Veamos cómo se distribuyen algunas variables."
      ]
    },
    {
      "cell_type": "markdown",
      "metadata": {
        "id": "mDjOWC6RalBg"
      },
      "source": [
        "Echemos un vistazo a las variables binarias:"
      ]
    },
    {
      "cell_type": "code",
      "execution_count": null,
      "metadata": {
        "colab": {
          "base_uri": "https://localhost:8080/",
          "height": 408
        },
        "id": "cQx1wysyWYBv",
        "outputId": "6ca52631-32e5-4760-8698-89a167462ef8"
      },
      "outputs": [
        {
          "data": {
            "image/png": "[encoded data removed]",
            "text/plain": [
              "<Figure size 1500x500 with 3 Axes>"
            ]
          },
          "metadata": {},
          "output_type": "display_data"
        }
      ],
      "source": [
        "fig, axes = plt.subplots(1, 3, figsize=(15, 5))\n",
        "\n",
        "sns.countplot(x=\"fullscreen\", data=df, ax=axes[0], color='#44B497' )\n",
        "axes[0].set_title(\"Pantalla Completa\")\n",
        "\n",
        "sns.countplot(x=\"hq\", data=df, ax=axes[1], color='#8C4D28')\n",
        "axes[1].set_title(\"High Quality\")\n",
        "\n",
        "sns.countplot(x=\"music\", data=df, ax=axes[2], color='#2A6C5B')\n",
        "axes[2].set_title(\"Música\")\n",
        "\n",
        "plt.tight_layout()\n",
        "plt.show()"
      ]
    },
    {
      "cell_type": "markdown",
      "metadata": {
        "id": "pUBfS3Sfav8S"
      },
      "source": [
        "Veamos si la coordenadas de la pantalla están muy concentradas en algunos puntos:"
      ]
    },
    {
      "cell_type": "code",
      "execution_count": null,
      "metadata": {
        "colab": {
          "base_uri": "https://localhost:8080/",
          "height": 466
        },
        "id": "RRwMzY0UfOZE",
        "outputId": "8c0ae5d8-24ea-403c-9c69-16d319b1c073"
      },
      "outputs": [
        {
          "data": {
            "text/plain": [
              "<Axes: xlabel='screen_coor_x', ylabel='screen_coor_y'>"
            ]
          },
          "execution_count": 26,
          "metadata": {},
          "output_type": "execute_result"
        },
        {
          "data": {
            "image/png": "[encoded data removed]",
            "text/plain": [
              "<Figure size 640x480 with 1 Axes>"
            ]
          },
          "metadata": {},
          "output_type": "display_data"
        }
      ],
      "source": [
        "sns.scatterplot(data=df, x='screen_coor_x', y='screen_coor_y', s=10)"
      ]
    },
    {
      "cell_type": "markdown",
      "metadata": {
        "id": "GFvlopv7bR7a"
      },
      "source": [
        "Están distribuidos por casi toda la pantalla."
      ]
    },
    {
      "cell_type": "markdown",
      "metadata": {
        "id": "FbzS0glbbflM"
      },
      "source": [
        "Veamos la duración de los tiempos en elapsed_time, y hover_duration:"
      ]
    },
    {
      "cell_type": "code",
      "execution_count": null,
      "metadata": {
        "colab": {
          "base_uri": "https://localhost:8080/",
          "height": 507
        },
        "id": "BAlux1GXbupp",
        "outputId": "bd2ce8ff-8d5e-4610-9a79-df658b0e4128"
      },
      "outputs": [
        {
          "data": {
            "image/png": "[encoded data removed]",
            "text/plain": [
              "<Figure size 1000x500 with 2 Axes>"
            ]
          },
          "metadata": {},
          "output_type": "display_data"
        }
      ],
      "source": [
        "fig, axes = plt.subplots(1, 2, figsize=(10, 5))\n",
        "\n",
        "axes[0].plot(range(1, len(df['elapsed_time'])+1), df['elapsed_time'], color='#44B497')\n",
        "axes[0].set_title(\"Tiempo Transcurrido\")\n",
        "\n",
        "axes[1].plot(range(1, len(df['hover_duration'])+1), df['hover_duration'], color='#8C4D28')\n",
        "axes[1].set_title(\"Tiempo Desplazamiento\")\n",
        "\n",
        "plt.tight_layout()\n",
        "plt.show()"
      ]
    },
    {
      "cell_type": "markdown",
      "metadata": {
        "id": "-C-1cJEwxJlJ"
      },
      "source": [
        "Veamos las correlaciones:"
      ]
    },
    {
      "cell_type": "code",
      "execution_count": null,
      "metadata": {
        "colab": {
          "base_uri": "https://localhost:8080/",
          "height": 1000
        },
        "id": "uPZ5_cDQ6Ux7",
        "outputId": "e2c877e6-7b54-4905-b8ff-de557b4179f2"
      },
      "outputs": [
        {
          "name": "stderr",
          "output_type": "stream",
          "text": [
            "<ipython-input-3-b71f1ad88eb2>:2: FutureWarning: The default value of numeric_only in DataFrame.corr is deprecated. In a future version, it will default to False. Select only valid columns or specify the value of numeric_only to silence this warning.\n",
            "  correlaciones = df.corr()\n"
          ]
        },
        {
          "data": {
            "text/html": [
              "\n",
              "  <div id=\"df-f62f3d71-e86b-4c97-9906-b7c4fdb188a3\">\n",
              "    <div class=\"colab-df-container\">\n",
              "      <div>\n",
              "<style scoped>\n",
              "    .dataframe tbody tr th:only-of-type {\n",
              "        vertical-align: middle;\n",
              "    }\n",
              "\n",
              "    .dataframe tbody tr th {\n",
              "        vertical-align: top;\n",
              "    }\n",
              "\n",
              "    .dataframe thead th {\n",
              "        text-align: right;\n",
              "    }\n",
              "</style>\n",
              "<table border=\"1\" class=\"dataframe\">\n",
              "  <thead>\n",
              "    <tr style=\"text-align: right;\">\n",
              "      <th></th>\n",
              "      <th>session_id</th>\n",
              "      <th>index</th>\n",
              "      <th>elapsed_time</th>\n",
              "      <th>event_name</th>\n",
              "      <th>name</th>\n",
              "      <th>level</th>\n",
              "      <th>page</th>\n",
              "      <th>room_coor_x</th>\n",
              "      <th>room_coor_y</th>\n",
              "      <th>screen_coor_x</th>\n",
              "      <th>screen_coor_y</th>\n",
              "      <th>hover_duration</th>\n",
              "      <th>fullscreen</th>\n",
              "      <th>hq</th>\n",
              "      <th>music</th>\n",
              "    </tr>\n",
              "  </thead>\n",
              "  <tbody>\n",
              "    <tr>\n",
              "      <th>session_id</th>\n",
              "      <td>1.000000</td>\n",
              "      <td>-0.037144</td>\n",
              "      <td>0.023360</td>\n",
              "      <td>0.001625</td>\n",
              "      <td>-0.002618</td>\n",
              "      <td>-0.002836</td>\n",
              "      <td>0.013753</td>\n",
              "      <td>-0.000144</td>\n",
              "      <td>-0.003722</td>\n",
              "      <td>0.007001</td>\n",
              "      <td>0.011294</td>\n",
              "      <td>0.001839</td>\n",
              "      <td>0.035642</td>\n",
              "      <td>-0.008608</td>\n",
              "      <td>0.055155</td>\n",
              "    </tr>\n",
              "    <tr>\n",
              "      <th>index</th>\n",
              "      <td>-0.037144</td>\n",
              "      <td>1.000000</td>\n",
              "      <td>0.077711</td>\n",
              "      <td>-0.000016</td>\n",
              "      <td>0.066323</td>\n",
              "      <td>0.658861</td>\n",
              "      <td>0.358802</td>\n",
              "      <td>-0.008766</td>\n",
              "      <td>-0.157396</td>\n",
              "      <td>0.026612</td>\n",
              "      <td>0.029549</td>\n",
              "      <td>-0.002083</td>\n",
              "      <td>-0.016499</td>\n",
              "      <td>-0.004524</td>\n",
              "      <td>0.020011</td>\n",
              "    </tr>\n",
              "    <tr>\n",
              "      <th>elapsed_time</th>\n",
              "      <td>0.023360</td>\n",
              "      <td>0.077711</td>\n",
              "      <td>1.000000</td>\n",
              "      <td>0.001567</td>\n",
              "      <td>0.001707</td>\n",
              "      <td>0.077311</td>\n",
              "      <td>0.076106</td>\n",
              "      <td>-0.002819</td>\n",
              "      <td>-0.018350</td>\n",
              "      <td>0.000510</td>\n",
              "      <td>0.001004</td>\n",
              "      <td>0.017643</td>\n",
              "      <td>0.009317</td>\n",
              "      <td>0.005419</td>\n",
              "      <td>-0.002104</td>\n",
              "    </tr>\n",
              "    <tr>\n",
              "      <th>event_name</th>\n",
              "      <td>0.001625</td>\n",
              "      <td>-0.000016</td>\n",
              "      <td>0.001567</td>\n",
              "      <td>1.000000</td>\n",
              "      <td>-0.423726</td>\n",
              "      <td>0.022757</td>\n",
              "      <td>NaN</td>\n",
              "      <td>0.074539</td>\n",
              "      <td>0.013492</td>\n",
              "      <td>0.010788</td>\n",
              "      <td>-0.115142</td>\n",
              "      <td>0.004364</td>\n",
              "      <td>0.002747</td>\n",
              "      <td>0.001547</td>\n",
              "      <td>-0.004474</td>\n",
              "    </tr>\n",
              "    <tr>\n",
              "      <th>name</th>\n",
              "      <td>-0.002618</td>\n",
              "      <td>0.066323</td>\n",
              "      <td>0.001707</td>\n",
              "      <td>-0.423726</td>\n",
              "      <td>1.000000</td>\n",
              "      <td>0.051244</td>\n",
              "      <td>0.049196</td>\n",
              "      <td>-0.048303</td>\n",
              "      <td>-0.125091</td>\n",
              "      <td>-0.023369</td>\n",
              "      <td>0.135025</td>\n",
              "      <td>0.003316</td>\n",
              "      <td>-0.004642</td>\n",
              "      <td>-0.002354</td>\n",
              "      <td>0.007921</td>\n",
              "    </tr>\n",
              "    <tr>\n",
              "      <th>level</th>\n",
              "      <td>-0.002836</td>\n",
              "      <td>0.658861</td>\n",
              "      <td>0.077311</td>\n",
              "      <td>0.022757</td>\n",
              "      <td>0.051244</td>\n",
              "      <td>1.000000</td>\n",
              "      <td>0.950965</td>\n",
              "      <td>-0.048372</td>\n",
              "      <td>-0.238980</td>\n",
              "      <td>0.031689</td>\n",
              "      <td>0.048497</td>\n",
              "      <td>-0.002294</td>\n",
              "      <td>0.000728</td>\n",
              "      <td>-0.001425</td>\n",
              "      <td>0.002678</td>\n",
              "    </tr>\n",
              "    <tr>\n",
              "      <th>page</th>\n",
              "      <td>0.013753</td>\n",
              "      <td>0.358802</td>\n",
              "      <td>0.076106</td>\n",
              "      <td>NaN</td>\n",
              "      <td>0.049196</td>\n",
              "      <td>0.950965</td>\n",
              "      <td>1.000000</td>\n",
              "      <td>0.004870</td>\n",
              "      <td>-0.095950</td>\n",
              "      <td>0.008742</td>\n",
              "      <td>-0.004217</td>\n",
              "      <td>NaN</td>\n",
              "      <td>0.000845</td>\n",
              "      <td>-0.000944</td>\n",
              "      <td>0.003926</td>\n",
              "    </tr>\n",
              "    <tr>\n",
              "      <th>room_coor_x</th>\n",
              "      <td>-0.000144</td>\n",
              "      <td>-0.008766</td>\n",
              "      <td>-0.002819</td>\n",
              "      <td>0.074539</td>\n",
              "      <td>-0.048303</td>\n",
              "      <td>-0.048372</td>\n",
              "      <td>0.004870</td>\n",
              "      <td>1.000000</td>\n",
              "      <td>0.079033</td>\n",
              "      <td>0.687503</td>\n",
              "      <td>-0.174644</td>\n",
              "      <td>NaN</td>\n",
              "      <td>-0.004769</td>\n",
              "      <td>-0.001764</td>\n",
              "      <td>0.002458</td>\n",
              "    </tr>\n",
              "    <tr>\n",
              "      <th>room_coor_y</th>\n",
              "      <td>-0.003722</td>\n",
              "      <td>-0.157396</td>\n",
              "      <td>-0.018350</td>\n",
              "      <td>0.013492</td>\n",
              "      <td>-0.125091</td>\n",
              "      <td>-0.238980</td>\n",
              "      <td>-0.095950</td>\n",
              "      <td>0.079033</td>\n",
              "      <td>1.000000</td>\n",
              "      <td>0.090904</td>\n",
              "      <td>-0.773422</td>\n",
              "      <td>NaN</td>\n",
              "      <td>0.003291</td>\n",
              "      <td>0.001496</td>\n",
              "      <td>-0.002521</td>\n",
              "    </tr>\n",
              "    <tr>\n",
              "      <th>screen_coor_x</th>\n",
              "      <td>0.007001</td>\n",
              "      <td>0.026612</td>\n",
              "      <td>0.000510</td>\n",
              "      <td>0.010788</td>\n",
              "      <td>-0.023369</td>\n",
              "      <td>0.031689</td>\n",
              "      <td>0.008742</td>\n",
              "      <td>0.687503</td>\n",
              "      <td>0.090904</td>\n",
              "      <td>1.000000</td>\n",
              "      <td>-0.119515</td>\n",
              "      <td>NaN</td>\n",
              "      <td>0.018650</td>\n",
              "      <td>0.004258</td>\n",
              "      <td>0.006376</td>\n",
              "    </tr>\n",
              "    <tr>\n",
              "      <th>screen_coor_y</th>\n",
              "      <td>0.011294</td>\n",
              "      <td>0.029549</td>\n",
              "      <td>0.001004</td>\n",
              "      <td>-0.115142</td>\n",
              "      <td>0.135025</td>\n",
              "      <td>0.048497</td>\n",
              "      <td>-0.004217</td>\n",
              "      <td>-0.174644</td>\n",
              "      <td>-0.773422</td>\n",
              "      <td>-0.119515</td>\n",
              "      <td>1.000000</td>\n",
              "      <td>NaN</td>\n",
              "      <td>0.036427</td>\n",
              "      <td>0.010669</td>\n",
              "      <td>0.006082</td>\n",
              "    </tr>\n",
              "    <tr>\n",
              "      <th>hover_duration</th>\n",
              "      <td>0.001839</td>\n",
              "      <td>-0.002083</td>\n",
              "      <td>0.017643</td>\n",
              "      <td>0.004364</td>\n",
              "      <td>0.003316</td>\n",
              "      <td>-0.002294</td>\n",
              "      <td>NaN</td>\n",
              "      <td>NaN</td>\n",
              "      <td>NaN</td>\n",
              "      <td>NaN</td>\n",
              "      <td>NaN</td>\n",
              "      <td>1.000000</td>\n",
              "      <td>0.000348</td>\n",
              "      <td>-0.000689</td>\n",
              "      <td>-0.000340</td>\n",
              "    </tr>\n",
              "    <tr>\n",
              "      <th>fullscreen</th>\n",
              "      <td>0.035642</td>\n",
              "      <td>-0.016499</td>\n",
              "      <td>0.009317</td>\n",
              "      <td>0.002747</td>\n",
              "      <td>-0.004642</td>\n",
              "      <td>0.000728</td>\n",
              "      <td>0.000845</td>\n",
              "      <td>-0.004769</td>\n",
              "      <td>0.003291</td>\n",
              "      <td>0.018650</td>\n",
              "      <td>0.036427</td>\n",
              "      <td>0.000348</td>\n",
              "      <td>1.000000</td>\n",
              "      <td>0.358280</td>\n",
              "      <td>0.002076</td>\n",
              "    </tr>\n",
              "    <tr>\n",
              "      <th>hq</th>\n",
              "      <td>-0.008608</td>\n",
              "      <td>-0.004524</td>\n",
              "      <td>0.005419</td>\n",
              "      <td>0.001547</td>\n",
              "      <td>-0.002354</td>\n",
              "      <td>-0.001425</td>\n",
              "      <td>-0.000944</td>\n",
              "      <td>-0.001764</td>\n",
              "      <td>0.001496</td>\n",
              "      <td>0.004258</td>\n",
              "      <td>0.010669</td>\n",
              "      <td>-0.000689</td>\n",
              "      <td>0.358280</td>\n",
              "      <td>1.000000</td>\n",
              "      <td>-0.098998</td>\n",
              "    </tr>\n",
              "    <tr>\n",
              "      <th>music</th>\n",
              "      <td>0.055155</td>\n",
              "      <td>0.020011</td>\n",
              "      <td>-0.002104</td>\n",
              "      <td>-0.004474</td>\n",
              "      <td>0.007921</td>\n",
              "      <td>0.002678</td>\n",
              "      <td>0.003926</td>\n",
              "      <td>0.002458</td>\n",
              "      <td>-0.002521</td>\n",
              "      <td>0.006376</td>\n",
              "      <td>0.006082</td>\n",
              "      <td>-0.000340</td>\n",
              "      <td>0.002076</td>\n",
              "      <td>-0.098998</td>\n",
              "      <td>1.000000</td>\n",
              "    </tr>\n",
              "  </tbody>\n",
              "</table>\n",
              "</div>\n",
              "      <button class=\"colab-df-convert\" onclick=\"convertToInteractive('df-f62f3d71-e86b-4c97-9906-b7c4fdb188a3')\"\n",
              "              title=\"Convert this dataframe to an interactive table.\"\n",
              "              style=\"display:none;\">\n",
              "        \n",
              "  <svg xmlns=\"http://www.w3.org/2000/svg\" height=\"24px\"viewBox=\"0 0 24 24\"\n",
              "       width=\"24px\">\n",
              "    <path d=\"M0 0h24v24H0V0z\" fill=\"none\"/>\n",
              "    <path d=\"M18.56 5.44l.94 2.06.94-2.06 2.06-.94-2.06-.94-.94-2.06-.94 2.06-2.06.94zm-11 1L8.5 8.5l.94-2.06 2.06-.94-2.06-.94L8.5 2.5l-.94 2.06-2.06.94zm10 10l.94 2.06.94-2.06 2.06-.94-2.06-.94-.94-2.06-.94 2.06-2.06.94z\"/><path d=\"M17.41 7.96l-1.37-1.37c-.4-.4-.92-.59-1.43-.59-.52 0-1.04.2-1.43.59L10.3 9.45l-7.72 7.72c-.78.78-.78 2.05 0 2.83L4 21.41c.39.39.9.59 1.41.59.51 0 1.02-.2 1.41-.59l7.78-7.78 2.81-2.81c.8-.78.8-2.07 0-2.86zM5.41 20L4 18.59l7.72-7.72 1.47 1.35L5.41 20z\"/>\n",
              "  </svg>\n",
              "      </button>\n",
              "      \n",
              "  <style>\n",
              "    .colab-df-container {\n",
              "      display:flex;\n",
              "      flex-wrap:wrap;\n",
              "      gap: 12px;\n",
              "    }\n",
              "\n",
              "    .colab-df-convert {\n",
              "      background-color: #E8F0FE;\n",
              "      border: none;\n",
              "      border-radius: 50%;\n",
              "      cursor: pointer;\n",
              "      display: none;\n",
              "      fill: #1967D2;\n",
              "      height: 32px;\n",
              "      padding: 0 0 0 0;\n",
              "      width: 32px;\n",
              "    }\n",
              "\n",
              "    .colab-df-convert:hover {\n",
              "      background-color: #E2EBFA;\n",
              "      box-shadow: 0px 1px 2px rgba(60, 64, 67, 0.3), 0px 1px 3px 1px rgba(60, 64, 67, 0.15);\n",
              "      fill: #174EA6;\n",
              "    }\n",
              "\n",
              "    [theme=dark] .colab-df-convert {\n",
              "      background-color: #3B4455;\n",
              "      fill: #D2E3FC;\n",
              "    }\n",
              "\n",
              "    [theme=dark] .colab-df-convert:hover {\n",
              "      background-color: #434B5C;\n",
              "      box-shadow: 0px 1px 3px 1px rgba(0, 0, 0, 0.15);\n",
              "      filter: drop-shadow(0px 1px 2px rgba(0, 0, 0, 0.3));\n",
              "      fill: #FFFFFF;\n",
              "    }\n",
              "  </style>\n",
              "\n",
              "      <script>\n",
              "        const buttonEl =\n",
              "          document.querySelector('#df-f62f3d71-e86b-4c97-9906-b7c4fdb188a3 button.colab-df-convert');\n",
              "        buttonEl.style.display =\n",
              "          google.colab.kernel.accessAllowed ? 'block' : 'none';\n",
              "\n",
              "        async function convertToInteractive(key) {\n",
              "          const element = document.querySelector('#df-f62f3d71-e86b-4c97-9906-b7c4fdb188a3');\n",
              "          const dataTable =\n",
              "            await google.colab.kernel.invokeFunction('convertToInteractive',\n",
              "                                                     [key], {});\n",
              "          if (!dataTable) return;\n",
              "\n",
              "          const docLinkHtml = 'Like what you see? Visit the ' +\n",
              "            '<a target=\"_blank\" href=https://colab.research.google.com/notebooks/data_table.ipynb>data table notebook</a>'\n",
              "            + ' to learn more about interactive tables.';\n",
              "          element.innerHTML = '';\n",
              "          dataTable['output_type'] = 'display_data';\n",
              "          await google.colab.output.renderOutput(dataTable, element);\n",
              "          const docLink = document.createElement('div');\n",
              "          docLink.innerHTML = docLinkHtml;\n",
              "          element.appendChild(docLink);\n",
              "        }\n",
              "      </script>\n",
              "    </div>\n",
              "  </div>\n",
              "  "
            ],
            "text/plain": [
              "                session_id     index  elapsed_time  event_name      name  \\\n",
              "session_id        1.000000 -0.037144      0.023360    0.001625 -0.002618   \n",
              "index            -0.037144  1.000000      0.077711   -0.000016  0.066323   \n",
              "elapsed_time      0.023360  0.077711      1.000000    0.001567  0.001707   \n",
              "event_name        0.001625 -0.000016      0.001567    1.000000 -0.423726   \n",
              "name             -0.002618  0.066323      0.001707   -0.423726  1.000000   \n",
              "level            -0.002836  0.658861      0.077311    0.022757  0.051244   \n",
              "page              0.013753  0.358802      0.076106         NaN  0.049196   \n",
              "room_coor_x      -0.000144 -0.008766     -0.002819    0.074539 -0.048303   \n",
              "room_coor_y      -0.003722 -0.157396     -0.018350    0.013492 -0.125091   \n",
              "screen_coor_x     0.007001  0.026612      0.000510    0.010788 -0.023369   \n",
              "screen_coor_y     0.011294  0.029549      0.001004   -0.115142  0.135025   \n",
              "hover_duration    0.001839 -0.002083      0.017643    0.004364  0.003316   \n",
              "fullscreen        0.035642 -0.016499      0.009317    0.002747 -0.004642   \n",
              "hq               -0.008608 -0.004524      0.005419    0.001547 -0.002354   \n",
              "music             0.055155  0.020011     -0.002104   -0.004474  0.007921   \n",
              "\n",
              "                   level      page  room_coor_x  room_coor_y  screen_coor_x  \\\n",
              "session_id     -0.002836  0.013753    -0.000144    -0.003722       0.007001   \n",
              "index           0.658861  0.358802    -0.008766    -0.157396       0.026612   \n",
              "elapsed_time    0.077311  0.076106    -0.002819    -0.018350       0.000510   \n",
              "event_name      0.022757       NaN     0.074539     0.013492       0.010788   \n",
              "name            0.051244  0.049196    -0.048303    -0.125091      -0.023369   \n",
              "level           1.000000  0.950965    -0.048372    -0.238980       0.031689   \n",
              "page            0.950965  1.000000     0.004870    -0.095950       0.008742   \n",
              "room_coor_x    -0.048372  0.004870     1.000000     0.079033       0.687503   \n",
              "room_coor_y    -0.238980 -0.095950     0.079033     1.000000       0.090904   \n",
              "screen_coor_x   0.031689  0.008742     0.687503     0.090904       1.000000   \n",
              "screen_coor_y   0.048497 -0.004217    -0.174644    -0.773422      -0.119515   \n",
              "hover_duration -0.002294       NaN          NaN          NaN            NaN   \n",
              "fullscreen      0.000728  0.000845    -0.004769     0.003291       0.018650   \n",
              "hq             -0.001425 -0.000944    -0.001764     0.001496       0.004258   \n",
              "music           0.002678  0.003926     0.002458    -0.002521       0.006376   \n",
              "\n",
              "                screen_coor_y  hover_duration  fullscreen        hq     music  \n",
              "session_id           0.011294        0.001839    0.035642 -0.008608  0.055155  \n",
              "index                0.029549       -0.002083   -0.016499 -0.004524  0.020011  \n",
              "elapsed_time         0.001004        0.017643    0.009317  0.005419 -0.002104  \n",
              "event_name          -0.115142        0.004364    0.002747  0.001547 -0.004474  \n",
              "name                 0.135025        0.003316   -0.004642 -0.002354  0.007921  \n",
              "level                0.048497       -0.002294    0.000728 -0.001425  0.002678  \n",
              "page                -0.004217             NaN    0.000845 -0.000944  0.003926  \n",
              "room_coor_x         -0.174644             NaN   -0.004769 -0.001764  0.002458  \n",
              "room_coor_y         -0.773422             NaN    0.003291  0.001496 -0.002521  \n",
              "screen_coor_x       -0.119515             NaN    0.018650  0.004258  0.006376  \n",
              "screen_coor_y        1.000000             NaN    0.036427  0.010669  0.006082  \n",
              "hover_duration            NaN        1.000000    0.000348 -0.000689 -0.000340  \n",
              "fullscreen           0.036427        0.000348    1.000000  0.358280  0.002076  \n",
              "hq                   0.010669       -0.000689    0.358280  1.000000 -0.098998  \n",
              "music                0.006082       -0.000340    0.002076 -0.098998  1.000000  "
            ]
          },
          "execution_count": 3,
          "metadata": {},
          "output_type": "execute_result"
        },
        {
          "data": {
            "image/png": "[encoded data removed]",
            "text/plain": [
              "<Figure size 1000x800 with 2 Axes>"
            ]
          },
          "metadata": {},
          "output_type": "display_data"
        }
      ],
      "source": [
        "plt.figure(figsize=(10,8))\n",
        "correlaciones = df.corr()\n",
        "sns.heatmap(correlaciones,cmap=\"BrBG\")\n",
        "correlaciones"
      ]
    },
    {
      "cell_type": "markdown",
      "metadata": {
        "id": "8AIoidp6D93Y"
      },
      "source": [
        "Observamos que están relacionadas las coordenadas, name y event_name, que hacen referencia a dos eventos distintos, así que no eliminaremos ninguna; y lo mismo pasa con page y level. Nos quedaremos con dos de las cuatro variables de coordenadas más adelante."
      ]
    },
    {
      "cell_type": "markdown",
      "metadata": {
        "id": "0n6SZwxLHkkG"
      },
      "source": [
        "### Labels"
      ]
    },
    {
      "cell_type": "markdown",
      "metadata": {
        "id": "XNPrCMlJvSXd"
      },
      "source": [
        "Carguemos las Etiquetas."
      ]
    },
    {
      "cell_type": "code",
      "execution_count": null,
      "metadata": {
        "id": "reiHrMA7HnT8"
      },
      "outputs": [],
      "source": [
        "labels = pd.read_csv('/content/train_labels.csv')"
      ]
    },
    {
      "cell_type": "code",
      "execution_count": null,
      "metadata": {
        "colab": {
          "base_uri": "https://localhost:8080/",
          "height": 206
        },
        "id": "GZj-13Q0H6wF",
        "outputId": "33c59cca-dbe9-4afb-dcfe-6059d7f3a897"
      },
      "outputs": [
        {
          "data": {
            "text/html": [
              "\n",
              "  <div id=\"df-13676078-b202-48cc-aa8d-237dfe1b0b98\">\n",
              "    <div class=\"colab-df-container\">\n",
              "      <div>\n",
              "<style scoped>\n",
              "    .dataframe tbody tr th:only-of-type {\n",
              "        vertical-align: middle;\n",
              "    }\n",
              "\n",
              "    .dataframe tbody tr th {\n",
              "        vertical-align: top;\n",
              "    }\n",
              "\n",
              "    .dataframe thead th {\n",
              "        text-align: right;\n",
              "    }\n",
              "</style>\n",
              "<table border=\"1\" class=\"dataframe\">\n",
              "  <thead>\n",
              "    <tr style=\"text-align: right;\">\n",
              "      <th></th>\n",
              "      <th>session_id</th>\n",
              "      <th>correct</th>\n",
              "    </tr>\n",
              "  </thead>\n",
              "  <tbody>\n",
              "    <tr>\n",
              "      <th>0</th>\n",
              "      <td>20090312431273200_q1</td>\n",
              "      <td>1</td>\n",
              "    </tr>\n",
              "    <tr>\n",
              "      <th>1</th>\n",
              "      <td>20090312433251036_q1</td>\n",
              "      <td>0</td>\n",
              "    </tr>\n",
              "    <tr>\n",
              "      <th>2</th>\n",
              "      <td>20090312455206810_q1</td>\n",
              "      <td>1</td>\n",
              "    </tr>\n",
              "    <tr>\n",
              "      <th>3</th>\n",
              "      <td>20090313091715820_q1</td>\n",
              "      <td>0</td>\n",
              "    </tr>\n",
              "    <tr>\n",
              "      <th>4</th>\n",
              "      <td>20090313571836404_q1</td>\n",
              "      <td>1</td>\n",
              "    </tr>\n",
              "  </tbody>\n",
              "</table>\n",
              "</div>\n",
              "      <button class=\"colab-df-convert\" onclick=\"convertToInteractive('df-13676078-b202-48cc-aa8d-237dfe1b0b98')\"\n",
              "              title=\"Convert this dataframe to an interactive table.\"\n",
              "              style=\"display:none;\">\n",
              "        \n",
              "  <svg xmlns=\"http://www.w3.org/2000/svg\" height=\"24px\"viewBox=\"0 0 24 24\"\n",
              "       width=\"24px\">\n",
              "    <path d=\"M0 0h24v24H0V0z\" fill=\"none\"/>\n",
              "    <path d=\"M18.56 5.44l.94 2.06.94-2.06 2.06-.94-2.06-.94-.94-2.06-.94 2.06-2.06.94zm-11 1L8.5 8.5l.94-2.06 2.06-.94-2.06-.94L8.5 2.5l-.94 2.06-2.06.94zm10 10l.94 2.06.94-2.06 2.06-.94-2.06-.94-.94-2.06-.94 2.06-2.06.94z\"/><path d=\"M17.41 7.96l-1.37-1.37c-.4-.4-.92-.59-1.43-.59-.52 0-1.04.2-1.43.59L10.3 9.45l-7.72 7.72c-.78.78-.78 2.05 0 2.83L4 21.41c.39.39.9.59 1.41.59.51 0 1.02-.2 1.41-.59l7.78-7.78 2.81-2.81c.8-.78.8-2.07 0-2.86zM5.41 20L4 18.59l7.72-7.72 1.47 1.35L5.41 20z\"/>\n",
              "  </svg>\n",
              "      </button>\n",
              "      \n",
              "  <style>\n",
              "    .colab-df-container {\n",
              "      display:flex;\n",
              "      flex-wrap:wrap;\n",
              "      gap: 12px;\n",
              "    }\n",
              "\n",
              "    .colab-df-convert {\n",
              "      background-color: #E8F0FE;\n",
              "      border: none;\n",
              "      border-radius: 50%;\n",
              "      cursor: pointer;\n",
              "      display: none;\n",
              "      fill: #1967D2;\n",
              "      height: 32px;\n",
              "      padding: 0 0 0 0;\n",
              "      width: 32px;\n",
              "    }\n",
              "\n",
              "    .colab-df-convert:hover {\n",
              "      background-color: #E2EBFA;\n",
              "      box-shadow: 0px 1px 2px rgba(60, 64, 67, 0.3), 0px 1px 3px 1px rgba(60, 64, 67, 0.15);\n",
              "      fill: #174EA6;\n",
              "    }\n",
              "\n",
              "    [theme=dark] .colab-df-convert {\n",
              "      background-color: #3B4455;\n",
              "      fill: #D2E3FC;\n",
              "    }\n",
              "\n",
              "    [theme=dark] .colab-df-convert:hover {\n",
              "      background-color: #434B5C;\n",
              "      box-shadow: 0px 1px 3px 1px rgba(0, 0, 0, 0.15);\n",
              "      filter: drop-shadow(0px 1px 2px rgba(0, 0, 0, 0.3));\n",
              "      fill: #FFFFFF;\n",
              "    }\n",
              "  </style>\n",
              "\n",
              "      <script>\n",
              "        const buttonEl =\n",
              "          document.querySelector('#df-13676078-b202-48cc-aa8d-237dfe1b0b98 button.colab-df-convert');\n",
              "        buttonEl.style.display =\n",
              "          google.colab.kernel.accessAllowed ? 'block' : 'none';\n",
              "\n",
              "        async function convertToInteractive(key) {\n",
              "          const element = document.querySelector('#df-13676078-b202-48cc-aa8d-237dfe1b0b98');\n",
              "          const dataTable =\n",
              "            await google.colab.kernel.invokeFunction('convertToInteractive',\n",
              "                                                     [key], {});\n",
              "          if (!dataTable) return;\n",
              "\n",
              "          const docLinkHtml = 'Like what you see? Visit the ' +\n",
              "            '<a target=\"_blank\" href=https://colab.research.google.com/notebooks/data_table.ipynb>data table notebook</a>'\n",
              "            + ' to learn more about interactive tables.';\n",
              "          element.innerHTML = '';\n",
              "          dataTable['output_type'] = 'display_data';\n",
              "          await google.colab.output.renderOutput(dataTable, element);\n",
              "          const docLink = document.createElement('div');\n",
              "          docLink.innerHTML = docLinkHtml;\n",
              "          element.appendChild(docLink);\n",
              "        }\n",
              "      </script>\n",
              "    </div>\n",
              "  </div>\n",
              "  "
            ],
            "text/plain": [
              "             session_id  correct\n",
              "0  20090312431273200_q1        1\n",
              "1  20090312433251036_q1        0\n",
              "2  20090312455206810_q1        1\n",
              "3  20090313091715820_q1        0\n",
              "4  20090313571836404_q1        1"
            ]
          },
          "execution_count": 5,
          "metadata": {},
          "output_type": "execute_result"
        }
      ],
      "source": [
        "labels.head()"
      ]
    },
    {
      "cell_type": "code",
      "execution_count": null,
      "metadata": {
        "id": "VgigoYWSIJyd"
      },
      "outputs": [],
      "source": [
        "labels['pregunta'] = labels.session_id.apply(lambda x: int(x.split('_')[-1][1:]) )\n",
        "labels['session_id'] = labels.session_id.apply(lambda x: int(x.split('_')[0]) )"
      ]
    },
    {
      "cell_type": "code",
      "execution_count": null,
      "metadata": {
        "colab": {
          "base_uri": "https://localhost:8080/",
          "height": 206
        },
        "id": "1yoPZvEzINo8",
        "outputId": "73bda155-1a90-4fc5-92b9-1434484722a6"
      },
      "outputs": [
        {
          "data": {
            "text/html": [
              "\n",
              "  <div id=\"df-81a1dc65-9845-45ed-9e38-103ecc2ae0d9\">\n",
              "    <div class=\"colab-df-container\">\n",
              "      <div>\n",
              "<style scoped>\n",
              "    .dataframe tbody tr th:only-of-type {\n",
              "        vertical-align: middle;\n",
              "    }\n",
              "\n",
              "    .dataframe tbody tr th {\n",
              "        vertical-align: top;\n",
              "    }\n",
              "\n",
              "    .dataframe thead th {\n",
              "        text-align: right;\n",
              "    }\n",
              "</style>\n",
              "<table border=\"1\" class=\"dataframe\">\n",
              "  <thead>\n",
              "    <tr style=\"text-align: right;\">\n",
              "      <th></th>\n",
              "      <th>session_id</th>\n",
              "      <th>correct</th>\n",
              "      <th>pregunta</th>\n",
              "    </tr>\n",
              "  </thead>\n",
              "  <tbody>\n",
              "    <tr>\n",
              "      <th>0</th>\n",
              "      <td>20090312431273200</td>\n",
              "      <td>1</td>\n",
              "      <td>1</td>\n",
              "    </tr>\n",
              "    <tr>\n",
              "      <th>1</th>\n",
              "      <td>20090312433251036</td>\n",
              "      <td>0</td>\n",
              "      <td>1</td>\n",
              "    </tr>\n",
              "    <tr>\n",
              "      <th>2</th>\n",
              "      <td>20090312455206810</td>\n",
              "      <td>1</td>\n",
              "      <td>1</td>\n",
              "    </tr>\n",
              "    <tr>\n",
              "      <th>3</th>\n",
              "      <td>20090313091715820</td>\n",
              "      <td>0</td>\n",
              "      <td>1</td>\n",
              "    </tr>\n",
              "    <tr>\n",
              "      <th>4</th>\n",
              "      <td>20090313571836404</td>\n",
              "      <td>1</td>\n",
              "      <td>1</td>\n",
              "    </tr>\n",
              "  </tbody>\n",
              "</table>\n",
              "</div>\n",
              "      <button class=\"colab-df-convert\" onclick=\"convertToInteractive('df-81a1dc65-9845-45ed-9e38-103ecc2ae0d9')\"\n",
              "              title=\"Convert this dataframe to an interactive table.\"\n",
              "              style=\"display:none;\">\n",
              "        \n",
              "  <svg xmlns=\"http://www.w3.org/2000/svg\" height=\"24px\"viewBox=\"0 0 24 24\"\n",
              "       width=\"24px\">\n",
              "    <path d=\"M0 0h24v24H0V0z\" fill=\"none\"/>\n",
              "    <path d=\"M18.56 5.44l.94 2.06.94-2.06 2.06-.94-2.06-.94-.94-2.06-.94 2.06-2.06.94zm-11 1L8.5 8.5l.94-2.06 2.06-.94-2.06-.94L8.5 2.5l-.94 2.06-2.06.94zm10 10l.94 2.06.94-2.06 2.06-.94-2.06-.94-.94-2.06-.94 2.06-2.06.94z\"/><path d=\"M17.41 7.96l-1.37-1.37c-.4-.4-.92-.59-1.43-.59-.52 0-1.04.2-1.43.59L10.3 9.45l-7.72 7.72c-.78.78-.78 2.05 0 2.83L4 21.41c.39.39.9.59 1.41.59.51 0 1.02-.2 1.41-.59l7.78-7.78 2.81-2.81c.8-.78.8-2.07 0-2.86zM5.41 20L4 18.59l7.72-7.72 1.47 1.35L5.41 20z\"/>\n",
              "  </svg>\n",
              "      </button>\n",
              "      \n",
              "  <style>\n",
              "    .colab-df-container {\n",
              "      display:flex;\n",
              "      flex-wrap:wrap;\n",
              "      gap: 12px;\n",
              "    }\n",
              "\n",
              "    .colab-df-convert {\n",
              "      background-color: #E8F0FE;\n",
              "      border: none;\n",
              "      border-radius: 50%;\n",
              "      cursor: pointer;\n",
              "      display: none;\n",
              "      fill: #1967D2;\n",
              "      height: 32px;\n",
              "      padding: 0 0 0 0;\n",
              "      width: 32px;\n",
              "    }\n",
              "\n",
              "    .colab-df-convert:hover {\n",
              "      background-color: #E2EBFA;\n",
              "      box-shadow: 0px 1px 2px rgba(60, 64, 67, 0.3), 0px 1px 3px 1px rgba(60, 64, 67, 0.15);\n",
              "      fill: #174EA6;\n",
              "    }\n",
              "\n",
              "    [theme=dark] .colab-df-convert {\n",
              "      background-color: #3B4455;\n",
              "      fill: #D2E3FC;\n",
              "    }\n",
              "\n",
              "    [theme=dark] .colab-df-convert:hover {\n",
              "      background-color: #434B5C;\n",
              "      box-shadow: 0px 1px 3px 1px rgba(0, 0, 0, 0.15);\n",
              "      filter: drop-shadow(0px 1px 2px rgba(0, 0, 0, 0.3));\n",
              "      fill: #FFFFFF;\n",
              "    }\n",
              "  </style>\n",
              "\n",
              "      <script>\n",
              "        const buttonEl =\n",
              "          document.querySelector('#df-81a1dc65-9845-45ed-9e38-103ecc2ae0d9 button.colab-df-convert');\n",
              "        buttonEl.style.display =\n",
              "          google.colab.kernel.accessAllowed ? 'block' : 'none';\n",
              "\n",
              "        async function convertToInteractive(key) {\n",
              "          const element = document.querySelector('#df-81a1dc65-9845-45ed-9e38-103ecc2ae0d9');\n",
              "          const dataTable =\n",
              "            await google.colab.kernel.invokeFunction('convertToInteractive',\n",
              "                                                     [key], {});\n",
              "          if (!dataTable) return;\n",
              "\n",
              "          const docLinkHtml = 'Like what you see? Visit the ' +\n",
              "            '<a target=\"_blank\" href=https://colab.research.google.com/notebooks/data_table.ipynb>data table notebook</a>'\n",
              "            + ' to learn more about interactive tables.';\n",
              "          element.innerHTML = '';\n",
              "          dataTable['output_type'] = 'display_data';\n",
              "          await google.colab.output.renderOutput(dataTable, element);\n",
              "          const docLink = document.createElement('div');\n",
              "          docLink.innerHTML = docLinkHtml;\n",
              "          element.appendChild(docLink);\n",
              "        }\n",
              "      </script>\n",
              "    </div>\n",
              "  </div>\n",
              "  "
            ],
            "text/plain": [
              "          session_id  correct  pregunta\n",
              "0  20090312431273200        1         1\n",
              "1  20090312433251036        0         1\n",
              "2  20090312455206810        1         1\n",
              "3  20090313091715820        0         1\n",
              "4  20090313571836404        1         1"
            ]
          },
          "execution_count": 7,
          "metadata": {},
          "output_type": "execute_result"
        }
      ],
      "source": [
        "labels.head()"
      ]
    },
    {
      "cell_type": "code",
      "execution_count": null,
      "metadata": {
        "colab": {
          "base_uri": "https://localhost:8080/",
          "height": 442
        },
        "id": "c6hul2XBLL3Z",
        "outputId": "8bce0221-895b-4aee-a3f8-91430ad9f5ae"
      },
      "outputs": [
        {
          "data": {
            "text/plain": [
              "<Axes: >"
            ]
          },
          "execution_count": 8,
          "metadata": {},
          "output_type": "execute_result"
        },
        {
          "data": {
            "image/png": "[encoded data removed]",
            "text/plain": [
              "<Figure size 640x480 with 1 Axes>"
            ]
          },
          "metadata": {},
          "output_type": "display_data"
        }
      ],
      "source": [
        "plot_df = labels.correct.value_counts()\n",
        "plot_df.plot(kind=\"bar\", color=['#44B497', '#8C4D28'])"
      ]
    },
    {
      "cell_type": "markdown",
      "metadata": {
        "id": "GlScylD71P1_"
      },
      "source": [
        "Están un poco desbalanceados, pero no será necesario realizar oversampling o undersampling, ya que no es exagerada la diferencia."
      ]
    },
    {
      "cell_type": "markdown",
      "metadata": {
        "id": "MgkHeUcs1aSG"
      },
      "source": [
        "En los resultados, obtendremos mejores predicciones para las respuestas correctas, y habrá bastantes respuestas incorrectas que las predecirá como correctas debido a esta diferencia."
      ]
    },
    {
      "cell_type": "code",
      "execution_count": null,
      "metadata": {
        "colab": {
          "base_uri": "https://localhost:8080/",
          "height": 577
        },
        "id": "Dfs6CQGOSwbX",
        "outputId": "11826b02-91bd-4273-f4cd-7aa711153b07"
      },
      "outputs": [
        {
          "data": {
            "image/png": "[encoded data removed]",
            "text/plain": [
              "<Figure size 900x600 with 18 Axes>"
            ]
          },
          "metadata": {},
          "output_type": "display_data"
        }
      ],
      "source": [
        "plt.figure(figsize=(9, 6))\n",
        "plt.subplots_adjust(hspace=0.5, wspace=0.5)\n",
        "plt.suptitle(\"Respuestas correctas por cada pregunta\", fontsize=14, y=0.98)\n",
        "for n in range(1,19):\n",
        "    #print(n, str(n))\n",
        "    ax = plt.subplot(3, 6, n)\n",
        "\n",
        "    # filter df and plot ticker on the new subplot axis\n",
        "    plot_df = labels.loc[labels.pregunta == n]\n",
        "    plot_df = plot_df.correct.value_counts()\n",
        "    plot_df.plot(ax=ax, kind=\"bar\", color=['#44B497', '#8C4D28'])\n",
        "    \n",
        "    # chart formatting\n",
        "    ax.set_title(\"Pregunta \" + str(n))\n",
        "    ax.set_xlabel(\"\")"
      ]
    },
    {
      "cell_type": "markdown",
      "metadata": {
        "id": "LR9BWW8yEeaU"
      },
      "source": [
        "# 3. Preparación de los datos"
      ]
    },
    {
      "cell_type": "markdown",
      "metadata": {
        "id": "qxFtN78zEjDL"
      },
      "source": [
        "Antes de entrenar los datos, debemos entender cómo se asocian los grupos de niveles y las preguntas entre sí."
      ]
    },
    {
      "cell_type": "markdown",
      "metadata": {
        "id": "KOWN3tAtEpK1"
      },
      "source": [
        "En este juego, el primer punto de control del cuestionario (es decir, las preguntas 1 a 3) se encuentra después de completar los niveles del 0 al 4. Por lo tanto, para entrenar las preguntas 1 a 3, utilizaremos datos del grupo de niveles 0-4. De manera similar, utilizaremos datos del grupo de niveles 5-12 para entrenar las preguntas del 4 al 13, y datos del grupo de niveles 13-22 para entrenar las preguntas del 14 al 18."
      ]
    },
    {
      "cell_type": "code",
      "execution_count": null,
      "metadata": {
        "colab": {
          "base_uri": "https://localhost:8080/"
        },
        "id": "CBA8xc_DkCe_",
        "outputId": "2ac65217-9a37-4621-d3c7-0dae9f3605a5"
      },
      "outputs": [
        {
          "name": "stdout",
          "output_type": "stream",
          "text": [
            "12538215\n",
            "9551136\n",
            "57477\n",
            "102591\n"
          ]
        }
      ],
      "source": [
        "print(df['room_coor_x'].nunique())\n",
        "print(df['room_coor_y'].nunique())\n",
        "print(df['screen_coor_x'].nunique())\n",
        "print(df['screen_coor_y'].nunique())"
      ]
    },
    {
      "cell_type": "markdown",
      "metadata": {
        "id": "m3n6Lwqljien"
      },
      "source": [
        "Nos quedaremos solo con room_coord, ya que tenían una correlación alta con screen_coord, como habíamos visto antes. Además, tiene más variabilidad de datos, que nos aportarán más información."
      ]
    },
    {
      "cell_type": "markdown",
      "metadata": {
        "id": "d9rdYrFy8tXp"
      },
      "source": [
        "Además solo contaremos name, y quitaremos event_name, room_fqid, fullscreen, hq, music ya que aparecen el mismo número de veces, por ocurrir todas en un mismo evento."
      ]
    },
    {
      "cell_type": "code",
      "execution_count": null,
      "metadata": {
        "id": "nCjnD49bEtiU"
      },
      "outputs": [],
      "source": [
        "CATEGORICAL1 = ['event_name', 'name','fqid', 'room_fqid', 'text_fqid']\n",
        "CATEGORICAL2 = ['name','fqid', 'text_fqid']\n",
        "NUMERICAL1 = ['elapsed_time','level','page','room_coor_x', 'room_coor_y', 'hover_duration']\n",
        "NUMERICAL2 = ['elapsed_time','hover_duration']\n",
        "\n",
        "def feature_engineer(df):\n",
        "    dfs = []\n",
        "    for c in CATEGORICAL1:\n",
        "        tmp = df.groupby(['session_id','level_group'])[c].agg('nunique')\n",
        "        tmp.name = tmp.name + '_nunique'\n",
        "        dfs.append(tmp)\n",
        "    for c in CATEGORICAL2:\n",
        "        tmp = df.groupby(['session_id','level_group'])[c].agg('count')\n",
        "        tmp.name = tmp.name + '_count'\n",
        "        dfs.append(tmp)\n",
        "    for c in NUMERICAL1:\n",
        "        tmp = df.groupby(['session_id','level_group'])[c].agg('mean')\n",
        "        dfs.append(tmp)\n",
        "    for c in NUMERICAL1:\n",
        "        tmp = df.groupby(['session_id','level_group'])[c].agg('std')\n",
        "        tmp.name = tmp.name + '_std'\n",
        "        dfs.append(tmp)\n",
        "    for c in NUMERICAL1:\n",
        "        tmp = df.groupby(['session_id','level_group'])[c].agg('median')\n",
        "        tmp.name = tmp.name + '_median'\n",
        "        dfs.append(tmp)\n",
        "    for c in NUMERICAL2:\n",
        "        tmp = df.groupby(['session_id','level_group'])[c].agg('sum')\n",
        "        tmp.name = tmp.name + '_sum'\n",
        "        dfs.append(tmp)\n",
        "    df = pd.concat(dfs,axis=1)\n",
        "    df = df.fillna(-1)\n",
        "    df = df.reset_index()\n",
        "    df = df.set_index('session_id')\n",
        "    return df"
      ]
    },
    {
      "cell_type": "code",
      "execution_count": null,
      "metadata": {
        "colab": {
          "base_uri": "https://localhost:8080/"
        },
        "id": "HS2TaiDGUQyv",
        "outputId": "83973905-a695-4027-ce2f-25b12882a592"
      },
      "outputs": [
        {
          "output_type": "stream",
          "name": "stdout",
          "text": [
            "Full prepared dataset shape is (70686, 29)\n"
          ]
        }
      ],
      "source": [
        "model_df = feature_engineer(df)\n",
        "print(\"Full prepared dataset shape is {}\".format(model_df.shape))"
      ]
    },
    {
      "cell_type": "code",
      "execution_count": null,
      "metadata": {
        "colab": {
          "base_uri": "https://localhost:8080/",
          "height": 331
        },
        "id": "9wTSjyMFWdlT",
        "outputId": "9258fd76-37ac-470c-9131-762627f682c3"
      },
      "outputs": [
        {
          "data": {
            "text/html": [
              "\n",
              "  <div id=\"df-64f55c8e-5a1f-43cd-a6da-54e93f4226d4\">\n",
              "    <div class=\"colab-df-container\">\n",
              "      <div>\n",
              "<style scoped>\n",
              "    .dataframe tbody tr th:only-of-type {\n",
              "        vertical-align: middle;\n",
              "    }\n",
              "\n",
              "    .dataframe tbody tr th {\n",
              "        vertical-align: top;\n",
              "    }\n",
              "\n",
              "    .dataframe thead th {\n",
              "        text-align: right;\n",
              "    }\n",
              "</style>\n",
              "<table border=\"1\" class=\"dataframe\">\n",
              "  <thead>\n",
              "    <tr style=\"text-align: right;\">\n",
              "      <th></th>\n",
              "      <th>level_group</th>\n",
              "      <th>event_name_nunique</th>\n",
              "      <th>name_nunique</th>\n",
              "      <th>fqid_nunique</th>\n",
              "      <th>room_fqid_nunique</th>\n",
              "      <th>text_fqid_nunique</th>\n",
              "      <th>name_count</th>\n",
              "      <th>fqid_count</th>\n",
              "      <th>text_fqid_count</th>\n",
              "      <th>elapsed_time</th>\n",
              "      <th>...</th>\n",
              "      <th>room_coor_y_std</th>\n",
              "      <th>hover_duration_std</th>\n",
              "      <th>elapsed_time_median</th>\n",
              "      <th>level_median</th>\n",
              "      <th>page_median</th>\n",
              "      <th>room_coor_x_median</th>\n",
              "      <th>room_coor_y_median</th>\n",
              "      <th>hover_duration_median</th>\n",
              "      <th>elapsed_time_sum</th>\n",
              "      <th>hover_duration_sum</th>\n",
              "    </tr>\n",
              "    <tr>\n",
              "      <th>session_id</th>\n",
              "      <th></th>\n",
              "      <th></th>\n",
              "      <th></th>\n",
              "      <th></th>\n",
              "      <th></th>\n",
              "      <th></th>\n",
              "      <th></th>\n",
              "      <th></th>\n",
              "      <th></th>\n",
              "      <th></th>\n",
              "      <th></th>\n",
              "      <th></th>\n",
              "      <th></th>\n",
              "      <th></th>\n",
              "      <th></th>\n",
              "      <th></th>\n",
              "      <th></th>\n",
              "      <th></th>\n",
              "      <th></th>\n",
              "      <th></th>\n",
              "      <th></th>\n",
              "    </tr>\n",
              "  </thead>\n",
              "  <tbody>\n",
              "    <tr>\n",
              "      <th>20090312431273200</th>\n",
              "      <td>1</td>\n",
              "      <td>10</td>\n",
              "      <td>3</td>\n",
              "      <td>30</td>\n",
              "      <td>7</td>\n",
              "      <td>17</td>\n",
              "      <td>165</td>\n",
              "      <td>104</td>\n",
              "      <td>62</td>\n",
              "      <td>8.579356e+04</td>\n",
              "      <td>...</td>\n",
              "      <td>129.292411</td>\n",
              "      <td>3227.370757</td>\n",
              "      <td>87242.0</td>\n",
              "      <td>2.0</td>\n",
              "      <td>-1.0</td>\n",
              "      <td>-3.196174</td>\n",
              "      <td>-80.775925</td>\n",
              "      <td>325.0</td>\n",
              "      <td>14155937</td>\n",
              "      <td>19116.0</td>\n",
              "    </tr>\n",
              "    <tr>\n",
              "      <th>20090312431273200</th>\n",
              "      <td>3</td>\n",
              "      <td>10</td>\n",
              "      <td>3</td>\n",
              "      <td>49</td>\n",
              "      <td>12</td>\n",
              "      <td>35</td>\n",
              "      <td>420</td>\n",
              "      <td>313</td>\n",
              "      <td>196</td>\n",
              "      <td>1.040601e+06</td>\n",
              "      <td>...</td>\n",
              "      <td>230.370874</td>\n",
              "      <td>1305.088265</td>\n",
              "      <td>1046134.0</td>\n",
              "      <td>18.0</td>\n",
              "      <td>-1.0</td>\n",
              "      <td>-43.891830</td>\n",
              "      <td>-120.395386</td>\n",
              "      <td>315.0</td>\n",
              "      <td>437052322</td>\n",
              "      <td>24298.0</td>\n",
              "    </tr>\n",
              "    <tr>\n",
              "      <th>20090312431273200</th>\n",
              "      <td>2</td>\n",
              "      <td>10</td>\n",
              "      <td>3</td>\n",
              "      <td>39</td>\n",
              "      <td>11</td>\n",
              "      <td>24</td>\n",
              "      <td>296</td>\n",
              "      <td>235</td>\n",
              "      <td>126</td>\n",
              "      <td>3.572052e+05</td>\n",
              "      <td>...</td>\n",
              "      <td>137.409476</td>\n",
              "      <td>1316.408315</td>\n",
              "      <td>352460.5</td>\n",
              "      <td>8.0</td>\n",
              "      <td>-1.0</td>\n",
              "      <td>-16.105585</td>\n",
              "      <td>-86.000000</td>\n",
              "      <td>334.0</td>\n",
              "      <td>105732736</td>\n",
              "      <td>29080.0</td>\n",
              "    </tr>\n",
              "    <tr>\n",
              "      <th>20090312433251036</th>\n",
              "      <td>1</td>\n",
              "      <td>11</td>\n",
              "      <td>4</td>\n",
              "      <td>22</td>\n",
              "      <td>6</td>\n",
              "      <td>11</td>\n",
              "      <td>139</td>\n",
              "      <td>97</td>\n",
              "      <td>61</td>\n",
              "      <td>9.763342e+04</td>\n",
              "      <td>...</td>\n",
              "      <td>156.186242</td>\n",
              "      <td>2114.876406</td>\n",
              "      <td>98310.0</td>\n",
              "      <td>2.0</td>\n",
              "      <td>0.0</td>\n",
              "      <td>-86.761826</td>\n",
              "      <td>-95.000000</td>\n",
              "      <td>417.0</td>\n",
              "      <td>13571045</td>\n",
              "      <td>11030.0</td>\n",
              "    </tr>\n",
              "    <tr>\n",
              "      <th>20090312433251036</th>\n",
              "      <td>3</td>\n",
              "      <td>11</td>\n",
              "      <td>6</td>\n",
              "      <td>73</td>\n",
              "      <td>16</td>\n",
              "      <td>43</td>\n",
              "      <td>1297</td>\n",
              "      <td>762</td>\n",
              "      <td>229</td>\n",
              "      <td>2.498852e+06</td>\n",
              "      <td>...</td>\n",
              "      <td>234.279590</td>\n",
              "      <td>1990.705518</td>\n",
              "      <td>2698328.0</td>\n",
              "      <td>17.0</td>\n",
              "      <td>5.0</td>\n",
              "      <td>-13.879383</td>\n",
              "      <td>-125.121628</td>\n",
              "      <td>226.0</td>\n",
              "      <td>3241011333</td>\n",
              "      <td>181537.0</td>\n",
              "    </tr>\n",
              "  </tbody>\n",
              "</table>\n",
              "<p>5 rows × 29 columns</p>\n",
              "</div>\n",
              "      <button class=\"colab-df-convert\" onclick=\"convertToInteractive('df-64f55c8e-5a1f-43cd-a6da-54e93f4226d4')\"\n",
              "              title=\"Convert this dataframe to an interactive table.\"\n",
              "              style=\"display:none;\">\n",
              "        \n",
              "  <svg xmlns=\"http://www.w3.org/2000/svg\" height=\"24px\"viewBox=\"0 0 24 24\"\n",
              "       width=\"24px\">\n",
              "    <path d=\"M0 0h24v24H0V0z\" fill=\"none\"/>\n",
              "    <path d=\"M18.56 5.44l.94 2.06.94-2.06 2.06-.94-2.06-.94-.94-2.06-.94 2.06-2.06.94zm-11 1L8.5 8.5l.94-2.06 2.06-.94-2.06-.94L8.5 2.5l-.94 2.06-2.06.94zm10 10l.94 2.06.94-2.06 2.06-.94-2.06-.94-.94-2.06-.94 2.06-2.06.94z\"/><path d=\"M17.41 7.96l-1.37-1.37c-.4-.4-.92-.59-1.43-.59-.52 0-1.04.2-1.43.59L10.3 9.45l-7.72 7.72c-.78.78-.78 2.05 0 2.83L4 21.41c.39.39.9.59 1.41.59.51 0 1.02-.2 1.41-.59l7.78-7.78 2.81-2.81c.8-.78.8-2.07 0-2.86zM5.41 20L4 18.59l7.72-7.72 1.47 1.35L5.41 20z\"/>\n",
              "  </svg>\n",
              "      </button>\n",
              "      \n",
              "  <style>\n",
              "    .colab-df-container {\n",
              "      display:flex;\n",
              "      flex-wrap:wrap;\n",
              "      gap: 12px;\n",
              "    }\n",
              "\n",
              "    .colab-df-convert {\n",
              "      background-color: #E8F0FE;\n",
              "      border: none;\n",
              "      border-radius: 50%;\n",
              "      cursor: pointer;\n",
              "      display: none;\n",
              "      fill: #1967D2;\n",
              "      height: 32px;\n",
              "      padding: 0 0 0 0;\n",
              "      width: 32px;\n",
              "    }\n",
              "\n",
              "    .colab-df-convert:hover {\n",
              "      background-color: #E2EBFA;\n",
              "      box-shadow: 0px 1px 2px rgba(60, 64, 67, 0.3), 0px 1px 3px 1px rgba(60, 64, 67, 0.15);\n",
              "      fill: #174EA6;\n",
              "    }\n",
              "\n",
              "    [theme=dark] .colab-df-convert {\n",
              "      background-color: #3B4455;\n",
              "      fill: #D2E3FC;\n",
              "    }\n",
              "\n",
              "    [theme=dark] .colab-df-convert:hover {\n",
              "      background-color: #434B5C;\n",
              "      box-shadow: 0px 1px 3px 1px rgba(0, 0, 0, 0.15);\n",
              "      filter: drop-shadow(0px 1px 2px rgba(0, 0, 0, 0.3));\n",
              "      fill: #FFFFFF;\n",
              "    }\n",
              "  </style>\n",
              "\n",
              "      <script>\n",
              "        const buttonEl =\n",
              "          document.querySelector('#df-64f55c8e-5a1f-43cd-a6da-54e93f4226d4 button.colab-df-convert');\n",
              "        buttonEl.style.display =\n",
              "          google.colab.kernel.accessAllowed ? 'block' : 'none';\n",
              "\n",
              "        async function convertToInteractive(key) {\n",
              "          const element = document.querySelector('#df-64f55c8e-5a1f-43cd-a6da-54e93f4226d4');\n",
              "          const dataTable =\n",
              "            await google.colab.kernel.invokeFunction('convertToInteractive',\n",
              "                                                     [key], {});\n",
              "          if (!dataTable) return;\n",
              "\n",
              "          const docLinkHtml = 'Like what you see? Visit the ' +\n",
              "            '<a target=\"_blank\" href=https://colab.research.google.com/notebooks/data_table.ipynb>data table notebook</a>'\n",
              "            + ' to learn more about interactive tables.';\n",
              "          element.innerHTML = '';\n",
              "          dataTable['output_type'] = 'display_data';\n",
              "          await google.colab.output.renderOutput(dataTable, element);\n",
              "          const docLink = document.createElement('div');\n",
              "          docLink.innerHTML = docLinkHtml;\n",
              "          element.appendChild(docLink);\n",
              "        }\n",
              "      </script>\n",
              "    </div>\n",
              "  </div>\n",
              "  "
            ],
            "text/plain": [
              "                  level_group  event_name_nunique  name_nunique  fqid_nunique  \\\n",
              "session_id                                                                      \n",
              "20090312431273200           1                  10             3            30   \n",
              "20090312431273200           3                  10             3            49   \n",
              "20090312431273200           2                  10             3            39   \n",
              "20090312433251036           1                  11             4            22   \n",
              "20090312433251036           3                  11             6            73   \n",
              "\n",
              "                   room_fqid_nunique  text_fqid_nunique  name_count  \\\n",
              "session_id                                                            \n",
              "20090312431273200                  7                 17         165   \n",
              "20090312431273200                 12                 35         420   \n",
              "20090312431273200                 11                 24         296   \n",
              "20090312433251036                  6                 11         139   \n",
              "20090312433251036                 16                 43        1297   \n",
              "\n",
              "                   fqid_count  text_fqid_count  elapsed_time  ...  \\\n",
              "session_id                                                    ...   \n",
              "20090312431273200         104               62  8.579356e+04  ...   \n",
              "20090312431273200         313              196  1.040601e+06  ...   \n",
              "20090312431273200         235              126  3.572052e+05  ...   \n",
              "20090312433251036          97               61  9.763342e+04  ...   \n",
              "20090312433251036         762              229  2.498852e+06  ...   \n",
              "\n",
              "                   room_coor_y_std  hover_duration_std  elapsed_time_median  \\\n",
              "session_id                                                                    \n",
              "20090312431273200       129.292411         3227.370757              87242.0   \n",
              "20090312431273200       230.370874         1305.088265            1046134.0   \n",
              "20090312431273200       137.409476         1316.408315             352460.5   \n",
              "20090312433251036       156.186242         2114.876406              98310.0   \n",
              "20090312433251036       234.279590         1990.705518            2698328.0   \n",
              "\n",
              "                   level_median  page_median  room_coor_x_median  \\\n",
              "session_id                                                         \n",
              "20090312431273200           2.0         -1.0           -3.196174   \n",
              "20090312431273200          18.0         -1.0          -43.891830   \n",
              "20090312431273200           8.0         -1.0          -16.105585   \n",
              "20090312433251036           2.0          0.0          -86.761826   \n",
              "20090312433251036          17.0          5.0          -13.879383   \n",
              "\n",
              "                   room_coor_y_median  hover_duration_median  \\\n",
              "session_id                                                     \n",
              "20090312431273200          -80.775925                  325.0   \n",
              "20090312431273200         -120.395386                  315.0   \n",
              "20090312431273200          -86.000000                  334.0   \n",
              "20090312433251036          -95.000000                  417.0   \n",
              "20090312433251036         -125.121628                  226.0   \n",
              "\n",
              "                   elapsed_time_sum  hover_duration_sum  \n",
              "session_id                                               \n",
              "20090312431273200          14155937             19116.0  \n",
              "20090312431273200         437052322             24298.0  \n",
              "20090312431273200         105732736             29080.0  \n",
              "20090312433251036          13571045             11030.0  \n",
              "20090312433251036        3241011333            181537.0  \n",
              "\n",
              "[5 rows x 29 columns]"
            ]
          },
          "execution_count": 161,
          "metadata": {},
          "output_type": "execute_result"
        }
      ],
      "source": [
        "model_df.head()"
      ]
    },
    {
      "cell_type": "markdown",
      "metadata": {
        "id": "Dn2T3TJq1_lu"
      },
      "source": [
        "Vamos a replicar la información que tenemos antes de los 3 checkpoints, ya que, por ejemplo, para predecir si acertará las preguntas 1, 2, y 3, la información de la que disponemos es la misma."
      ]
    },
    {
      "cell_type": "markdown",
      "metadata": {
        "id": "gbb1YbuU2flk"
      },
      "source": [
        "Además lo ordenamos por el id de sesión, y el grupo."
      ]
    },
    {
      "cell_type": "code",
      "execution_count": null,
      "metadata": {
        "colab": {
          "base_uri": "https://localhost:8080/",
          "height": 331
        },
        "id": "uhTwlVlvziUK",
        "outputId": "86dc2765-a02a-47fc-a3eb-ece548fe5186"
      },
      "outputs": [
        {
          "output_type": "execute_result",
          "data": {
            "text/plain": [
              "                   level_group  event_name_nunique  name_nunique  \\\n",
              "session_id                                                         \n",
              "20090312431273200            1                  10             3   \n",
              "20090312431273200            1                  10             3   \n",
              "20090312431273200            1                  10             3   \n",
              "20090312431273200            2                  10             3   \n",
              "20090312431273200            2                  10             3   \n",
              "\n",
              "                   fqid_nunique  room_fqid_nunique  text_fqid_nunique  \\\n",
              "session_id                                                              \n",
              "20090312431273200            30                  7                 17   \n",
              "20090312431273200            30                  7                 17   \n",
              "20090312431273200            30                  7                 17   \n",
              "20090312431273200            39                 11                 24   \n",
              "20090312431273200            39                 11                 24   \n",
              "\n",
              "                   name_count  fqid_count  text_fqid_count   elapsed_time  \\\n",
              "session_id                                                                  \n",
              "20090312431273200         165         104               62   85793.557576   \n",
              "20090312431273200         165         104               62   85793.557576   \n",
              "20090312431273200         165         104               62   85793.557576   \n",
              "20090312431273200         296         235              126  357205.189189   \n",
              "20090312431273200         296         235              126  357205.189189   \n",
              "\n",
              "                   ...  room_coor_y_std  hover_duration_std  \\\n",
              "session_id         ...                                        \n",
              "20090312431273200  ...       129.292411         3227.370757   \n",
              "20090312431273200  ...       129.292411         3227.370757   \n",
              "20090312431273200  ...       129.292411         3227.370757   \n",
              "20090312431273200  ...       137.409476         1316.408315   \n",
              "20090312431273200  ...       137.409476         1316.408315   \n",
              "\n",
              "                   elapsed_time_median  level_median  page_median  \\\n",
              "session_id                                                          \n",
              "20090312431273200              87242.0           2.0         -1.0   \n",
              "20090312431273200              87242.0           2.0         -1.0   \n",
              "20090312431273200              87242.0           2.0         -1.0   \n",
              "20090312431273200             352460.5           8.0         -1.0   \n",
              "20090312431273200             352460.5           8.0         -1.0   \n",
              "\n",
              "                   room_coor_x_median  room_coor_y_median  \\\n",
              "session_id                                                  \n",
              "20090312431273200           -3.196174          -80.775925   \n",
              "20090312431273200           -3.196174          -80.775925   \n",
              "20090312431273200           -3.196174          -80.775925   \n",
              "20090312431273200          -16.105585          -86.000000   \n",
              "20090312431273200          -16.105585          -86.000000   \n",
              "\n",
              "                   hover_duration_median  elapsed_time_sum  hover_duration_sum  \n",
              "session_id                                                                      \n",
              "20090312431273200                  325.0          14155937             19116.0  \n",
              "20090312431273200                  325.0          14155937             19116.0  \n",
              "20090312431273200                  325.0          14155937             19116.0  \n",
              "20090312431273200                  334.0         105732736             29080.0  \n",
              "20090312431273200                  334.0         105732736             29080.0  \n",
              "\n",
              "[5 rows x 29 columns]"
            ],
            "text/html": [
              "\n",
              "  <div id=\"df-34063b0f-b9ed-468a-a0e2-313f495bfd87\">\n",
              "    <div class=\"colab-df-container\">\n",
              "      <div>\n",
              "<style scoped>\n",
              "    .dataframe tbody tr th:only-of-type {\n",
              "        vertical-align: middle;\n",
              "    }\n",
              "\n",
              "    .dataframe tbody tr th {\n",
              "        vertical-align: top;\n",
              "    }\n",
              "\n",
              "    .dataframe thead th {\n",
              "        text-align: right;\n",
              "    }\n",
              "</style>\n",
              "<table border=\"1\" class=\"dataframe\">\n",
              "  <thead>\n",
              "    <tr style=\"text-align: right;\">\n",
              "      <th></th>\n",
              "      <th>level_group</th>\n",
              "      <th>event_name_nunique</th>\n",
              "      <th>name_nunique</th>\n",
              "      <th>fqid_nunique</th>\n",
              "      <th>room_fqid_nunique</th>\n",
              "      <th>text_fqid_nunique</th>\n",
              "      <th>name_count</th>\n",
              "      <th>fqid_count</th>\n",
              "      <th>text_fqid_count</th>\n",
              "      <th>elapsed_time</th>\n",
              "      <th>...</th>\n",
              "      <th>room_coor_y_std</th>\n",
              "      <th>hover_duration_std</th>\n",
              "      <th>elapsed_time_median</th>\n",
              "      <th>level_median</th>\n",
              "      <th>page_median</th>\n",
              "      <th>room_coor_x_median</th>\n",
              "      <th>room_coor_y_median</th>\n",
              "      <th>hover_duration_median</th>\n",
              "      <th>elapsed_time_sum</th>\n",
              "      <th>hover_duration_sum</th>\n",
              "    </tr>\n",
              "    <tr>\n",
              "      <th>session_id</th>\n",
              "      <th></th>\n",
              "      <th></th>\n",
              "      <th></th>\n",
              "      <th></th>\n",
              "      <th></th>\n",
              "      <th></th>\n",
              "      <th></th>\n",
              "      <th></th>\n",
              "      <th></th>\n",
              "      <th></th>\n",
              "      <th></th>\n",
              "      <th></th>\n",
              "      <th></th>\n",
              "      <th></th>\n",
              "      <th></th>\n",
              "      <th></th>\n",
              "      <th></th>\n",
              "      <th></th>\n",
              "      <th></th>\n",
              "      <th></th>\n",
              "      <th></th>\n",
              "    </tr>\n",
              "  </thead>\n",
              "  <tbody>\n",
              "    <tr>\n",
              "      <th>20090312431273200</th>\n",
              "      <td>1</td>\n",
              "      <td>10</td>\n",
              "      <td>3</td>\n",
              "      <td>30</td>\n",
              "      <td>7</td>\n",
              "      <td>17</td>\n",
              "      <td>165</td>\n",
              "      <td>104</td>\n",
              "      <td>62</td>\n",
              "      <td>85793.557576</td>\n",
              "      <td>...</td>\n",
              "      <td>129.292411</td>\n",
              "      <td>3227.370757</td>\n",
              "      <td>87242.0</td>\n",
              "      <td>2.0</td>\n",
              "      <td>-1.0</td>\n",
              "      <td>-3.196174</td>\n",
              "      <td>-80.775925</td>\n",
              "      <td>325.0</td>\n",
              "      <td>14155937</td>\n",
              "      <td>19116.0</td>\n",
              "    </tr>\n",
              "    <tr>\n",
              "      <th>20090312431273200</th>\n",
              "      <td>1</td>\n",
              "      <td>10</td>\n",
              "      <td>3</td>\n",
              "      <td>30</td>\n",
              "      <td>7</td>\n",
              "      <td>17</td>\n",
              "      <td>165</td>\n",
              "      <td>104</td>\n",
              "      <td>62</td>\n",
              "      <td>85793.557576</td>\n",
              "      <td>...</td>\n",
              "      <td>129.292411</td>\n",
              "      <td>3227.370757</td>\n",
              "      <td>87242.0</td>\n",
              "      <td>2.0</td>\n",
              "      <td>-1.0</td>\n",
              "      <td>-3.196174</td>\n",
              "      <td>-80.775925</td>\n",
              "      <td>325.0</td>\n",
              "      <td>14155937</td>\n",
              "      <td>19116.0</td>\n",
              "    </tr>\n",
              "    <tr>\n",
              "      <th>20090312431273200</th>\n",
              "      <td>1</td>\n",
              "      <td>10</td>\n",
              "      <td>3</td>\n",
              "      <td>30</td>\n",
              "      <td>7</td>\n",
              "      <td>17</td>\n",
              "      <td>165</td>\n",
              "      <td>104</td>\n",
              "      <td>62</td>\n",
              "      <td>85793.557576</td>\n",
              "      <td>...</td>\n",
              "      <td>129.292411</td>\n",
              "      <td>3227.370757</td>\n",
              "      <td>87242.0</td>\n",
              "      <td>2.0</td>\n",
              "      <td>-1.0</td>\n",
              "      <td>-3.196174</td>\n",
              "      <td>-80.775925</td>\n",
              "      <td>325.0</td>\n",
              "      <td>14155937</td>\n",
              "      <td>19116.0</td>\n",
              "    </tr>\n",
              "    <tr>\n",
              "      <th>20090312431273200</th>\n",
              "      <td>2</td>\n",
              "      <td>10</td>\n",
              "      <td>3</td>\n",
              "      <td>39</td>\n",
              "      <td>11</td>\n",
              "      <td>24</td>\n",
              "      <td>296</td>\n",
              "      <td>235</td>\n",
              "      <td>126</td>\n",
              "      <td>357205.189189</td>\n",
              "      <td>...</td>\n",
              "      <td>137.409476</td>\n",
              "      <td>1316.408315</td>\n",
              "      <td>352460.5</td>\n",
              "      <td>8.0</td>\n",
              "      <td>-1.0</td>\n",
              "      <td>-16.105585</td>\n",
              "      <td>-86.000000</td>\n",
              "      <td>334.0</td>\n",
              "      <td>105732736</td>\n",
              "      <td>29080.0</td>\n",
              "    </tr>\n",
              "    <tr>\n",
              "      <th>20090312431273200</th>\n",
              "      <td>2</td>\n",
              "      <td>10</td>\n",
              "      <td>3</td>\n",
              "      <td>39</td>\n",
              "      <td>11</td>\n",
              "      <td>24</td>\n",
              "      <td>296</td>\n",
              "      <td>235</td>\n",
              "      <td>126</td>\n",
              "      <td>357205.189189</td>\n",
              "      <td>...</td>\n",
              "      <td>137.409476</td>\n",
              "      <td>1316.408315</td>\n",
              "      <td>352460.5</td>\n",
              "      <td>8.0</td>\n",
              "      <td>-1.0</td>\n",
              "      <td>-16.105585</td>\n",
              "      <td>-86.000000</td>\n",
              "      <td>334.0</td>\n",
              "      <td>105732736</td>\n",
              "      <td>29080.0</td>\n",
              "    </tr>\n",
              "  </tbody>\n",
              "</table>\n",
              "<p>5 rows × 29 columns</p>\n",
              "</div>\n",
              "      <button class=\"colab-df-convert\" onclick=\"convertToInteractive('df-34063b0f-b9ed-468a-a0e2-313f495bfd87')\"\n",
              "              title=\"Convert this dataframe to an interactive table.\"\n",
              "              style=\"display:none;\">\n",
              "        \n",
              "  <svg xmlns=\"http://www.w3.org/2000/svg\" height=\"24px\"viewBox=\"0 0 24 24\"\n",
              "       width=\"24px\">\n",
              "    <path d=\"M0 0h24v24H0V0z\" fill=\"none\"/>\n",
              "    <path d=\"M18.56 5.44l.94 2.06.94-2.06 2.06-.94-2.06-.94-.94-2.06-.94 2.06-2.06.94zm-11 1L8.5 8.5l.94-2.06 2.06-.94-2.06-.94L8.5 2.5l-.94 2.06-2.06.94zm10 10l.94 2.06.94-2.06 2.06-.94-2.06-.94-.94-2.06-.94 2.06-2.06.94z\"/><path d=\"M17.41 7.96l-1.37-1.37c-.4-.4-.92-.59-1.43-.59-.52 0-1.04.2-1.43.59L10.3 9.45l-7.72 7.72c-.78.78-.78 2.05 0 2.83L4 21.41c.39.39.9.59 1.41.59.51 0 1.02-.2 1.41-.59l7.78-7.78 2.81-2.81c.8-.78.8-2.07 0-2.86zM5.41 20L4 18.59l7.72-7.72 1.47 1.35L5.41 20z\"/>\n",
              "  </svg>\n",
              "      </button>\n",
              "      \n",
              "  <style>\n",
              "    .colab-df-container {\n",
              "      display:flex;\n",
              "      flex-wrap:wrap;\n",
              "      gap: 12px;\n",
              "    }\n",
              "\n",
              "    .colab-df-convert {\n",
              "      background-color: #E8F0FE;\n",
              "      border: none;\n",
              "      border-radius: 50%;\n",
              "      cursor: pointer;\n",
              "      display: none;\n",
              "      fill: #1967D2;\n",
              "      height: 32px;\n",
              "      padding: 0 0 0 0;\n",
              "      width: 32px;\n",
              "    }\n",
              "\n",
              "    .colab-df-convert:hover {\n",
              "      background-color: #E2EBFA;\n",
              "      box-shadow: 0px 1px 2px rgba(60, 64, 67, 0.3), 0px 1px 3px 1px rgba(60, 64, 67, 0.15);\n",
              "      fill: #174EA6;\n",
              "    }\n",
              "\n",
              "    [theme=dark] .colab-df-convert {\n",
              "      background-color: #3B4455;\n",
              "      fill: #D2E3FC;\n",
              "    }\n",
              "\n",
              "    [theme=dark] .colab-df-convert:hover {\n",
              "      background-color: #434B5C;\n",
              "      box-shadow: 0px 1px 3px 1px rgba(0, 0, 0, 0.15);\n",
              "      filter: drop-shadow(0px 1px 2px rgba(0, 0, 0, 0.3));\n",
              "      fill: #FFFFFF;\n",
              "    }\n",
              "  </style>\n",
              "\n",
              "      <script>\n",
              "        const buttonEl =\n",
              "          document.querySelector('#df-34063b0f-b9ed-468a-a0e2-313f495bfd87 button.colab-df-convert');\n",
              "        buttonEl.style.display =\n",
              "          google.colab.kernel.accessAllowed ? 'block' : 'none';\n",
              "\n",
              "        async function convertToInteractive(key) {\n",
              "          const element = document.querySelector('#df-34063b0f-b9ed-468a-a0e2-313f495bfd87');\n",
              "          const dataTable =\n",
              "            await google.colab.kernel.invokeFunction('convertToInteractive',\n",
              "                                                     [key], {});\n",
              "          if (!dataTable) return;\n",
              "\n",
              "          const docLinkHtml = 'Like what you see? Visit the ' +\n",
              "            '<a target=\"_blank\" href=https://colab.research.google.com/notebooks/data_table.ipynb>data table notebook</a>'\n",
              "            + ' to learn more about interactive tables.';\n",
              "          element.innerHTML = '';\n",
              "          dataTable['output_type'] = 'display_data';\n",
              "          await google.colab.output.renderOutput(dataTable, element);\n",
              "          const docLink = document.createElement('div');\n",
              "          docLink.innerHTML = docLinkHtml;\n",
              "          element.appendChild(docLink);\n",
              "        }\n",
              "      </script>\n",
              "    </div>\n",
              "  </div>\n",
              "  "
            ]
          },
          "metadata": {},
          "execution_count": 10
        }
      ],
      "source": [
        "condicion1 = model_df['level_group'] == 1\n",
        "condicion2 = model_df['level_group'] == 2\n",
        "condicion3 = model_df['level_group'] == 3\n",
        "model_df1 = pd.concat([model_df, model_df[condicion1].copy(), model_df[condicion1].copy()])\n",
        "model_df2 = pd.concat([model_df1, model_df[condicion2].copy(), model_df[condicion2].copy(), model_df[condicion2].copy(), model_df[condicion2].copy(), model_df[condicion2].copy(), model_df[condicion2].copy(), model_df[condicion2].copy(), model_df[condicion2].copy(), model_df[condicion2].copy()])\n",
        "model_df3 = pd.concat([model_df2, model_df[condicion3].copy(), model_df[condicion3].copy(), model_df[condicion3].copy(), model_df[condicion3].copy()])\n",
        "model_df3['level_group'] = pd.to_numeric(model_df3['level_group'])\n",
        "model_df3 = model_df3.sort_values(['session_id','level_group'])\n",
        "model_df3.head()"
      ]
    },
    {
      "cell_type": "markdown",
      "metadata": {
        "id": "WBkFsy8Y2SJO"
      },
      "source": [
        "Esto lo hacemos para añadir ahora las columnas del número de pregunta, y si es correcta o no, del dataframe labels."
      ]
    },
    {
      "cell_type": "code",
      "execution_count": null,
      "metadata": {
        "id": "AH2OokHQucjz"
      },
      "outputs": [],
      "source": [
        "labels = labels.sort_values(['session_id','pregunta'])"
      ]
    },
    {
      "cell_type": "code",
      "execution_count": null,
      "metadata": {
        "colab": {
          "base_uri": "https://localhost:8080/",
          "height": 206
        },
        "id": "i5c59jm5QdIP",
        "outputId": "38b03e55-7d3d-45cd-a243-7f933f0d149e"
      },
      "outputs": [
        {
          "data": {
            "text/html": [
              "\n",
              "  <div id=\"df-ad432d9f-6009-4624-b28d-8f2f7df92c2c\">\n",
              "    <div class=\"colab-df-container\">\n",
              "      <div>\n",
              "<style scoped>\n",
              "    .dataframe tbody tr th:only-of-type {\n",
              "        vertical-align: middle;\n",
              "    }\n",
              "\n",
              "    .dataframe tbody tr th {\n",
              "        vertical-align: top;\n",
              "    }\n",
              "\n",
              "    .dataframe thead th {\n",
              "        text-align: right;\n",
              "    }\n",
              "</style>\n",
              "<table border=\"1\" class=\"dataframe\">\n",
              "  <thead>\n",
              "    <tr style=\"text-align: right;\">\n",
              "      <th></th>\n",
              "      <th>session_id</th>\n",
              "      <th>correct</th>\n",
              "      <th>pregunta</th>\n",
              "    </tr>\n",
              "  </thead>\n",
              "  <tbody>\n",
              "    <tr>\n",
              "      <th>0</th>\n",
              "      <td>20090312431273200</td>\n",
              "      <td>1</td>\n",
              "      <td>1</td>\n",
              "    </tr>\n",
              "    <tr>\n",
              "      <th>23562</th>\n",
              "      <td>20090312431273200</td>\n",
              "      <td>1</td>\n",
              "      <td>2</td>\n",
              "    </tr>\n",
              "    <tr>\n",
              "      <th>47124</th>\n",
              "      <td>20090312431273200</td>\n",
              "      <td>1</td>\n",
              "      <td>3</td>\n",
              "    </tr>\n",
              "    <tr>\n",
              "      <th>70686</th>\n",
              "      <td>20090312431273200</td>\n",
              "      <td>1</td>\n",
              "      <td>4</td>\n",
              "    </tr>\n",
              "    <tr>\n",
              "      <th>94248</th>\n",
              "      <td>20090312431273200</td>\n",
              "      <td>1</td>\n",
              "      <td>5</td>\n",
              "    </tr>\n",
              "  </tbody>\n",
              "</table>\n",
              "</div>\n",
              "      <button class=\"colab-df-convert\" onclick=\"convertToInteractive('df-ad432d9f-6009-4624-b28d-8f2f7df92c2c')\"\n",
              "              title=\"Convert this dataframe to an interactive table.\"\n",
              "              style=\"display:none;\">\n",
              "        \n",
              "  <svg xmlns=\"http://www.w3.org/2000/svg\" height=\"24px\"viewBox=\"0 0 24 24\"\n",
              "       width=\"24px\">\n",
              "    <path d=\"M0 0h24v24H0V0z\" fill=\"none\"/>\n",
              "    <path d=\"M18.56 5.44l.94 2.06.94-2.06 2.06-.94-2.06-.94-.94-2.06-.94 2.06-2.06.94zm-11 1L8.5 8.5l.94-2.06 2.06-.94-2.06-.94L8.5 2.5l-.94 2.06-2.06.94zm10 10l.94 2.06.94-2.06 2.06-.94-2.06-.94-.94-2.06-.94 2.06-2.06.94z\"/><path d=\"M17.41 7.96l-1.37-1.37c-.4-.4-.92-.59-1.43-.59-.52 0-1.04.2-1.43.59L10.3 9.45l-7.72 7.72c-.78.78-.78 2.05 0 2.83L4 21.41c.39.39.9.59 1.41.59.51 0 1.02-.2 1.41-.59l7.78-7.78 2.81-2.81c.8-.78.8-2.07 0-2.86zM5.41 20L4 18.59l7.72-7.72 1.47 1.35L5.41 20z\"/>\n",
              "  </svg>\n",
              "      </button>\n",
              "      \n",
              "  <style>\n",
              "    .colab-df-container {\n",
              "      display:flex;\n",
              "      flex-wrap:wrap;\n",
              "      gap: 12px;\n",
              "    }\n",
              "\n",
              "    .colab-df-convert {\n",
              "      background-color: #E8F0FE;\n",
              "      border: none;\n",
              "      border-radius: 50%;\n",
              "      cursor: pointer;\n",
              "      display: none;\n",
              "      fill: #1967D2;\n",
              "      height: 32px;\n",
              "      padding: 0 0 0 0;\n",
              "      width: 32px;\n",
              "    }\n",
              "\n",
              "    .colab-df-convert:hover {\n",
              "      background-color: #E2EBFA;\n",
              "      box-shadow: 0px 1px 2px rgba(60, 64, 67, 0.3), 0px 1px 3px 1px rgba(60, 64, 67, 0.15);\n",
              "      fill: #174EA6;\n",
              "    }\n",
              "\n",
              "    [theme=dark] .colab-df-convert {\n",
              "      background-color: #3B4455;\n",
              "      fill: #D2E3FC;\n",
              "    }\n",
              "\n",
              "    [theme=dark] .colab-df-convert:hover {\n",
              "      background-color: #434B5C;\n",
              "      box-shadow: 0px 1px 3px 1px rgba(0, 0, 0, 0.15);\n",
              "      filter: drop-shadow(0px 1px 2px rgba(0, 0, 0, 0.3));\n",
              "      fill: #FFFFFF;\n",
              "    }\n",
              "  </style>\n",
              "\n",
              "      <script>\n",
              "        const buttonEl =\n",
              "          document.querySelector('#df-ad432d9f-6009-4624-b28d-8f2f7df92c2c button.colab-df-convert');\n",
              "        buttonEl.style.display =\n",
              "          google.colab.kernel.accessAllowed ? 'block' : 'none';\n",
              "\n",
              "        async function convertToInteractive(key) {\n",
              "          const element = document.querySelector('#df-ad432d9f-6009-4624-b28d-8f2f7df92c2c');\n",
              "          const dataTable =\n",
              "            await google.colab.kernel.invokeFunction('convertToInteractive',\n",
              "                                                     [key], {});\n",
              "          if (!dataTable) return;\n",
              "\n",
              "          const docLinkHtml = 'Like what you see? Visit the ' +\n",
              "            '<a target=\"_blank\" href=https://colab.research.google.com/notebooks/data_table.ipynb>data table notebook</a>'\n",
              "            + ' to learn more about interactive tables.';\n",
              "          element.innerHTML = '';\n",
              "          dataTable['output_type'] = 'display_data';\n",
              "          await google.colab.output.renderOutput(dataTable, element);\n",
              "          const docLink = document.createElement('div');\n",
              "          docLink.innerHTML = docLinkHtml;\n",
              "          element.appendChild(docLink);\n",
              "        }\n",
              "      </script>\n",
              "    </div>\n",
              "  </div>\n",
              "  "
            ],
            "text/plain": [
              "              session_id  correct  pregunta\n",
              "0      20090312431273200        1         1\n",
              "23562  20090312431273200        1         2\n",
              "47124  20090312431273200        1         3\n",
              "70686  20090312431273200        1         4\n",
              "94248  20090312431273200        1         5"
            ]
          },
          "execution_count": 15,
          "metadata": {},
          "output_type": "execute_result"
        }
      ],
      "source": [
        "labels.head()"
      ]
    },
    {
      "cell_type": "code",
      "execution_count": null,
      "metadata": {
        "id": "77ySBGdhPAIx"
      },
      "outputs": [],
      "source": [
        "labels_final = labels\n",
        "labels_final.set_index(model_df3.index, inplace=True)"
      ]
    },
    {
      "cell_type": "code",
      "execution_count": null,
      "metadata": {
        "id": "SeR1cCI-OVdD"
      },
      "outputs": [],
      "source": [
        "df_final = model_df3\n",
        "df_final.insert(len(df_final.columns), 'pregunta', labels_final['pregunta'])\n",
        "df_final.insert(len(df_final.columns), 'correct', labels_final['correct'])"
      ]
    },
    {
      "cell_type": "code",
      "execution_count": null,
      "metadata": {
        "colab": {
          "base_uri": "https://localhost:8080/",
          "height": 331
        },
        "id": "0CD8OuwJMd6u",
        "outputId": "b28211cc-c42a-497a-c103-d318cd52b46a"
      },
      "outputs": [
        {
          "data": {
            "text/html": [
              "\n",
              "  <div id=\"df-664fcef0-1d76-49b5-a231-b02e37aeac6c\">\n",
              "    <div class=\"colab-df-container\">\n",
              "      <div>\n",
              "<style scoped>\n",
              "    .dataframe tbody tr th:only-of-type {\n",
              "        vertical-align: middle;\n",
              "    }\n",
              "\n",
              "    .dataframe tbody tr th {\n",
              "        vertical-align: top;\n",
              "    }\n",
              "\n",
              "    .dataframe thead th {\n",
              "        text-align: right;\n",
              "    }\n",
              "</style>\n",
              "<table border=\"1\" class=\"dataframe\">\n",
              "  <thead>\n",
              "    <tr style=\"text-align: right;\">\n",
              "      <th></th>\n",
              "      <th>level_group</th>\n",
              "      <th>event_name_nunique</th>\n",
              "      <th>name_nunique</th>\n",
              "      <th>fqid_nunique</th>\n",
              "      <th>room_fqid_nunique</th>\n",
              "      <th>text_fqid_nunique</th>\n",
              "      <th>name_count</th>\n",
              "      <th>fqid_count</th>\n",
              "      <th>text_fqid_count</th>\n",
              "      <th>elapsed_time</th>\n",
              "      <th>...</th>\n",
              "      <th>elapsed_time_median</th>\n",
              "      <th>level_median</th>\n",
              "      <th>page_median</th>\n",
              "      <th>room_coor_x_median</th>\n",
              "      <th>room_coor_y_median</th>\n",
              "      <th>hover_duration_median</th>\n",
              "      <th>elapsed_time_sum</th>\n",
              "      <th>hover_duration_sum</th>\n",
              "      <th>pregunta</th>\n",
              "      <th>correct</th>\n",
              "    </tr>\n",
              "    <tr>\n",
              "      <th>session_id</th>\n",
              "      <th></th>\n",
              "      <th></th>\n",
              "      <th></th>\n",
              "      <th></th>\n",
              "      <th></th>\n",
              "      <th></th>\n",
              "      <th></th>\n",
              "      <th></th>\n",
              "      <th></th>\n",
              "      <th></th>\n",
              "      <th></th>\n",
              "      <th></th>\n",
              "      <th></th>\n",
              "      <th></th>\n",
              "      <th></th>\n",
              "      <th></th>\n",
              "      <th></th>\n",
              "      <th></th>\n",
              "      <th></th>\n",
              "      <th></th>\n",
              "      <th></th>\n",
              "    </tr>\n",
              "  </thead>\n",
              "  <tbody>\n",
              "    <tr>\n",
              "      <th>20090312431273200</th>\n",
              "      <td>1</td>\n",
              "      <td>10</td>\n",
              "      <td>3</td>\n",
              "      <td>30</td>\n",
              "      <td>7</td>\n",
              "      <td>17</td>\n",
              "      <td>165</td>\n",
              "      <td>104</td>\n",
              "      <td>62</td>\n",
              "      <td>85793.557576</td>\n",
              "      <td>...</td>\n",
              "      <td>87242.0</td>\n",
              "      <td>2.0</td>\n",
              "      <td>-1.0</td>\n",
              "      <td>-3.196174</td>\n",
              "      <td>-80.775925</td>\n",
              "      <td>325.0</td>\n",
              "      <td>14155937</td>\n",
              "      <td>19116.0</td>\n",
              "      <td>1</td>\n",
              "      <td>1</td>\n",
              "    </tr>\n",
              "    <tr>\n",
              "      <th>20090312431273200</th>\n",
              "      <td>1</td>\n",
              "      <td>10</td>\n",
              "      <td>3</td>\n",
              "      <td>30</td>\n",
              "      <td>7</td>\n",
              "      <td>17</td>\n",
              "      <td>165</td>\n",
              "      <td>104</td>\n",
              "      <td>62</td>\n",
              "      <td>85793.557576</td>\n",
              "      <td>...</td>\n",
              "      <td>87242.0</td>\n",
              "      <td>2.0</td>\n",
              "      <td>-1.0</td>\n",
              "      <td>-3.196174</td>\n",
              "      <td>-80.775925</td>\n",
              "      <td>325.0</td>\n",
              "      <td>14155937</td>\n",
              "      <td>19116.0</td>\n",
              "      <td>2</td>\n",
              "      <td>1</td>\n",
              "    </tr>\n",
              "    <tr>\n",
              "      <th>20090312431273200</th>\n",
              "      <td>1</td>\n",
              "      <td>10</td>\n",
              "      <td>3</td>\n",
              "      <td>30</td>\n",
              "      <td>7</td>\n",
              "      <td>17</td>\n",
              "      <td>165</td>\n",
              "      <td>104</td>\n",
              "      <td>62</td>\n",
              "      <td>85793.557576</td>\n",
              "      <td>...</td>\n",
              "      <td>87242.0</td>\n",
              "      <td>2.0</td>\n",
              "      <td>-1.0</td>\n",
              "      <td>-3.196174</td>\n",
              "      <td>-80.775925</td>\n",
              "      <td>325.0</td>\n",
              "      <td>14155937</td>\n",
              "      <td>19116.0</td>\n",
              "      <td>3</td>\n",
              "      <td>1</td>\n",
              "    </tr>\n",
              "    <tr>\n",
              "      <th>20090312431273200</th>\n",
              "      <td>2</td>\n",
              "      <td>10</td>\n",
              "      <td>3</td>\n",
              "      <td>39</td>\n",
              "      <td>11</td>\n",
              "      <td>24</td>\n",
              "      <td>296</td>\n",
              "      <td>235</td>\n",
              "      <td>126</td>\n",
              "      <td>357205.189189</td>\n",
              "      <td>...</td>\n",
              "      <td>352460.5</td>\n",
              "      <td>8.0</td>\n",
              "      <td>-1.0</td>\n",
              "      <td>-16.105585</td>\n",
              "      <td>-86.000000</td>\n",
              "      <td>334.0</td>\n",
              "      <td>105732736</td>\n",
              "      <td>29080.0</td>\n",
              "      <td>4</td>\n",
              "      <td>1</td>\n",
              "    </tr>\n",
              "    <tr>\n",
              "      <th>20090312431273200</th>\n",
              "      <td>2</td>\n",
              "      <td>10</td>\n",
              "      <td>3</td>\n",
              "      <td>39</td>\n",
              "      <td>11</td>\n",
              "      <td>24</td>\n",
              "      <td>296</td>\n",
              "      <td>235</td>\n",
              "      <td>126</td>\n",
              "      <td>357205.189189</td>\n",
              "      <td>...</td>\n",
              "      <td>352460.5</td>\n",
              "      <td>8.0</td>\n",
              "      <td>-1.0</td>\n",
              "      <td>-16.105585</td>\n",
              "      <td>-86.000000</td>\n",
              "      <td>334.0</td>\n",
              "      <td>105732736</td>\n",
              "      <td>29080.0</td>\n",
              "      <td>5</td>\n",
              "      <td>1</td>\n",
              "    </tr>\n",
              "  </tbody>\n",
              "</table>\n",
              "<p>5 rows × 31 columns</p>\n",
              "</div>\n",
              "      <button class=\"colab-df-convert\" onclick=\"convertToInteractive('df-664fcef0-1d76-49b5-a231-b02e37aeac6c')\"\n",
              "              title=\"Convert this dataframe to an interactive table.\"\n",
              "              style=\"display:none;\">\n",
              "        \n",
              "  <svg xmlns=\"http://www.w3.org/2000/svg\" height=\"24px\"viewBox=\"0 0 24 24\"\n",
              "       width=\"24px\">\n",
              "    <path d=\"M0 0h24v24H0V0z\" fill=\"none\"/>\n",
              "    <path d=\"M18.56 5.44l.94 2.06.94-2.06 2.06-.94-2.06-.94-.94-2.06-.94 2.06-2.06.94zm-11 1L8.5 8.5l.94-2.06 2.06-.94-2.06-.94L8.5 2.5l-.94 2.06-2.06.94zm10 10l.94 2.06.94-2.06 2.06-.94-2.06-.94-.94-2.06-.94 2.06-2.06.94z\"/><path d=\"M17.41 7.96l-1.37-1.37c-.4-.4-.92-.59-1.43-.59-.52 0-1.04.2-1.43.59L10.3 9.45l-7.72 7.72c-.78.78-.78 2.05 0 2.83L4 21.41c.39.39.9.59 1.41.59.51 0 1.02-.2 1.41-.59l7.78-7.78 2.81-2.81c.8-.78.8-2.07 0-2.86zM5.41 20L4 18.59l7.72-7.72 1.47 1.35L5.41 20z\"/>\n",
              "  </svg>\n",
              "      </button>\n",
              "      \n",
              "  <style>\n",
              "    .colab-df-container {\n",
              "      display:flex;\n",
              "      flex-wrap:wrap;\n",
              "      gap: 12px;\n",
              "    }\n",
              "\n",
              "    .colab-df-convert {\n",
              "      background-color: #E8F0FE;\n",
              "      border: none;\n",
              "      border-radius: 50%;\n",
              "      cursor: pointer;\n",
              "      display: none;\n",
              "      fill: #1967D2;\n",
              "      height: 32px;\n",
              "      padding: 0 0 0 0;\n",
              "      width: 32px;\n",
              "    }\n",
              "\n",
              "    .colab-df-convert:hover {\n",
              "      background-color: #E2EBFA;\n",
              "      box-shadow: 0px 1px 2px rgba(60, 64, 67, 0.3), 0px 1px 3px 1px rgba(60, 64, 67, 0.15);\n",
              "      fill: #174EA6;\n",
              "    }\n",
              "\n",
              "    [theme=dark] .colab-df-convert {\n",
              "      background-color: #3B4455;\n",
              "      fill: #D2E3FC;\n",
              "    }\n",
              "\n",
              "    [theme=dark] .colab-df-convert:hover {\n",
              "      background-color: #434B5C;\n",
              "      box-shadow: 0px 1px 3px 1px rgba(0, 0, 0, 0.15);\n",
              "      filter: drop-shadow(0px 1px 2px rgba(0, 0, 0, 0.3));\n",
              "      fill: #FFFFFF;\n",
              "    }\n",
              "  </style>\n",
              "\n",
              "      <script>\n",
              "        const buttonEl =\n",
              "          document.querySelector('#df-664fcef0-1d76-49b5-a231-b02e37aeac6c button.colab-df-convert');\n",
              "        buttonEl.style.display =\n",
              "          google.colab.kernel.accessAllowed ? 'block' : 'none';\n",
              "\n",
              "        async function convertToInteractive(key) {\n",
              "          const element = document.querySelector('#df-664fcef0-1d76-49b5-a231-b02e37aeac6c');\n",
              "          const dataTable =\n",
              "            await google.colab.kernel.invokeFunction('convertToInteractive',\n",
              "                                                     [key], {});\n",
              "          if (!dataTable) return;\n",
              "\n",
              "          const docLinkHtml = 'Like what you see? Visit the ' +\n",
              "            '<a target=\"_blank\" href=https://colab.research.google.com/notebooks/data_table.ipynb>data table notebook</a>'\n",
              "            + ' to learn more about interactive tables.';\n",
              "          element.innerHTML = '';\n",
              "          dataTable['output_type'] = 'display_data';\n",
              "          await google.colab.output.renderOutput(dataTable, element);\n",
              "          const docLink = document.createElement('div');\n",
              "          docLink.innerHTML = docLinkHtml;\n",
              "          element.appendChild(docLink);\n",
              "        }\n",
              "      </script>\n",
              "    </div>\n",
              "  </div>\n",
              "  "
            ],
            "text/plain": [
              "                   level_group  event_name_nunique  name_nunique  \\\n",
              "session_id                                                         \n",
              "20090312431273200            1                  10             3   \n",
              "20090312431273200            1                  10             3   \n",
              "20090312431273200            1                  10             3   \n",
              "20090312431273200            2                  10             3   \n",
              "20090312431273200            2                  10             3   \n",
              "\n",
              "                   fqid_nunique  room_fqid_nunique  text_fqid_nunique  \\\n",
              "session_id                                                              \n",
              "20090312431273200            30                  7                 17   \n",
              "20090312431273200            30                  7                 17   \n",
              "20090312431273200            30                  7                 17   \n",
              "20090312431273200            39                 11                 24   \n",
              "20090312431273200            39                 11                 24   \n",
              "\n",
              "                   name_count  fqid_count  text_fqid_count   elapsed_time  \\\n",
              "session_id                                                                  \n",
              "20090312431273200         165         104               62   85793.557576   \n",
              "20090312431273200         165         104               62   85793.557576   \n",
              "20090312431273200         165         104               62   85793.557576   \n",
              "20090312431273200         296         235              126  357205.189189   \n",
              "20090312431273200         296         235              126  357205.189189   \n",
              "\n",
              "                   ...  elapsed_time_median  level_median  page_median  \\\n",
              "session_id         ...                                                   \n",
              "20090312431273200  ...              87242.0           2.0         -1.0   \n",
              "20090312431273200  ...              87242.0           2.0         -1.0   \n",
              "20090312431273200  ...              87242.0           2.0         -1.0   \n",
              "20090312431273200  ...             352460.5           8.0         -1.0   \n",
              "20090312431273200  ...             352460.5           8.0         -1.0   \n",
              "\n",
              "                   room_coor_x_median  room_coor_y_median  \\\n",
              "session_id                                                  \n",
              "20090312431273200           -3.196174          -80.775925   \n",
              "20090312431273200           -3.196174          -80.775925   \n",
              "20090312431273200           -3.196174          -80.775925   \n",
              "20090312431273200          -16.105585          -86.000000   \n",
              "20090312431273200          -16.105585          -86.000000   \n",
              "\n",
              "                   hover_duration_median  elapsed_time_sum  \\\n",
              "session_id                                                   \n",
              "20090312431273200                  325.0          14155937   \n",
              "20090312431273200                  325.0          14155937   \n",
              "20090312431273200                  325.0          14155937   \n",
              "20090312431273200                  334.0         105732736   \n",
              "20090312431273200                  334.0         105732736   \n",
              "\n",
              "                   hover_duration_sum  pregunta  correct  \n",
              "session_id                                                \n",
              "20090312431273200             19116.0         1        1  \n",
              "20090312431273200             19116.0         2        1  \n",
              "20090312431273200             19116.0         3        1  \n",
              "20090312431273200             29080.0         4        1  \n",
              "20090312431273200             29080.0         5        1  \n",
              "\n",
              "[5 rows x 31 columns]"
            ]
          },
          "execution_count": 18,
          "metadata": {},
          "output_type": "execute_result"
        }
      ],
      "source": [
        "df_final.head()"
      ]
    },
    {
      "cell_type": "markdown",
      "metadata": {
        "id": "RHpKCc4t3HWl"
      },
      "source": [
        "Ya tenemos el dataframe final que utilizaremos para entrenar y evaluar los modelos."
      ]
    },
    {
      "cell_type": "markdown",
      "metadata": {
        "id": "kTNZhuUoXboi"
      },
      "source": [
        "# 4. Algoritmos de Clasificación"
      ]
    },
    {
      "cell_type": "code",
      "execution_count": null,
      "metadata": {
        "colab": {
          "base_uri": "https://localhost:8080/"
        },
        "id": "T3KRcNxjURw3",
        "outputId": "c8af2cde-85f3-4051-88cc-cd99e7d9a63c"
      },
      "outputs": [
        {
          "output_type": "stream",
          "name": "stdout",
          "text": [
            "Datos entrenamiento:  (339292, 29)\n",
            "Datos test:  (84824, 29)\n"
          ]
        }
      ],
      "source": [
        "# convertimos el DataFrame al formato necesario para scikit-learn\n",
        "data = df_final.values\n",
        "\n",
        "y = (data[:,30:31])     \n",
        "X = data[:,1:30]      \n",
        "\n",
        "X_train, X_test, y_train, y_test = train_test_split(X, y, test_size=.2, random_state = 1)\n",
        "\n",
        "print('Datos entrenamiento: ', X_train.shape)\n",
        "print('Datos test: ', X_test.shape)"
      ]
    },
    {
      "cell_type": "markdown",
      "metadata": {
        "id": "ZQ-WRRZIXYN8"
      },
      "source": [
        "## KNN"
      ]
    },
    {
      "cell_type": "code",
      "execution_count": null,
      "metadata": {
        "colab": {
          "base_uri": "https://localhost:8080/",
          "height": 129
        },
        "id": "adAFjqMUU_MN",
        "outputId": "9b466760-aef3-479b-9c89-b0f3ec248b54"
      },
      "outputs": [
        {
          "name": "stderr",
          "output_type": "stream",
          "text": [
            "/usr/local/lib/python3.10/dist-packages/sklearn/neighbors/_classification.py:215: DataConversionWarning: A column-vector y was passed when a 1d array was expected. Please change the shape of y to (n_samples,), for example using ravel().\n",
            "  return self._fit(X, y)\n"
          ]
        },
        {
          "data": {
            "text/html": [
              "<style>#sk-container-id-1 {color: black;background-color: white;}#sk-container-id-1 pre{padding: 0;}#sk-container-id-1 div.sk-toggleable {background-color: white;}#sk-container-id-1 label.sk-toggleable__label {cursor: pointer;display: block;width: 100%;margin-bottom: 0;padding: 0.3em;box-sizing: border-box;text-align: center;}#sk-container-id-1 label.sk-toggleable__label-arrow:before {content: \"▸\";float: left;margin-right: 0.25em;color: #696969;}#sk-container-id-1 label.sk-toggleable__label-arrow:hover:before {color: black;}#sk-container-id-1 div.sk-estimator:hover label.sk-toggleable__label-arrow:before {color: black;}#sk-container-id-1 div.sk-toggleable__content {max-height: 0;max-width: 0;overflow: hidden;text-align: left;background-color: #f0f8ff;}#sk-container-id-1 div.sk-toggleable__content pre {margin: 0.2em;color: black;border-radius: 0.25em;background-color: #f0f8ff;}#sk-container-id-1 input.sk-toggleable__control:checked~div.sk-toggleable__content {max-height: 200px;max-width: 100%;overflow: auto;}#sk-container-id-1 input.sk-toggleable__control:checked~label.sk-toggleable__label-arrow:before {content: \"▾\";}#sk-container-id-1 div.sk-estimator input.sk-toggleable__control:checked~label.sk-toggleable__label {background-color: #d4ebff;}#sk-container-id-1 div.sk-label input.sk-toggleable__control:checked~label.sk-toggleable__label {background-color: #d4ebff;}#sk-container-id-1 input.sk-hidden--visually {border: 0;clip: rect(1px 1px 1px 1px);clip: rect(1px, 1px, 1px, 1px);height: 1px;margin: -1px;overflow: hidden;padding: 0;position: absolute;width: 1px;}#sk-container-id-1 div.sk-estimator {font-family: monospace;background-color: #f0f8ff;border: 1px dotted black;border-radius: 0.25em;box-sizing: border-box;margin-bottom: 0.5em;}#sk-container-id-1 div.sk-estimator:hover {background-color: #d4ebff;}#sk-container-id-1 div.sk-parallel-item::after {content: \"\";width: 100%;border-bottom: 1px solid gray;flex-grow: 1;}#sk-container-id-1 div.sk-label:hover label.sk-toggleable__label {background-color: #d4ebff;}#sk-container-id-1 div.sk-serial::before {content: \"\";position: absolute;border-left: 1px solid gray;box-sizing: border-box;top: 0;bottom: 0;left: 50%;z-index: 0;}#sk-container-id-1 div.sk-serial {display: flex;flex-direction: column;align-items: center;background-color: white;padding-right: 0.2em;padding-left: 0.2em;position: relative;}#sk-container-id-1 div.sk-item {position: relative;z-index: 1;}#sk-container-id-1 div.sk-parallel {display: flex;align-items: stretch;justify-content: center;background-color: white;position: relative;}#sk-container-id-1 div.sk-item::before, #sk-container-id-1 div.sk-parallel-item::before {content: \"\";position: absolute;border-left: 1px solid gray;box-sizing: border-box;top: 0;bottom: 0;left: 50%;z-index: -1;}#sk-container-id-1 div.sk-parallel-item {display: flex;flex-direction: column;z-index: 1;position: relative;background-color: white;}#sk-container-id-1 div.sk-parallel-item:first-child::after {align-self: flex-end;width: 50%;}#sk-container-id-1 div.sk-parallel-item:last-child::after {align-self: flex-start;width: 50%;}#sk-container-id-1 div.sk-parallel-item:only-child::after {width: 0;}#sk-container-id-1 div.sk-dashed-wrapped {border: 1px dashed gray;margin: 0 0.4em 0.5em 0.4em;box-sizing: border-box;padding-bottom: 0.4em;background-color: white;}#sk-container-id-1 div.sk-label label {font-family: monospace;font-weight: bold;display: inline-block;line-height: 1.2em;}#sk-container-id-1 div.sk-label-container {text-align: center;}#sk-container-id-1 div.sk-container {/* jupyter's `normalize.less` sets `[hidden] { display: none; }` but bootstrap.min.css set `[hidden] { display: none !important; }` so we also need the `!important` here to be able to override the default hidden behavior on the sphinx rendered scikit-learn.org. See: https://github.com/scikit-learn/scikit-learn/issues/21755 */display: inline-block !important;position: relative;}#sk-container-id-1 div.sk-text-repr-fallback {display: none;}</style><div id=\"sk-container-id-1\" class=\"sk-top-container\"><div class=\"sk-text-repr-fallback\"><pre>KNeighborsClassifier()</pre><b>In a Jupyter environment, please rerun this cell to show the HTML representation or trust the notebook. <br />On GitHub, the HTML representation is unable to render, please try loading this page with nbviewer.org.</b></div><div class=\"sk-container\" hidden><div class=\"sk-item\"><div class=\"sk-estimator sk-toggleable\"><input class=\"sk-toggleable__control sk-hidden--visually\" id=\"sk-estimator-id-1\" type=\"checkbox\" checked><label for=\"sk-estimator-id-1\" class=\"sk-toggleable__label sk-toggleable__label-arrow\">KNeighborsClassifier</label><div class=\"sk-toggleable__content\"><pre>KNeighborsClassifier()</pre></div></div></div></div></div>"
            ],
            "text/plain": [
              "KNeighborsClassifier()"
            ]
          },
          "execution_count": 11,
          "metadata": {},
          "output_type": "execute_result"
        }
      ],
      "source": [
        "knn = KNeighborsClassifier(n_neighbors=5)\n",
        "\n",
        "knn.fit(X_train, y_train)"
      ]
    },
    {
      "cell_type": "code",
      "execution_count": null,
      "metadata": {
        "id": "_iDvJ4NdVOpl"
      },
      "outputs": [],
      "source": [
        "y_pred = knn.predict(X_test)"
      ]
    },
    {
      "cell_type": "code",
      "execution_count": null,
      "metadata": {
        "colab": {
          "base_uri": "https://localhost:8080/"
        },
        "id": "_FPw9mJLVQq_",
        "outputId": "98c64fe3-3fac-40fd-be9f-fc43be811c48"
      },
      "outputs": [
        {
          "name": "stdout",
          "output_type": "stream",
          "text": [
            "Accuracy de 0.6911723097236632\n",
            "Precisión de 0.7470203541773827\n",
            "La sensibilidad, o recall es 0.8498319763262167\n",
            "El f1 score es 0.7951164573198392\n"
          ]
        }
      ],
      "source": [
        "accuracy = accuracy_score(y_test, y_pred)\n",
        "precision = precision_score(y_test, y_pred)\n",
        "recall = recall_score(y_test, y_pred)\n",
        "f1score = f1_score(y_test, y_pred)\n",
        "cm = confusion_matrix(y_test, y_pred)\n",
        "\n",
        "print('Accuracy de {}'.format(accuracy))\n",
        "print('Precisión de {}'.format(precision))\n",
        "print('La sensibilidad, o recall es {}'.format(recall))\n",
        "print('El f1 score es {}'.format(f1score))"
      ]
    },
    {
      "cell_type": "code",
      "execution_count": null,
      "metadata": {
        "id": "ci2_W_29VjkN"
      },
      "outputs": [],
      "source": [
        "algoritmos= pd.DataFrame({'Accuracy':[],'Precision':[],'Recall':[],'F1Score':[]})\n",
        "algoritmos.loc['KNN']=[accuracy,precision,recall,f1score]"
      ]
    },
    {
      "cell_type": "code",
      "execution_count": null,
      "metadata": {
        "colab": {
          "base_uri": "https://localhost:8080/",
          "height": 465
        },
        "id": "U3lXC-VjVhCQ",
        "outputId": "f83f3686-00cf-4bf2-d050-204b7a2ecb03"
      },
      "outputs": [
        {
          "name": "stdout",
          "output_type": "stream",
          "text": [
            "[[ 7797 17214]\n",
            " [ 8982 50831]]\n"
          ]
        },
        {
          "data": {
            "image/png": "[encoded data removed]",
            "text/plain": [
              "<Figure size 640x480 with 3 Axes>"
            ]
          },
          "metadata": {},
          "output_type": "display_data"
        }
      ],
      "source": [
        "print(cm)\n",
        "mosaic(cm)\n",
        "plt.show()"
      ]
    },
    {
      "cell_type": "markdown",
      "metadata": {
        "id": "o11NQdxIXRrA"
      },
      "source": [
        "## Árbol de Decisión Simple"
      ]
    },
    {
      "cell_type": "code",
      "execution_count": null,
      "metadata": {
        "colab": {
          "base_uri": "https://localhost:8080/",
          "height": 75
        },
        "id": "8pWRZevuWfLL",
        "outputId": "83faa413-4ee9-4c95-d580-65af6981cf65"
      },
      "outputs": [
        {
          "data": {
            "text/html": [
              "<style>#sk-container-id-2 {color: black;background-color: white;}#sk-container-id-2 pre{padding: 0;}#sk-container-id-2 div.sk-toggleable {background-color: white;}#sk-container-id-2 label.sk-toggleable__label {cursor: pointer;display: block;width: 100%;margin-bottom: 0;padding: 0.3em;box-sizing: border-box;text-align: center;}#sk-container-id-2 label.sk-toggleable__label-arrow:before {content: \"▸\";float: left;margin-right: 0.25em;color: #696969;}#sk-container-id-2 label.sk-toggleable__label-arrow:hover:before {color: black;}#sk-container-id-2 div.sk-estimator:hover label.sk-toggleable__label-arrow:before {color: black;}#sk-container-id-2 div.sk-toggleable__content {max-height: 0;max-width: 0;overflow: hidden;text-align: left;background-color: #f0f8ff;}#sk-container-id-2 div.sk-toggleable__content pre {margin: 0.2em;color: black;border-radius: 0.25em;background-color: #f0f8ff;}#sk-container-id-2 input.sk-toggleable__control:checked~div.sk-toggleable__content {max-height: 200px;max-width: 100%;overflow: auto;}#sk-container-id-2 input.sk-toggleable__control:checked~label.sk-toggleable__label-arrow:before {content: \"▾\";}#sk-container-id-2 div.sk-estimator input.sk-toggleable__control:checked~label.sk-toggleable__label {background-color: #d4ebff;}#sk-container-id-2 div.sk-label input.sk-toggleable__control:checked~label.sk-toggleable__label {background-color: #d4ebff;}#sk-container-id-2 input.sk-hidden--visually {border: 0;clip: rect(1px 1px 1px 1px);clip: rect(1px, 1px, 1px, 1px);height: 1px;margin: -1px;overflow: hidden;padding: 0;position: absolute;width: 1px;}#sk-container-id-2 div.sk-estimator {font-family: monospace;background-color: #f0f8ff;border: 1px dotted black;border-radius: 0.25em;box-sizing: border-box;margin-bottom: 0.5em;}#sk-container-id-2 div.sk-estimator:hover {background-color: #d4ebff;}#sk-container-id-2 div.sk-parallel-item::after {content: \"\";width: 100%;border-bottom: 1px solid gray;flex-grow: 1;}#sk-container-id-2 div.sk-label:hover label.sk-toggleable__label {background-color: #d4ebff;}#sk-container-id-2 div.sk-serial::before {content: \"\";position: absolute;border-left: 1px solid gray;box-sizing: border-box;top: 0;bottom: 0;left: 50%;z-index: 0;}#sk-container-id-2 div.sk-serial {display: flex;flex-direction: column;align-items: center;background-color: white;padding-right: 0.2em;padding-left: 0.2em;position: relative;}#sk-container-id-2 div.sk-item {position: relative;z-index: 1;}#sk-container-id-2 div.sk-parallel {display: flex;align-items: stretch;justify-content: center;background-color: white;position: relative;}#sk-container-id-2 div.sk-item::before, #sk-container-id-2 div.sk-parallel-item::before {content: \"\";position: absolute;border-left: 1px solid gray;box-sizing: border-box;top: 0;bottom: 0;left: 50%;z-index: -1;}#sk-container-id-2 div.sk-parallel-item {display: flex;flex-direction: column;z-index: 1;position: relative;background-color: white;}#sk-container-id-2 div.sk-parallel-item:first-child::after {align-self: flex-end;width: 50%;}#sk-container-id-2 div.sk-parallel-item:last-child::after {align-self: flex-start;width: 50%;}#sk-container-id-2 div.sk-parallel-item:only-child::after {width: 0;}#sk-container-id-2 div.sk-dashed-wrapped {border: 1px dashed gray;margin: 0 0.4em 0.5em 0.4em;box-sizing: border-box;padding-bottom: 0.4em;background-color: white;}#sk-container-id-2 div.sk-label label {font-family: monospace;font-weight: bold;display: inline-block;line-height: 1.2em;}#sk-container-id-2 div.sk-label-container {text-align: center;}#sk-container-id-2 div.sk-container {/* jupyter's `normalize.less` sets `[hidden] { display: none; }` but bootstrap.min.css set `[hidden] { display: none !important; }` so we also need the `!important` here to be able to override the default hidden behavior on the sphinx rendered scikit-learn.org. See: https://github.com/scikit-learn/scikit-learn/issues/21755 */display: inline-block !important;position: relative;}#sk-container-id-2 div.sk-text-repr-fallback {display: none;}</style><div id=\"sk-container-id-2\" class=\"sk-top-container\"><div class=\"sk-text-repr-fallback\"><pre>DecisionTreeClassifier()</pre><b>In a Jupyter environment, please rerun this cell to show the HTML representation or trust the notebook. <br />On GitHub, the HTML representation is unable to render, please try loading this page with nbviewer.org.</b></div><div class=\"sk-container\" hidden><div class=\"sk-item\"><div class=\"sk-estimator sk-toggleable\"><input class=\"sk-toggleable__control sk-hidden--visually\" id=\"sk-estimator-id-2\" type=\"checkbox\" checked><label for=\"sk-estimator-id-2\" class=\"sk-toggleable__label sk-toggleable__label-arrow\">DecisionTreeClassifier</label><div class=\"sk-toggleable__content\"><pre>DecisionTreeClassifier()</pre></div></div></div></div></div>"
            ],
            "text/plain": [
              "DecisionTreeClassifier()"
            ]
          },
          "execution_count": 15,
          "metadata": {},
          "output_type": "execute_result"
        }
      ],
      "source": [
        "clf = DecisionTreeClassifier()\n",
        "\n",
        "clf.fit(X_train, y_train)"
      ]
    },
    {
      "cell_type": "code",
      "execution_count": null,
      "metadata": {
        "id": "YeeD9ZYAWfqU"
      },
      "outputs": [],
      "source": [
        "y_pred = clf.predict(X_test)"
      ]
    },
    {
      "cell_type": "code",
      "execution_count": null,
      "metadata": {
        "colab": {
          "base_uri": "https://localhost:8080/"
        },
        "id": "08qk25ihWgIG",
        "outputId": "aa0e938d-5241-4274-ece6-da8d9e965e8b"
      },
      "outputs": [
        {
          "name": "stdout",
          "output_type": "stream",
          "text": [
            "Accuracy de 0.6673465057059322\n",
            "Precisión de 0.7678625928312252\n",
            "La sensibilidad, o recall es 0.7571430959824788\n",
            "El f1 score es 0.7624651699202801\n"
          ]
        }
      ],
      "source": [
        "accuracy = accuracy_score(y_test, y_pred)\n",
        "precision = precision_score(y_test, y_pred)\n",
        "recall = recall_score(y_test, y_pred)\n",
        "f1score = f1_score(y_test, y_pred)\n",
        "cm = confusion_matrix(y_test, y_pred)\n",
        "print('Accuracy de {}'.format(accuracy))\n",
        "print('Precisión de {}'.format(precision))\n",
        "print('La sensibilidad, o recall es {}'.format(recall))\n",
        "print('El f1 score es {}'.format(f1score))"
      ]
    },
    {
      "cell_type": "code",
      "execution_count": null,
      "metadata": {
        "id": "H2xuseGRWjvr"
      },
      "outputs": [],
      "source": [
        "algoritmos.loc['ÁRBOL']=[accuracy,precision,recall,f1score]"
      ]
    },
    {
      "cell_type": "code",
      "execution_count": null,
      "metadata": {
        "colab": {
          "base_uri": "https://localhost:8080/",
          "height": 465
        },
        "id": "NwkD70SnWnZ0",
        "outputId": "eefa5df6-68ee-4eb5-c65f-6e1cca01a9d5"
      },
      "outputs": [
        {
          "name": "stdout",
          "output_type": "stream",
          "text": [
            "[[11327 13684]\n",
            " [14535 45278]]\n"
          ]
        },
        {
          "data": {
            "image/png": "[encoded data removed]",
            "text/plain": [
              "<Figure size 640x480 with 3 Axes>"
            ]
          },
          "metadata": {},
          "output_type": "display_data"
        }
      ],
      "source": [
        "print(cm)\n",
        "mosaic(cm)\n",
        "plt.show()"
      ]
    },
    {
      "cell_type": "markdown",
      "metadata": {
        "id": "ChxWKs0xXOgq"
      },
      "source": [
        "## Bagging"
      ]
    },
    {
      "cell_type": "code",
      "execution_count": null,
      "metadata": {
        "colab": {
          "base_uri": "https://localhost:8080/",
          "height": 207
        },
        "id": "6kazGqGVXEno",
        "outputId": "2f4bba33-b0a1-475b-b229-c4dbc2ee5dc5"
      },
      "outputs": [
        {
          "name": "stderr",
          "output_type": "stream",
          "text": [
            "/usr/local/lib/python3.10/dist-packages/sklearn/ensemble/_bagging.py:802: DataConversionWarning: A column-vector y was passed when a 1d array was expected. Please change the shape of y to (n_samples, ), for example using ravel().\n",
            "  y = column_or_1d(y, warn=True)\n",
            "/usr/local/lib/python3.10/dist-packages/sklearn/ensemble/_base.py:166: FutureWarning: `base_estimator` was renamed to `estimator` in version 1.2 and will be removed in 1.4.\n",
            "  warnings.warn(\n"
          ]
        },
        {
          "data": {
            "text/html": [
              "<style>#sk-container-id-3 {color: black;background-color: white;}#sk-container-id-3 pre{padding: 0;}#sk-container-id-3 div.sk-toggleable {background-color: white;}#sk-container-id-3 label.sk-toggleable__label {cursor: pointer;display: block;width: 100%;margin-bottom: 0;padding: 0.3em;box-sizing: border-box;text-align: center;}#sk-container-id-3 label.sk-toggleable__label-arrow:before {content: \"▸\";float: left;margin-right: 0.25em;color: #696969;}#sk-container-id-3 label.sk-toggleable__label-arrow:hover:before {color: black;}#sk-container-id-3 div.sk-estimator:hover label.sk-toggleable__label-arrow:before {color: black;}#sk-container-id-3 div.sk-toggleable__content {max-height: 0;max-width: 0;overflow: hidden;text-align: left;background-color: #f0f8ff;}#sk-container-id-3 div.sk-toggleable__content pre {margin: 0.2em;color: black;border-radius: 0.25em;background-color: #f0f8ff;}#sk-container-id-3 input.sk-toggleable__control:checked~div.sk-toggleable__content {max-height: 200px;max-width: 100%;overflow: auto;}#sk-container-id-3 input.sk-toggleable__control:checked~label.sk-toggleable__label-arrow:before {content: \"▾\";}#sk-container-id-3 div.sk-estimator input.sk-toggleable__control:checked~label.sk-toggleable__label {background-color: #d4ebff;}#sk-container-id-3 div.sk-label input.sk-toggleable__control:checked~label.sk-toggleable__label {background-color: #d4ebff;}#sk-container-id-3 input.sk-hidden--visually {border: 0;clip: rect(1px 1px 1px 1px);clip: rect(1px, 1px, 1px, 1px);height: 1px;margin: -1px;overflow: hidden;padding: 0;position: absolute;width: 1px;}#sk-container-id-3 div.sk-estimator {font-family: monospace;background-color: #f0f8ff;border: 1px dotted black;border-radius: 0.25em;box-sizing: border-box;margin-bottom: 0.5em;}#sk-container-id-3 div.sk-estimator:hover {background-color: #d4ebff;}#sk-container-id-3 div.sk-parallel-item::after {content: \"\";width: 100%;border-bottom: 1px solid gray;flex-grow: 1;}#sk-container-id-3 div.sk-label:hover label.sk-toggleable__label {background-color: #d4ebff;}#sk-container-id-3 div.sk-serial::before {content: \"\";position: absolute;border-left: 1px solid gray;box-sizing: border-box;top: 0;bottom: 0;left: 50%;z-index: 0;}#sk-container-id-3 div.sk-serial {display: flex;flex-direction: column;align-items: center;background-color: white;padding-right: 0.2em;padding-left: 0.2em;position: relative;}#sk-container-id-3 div.sk-item {position: relative;z-index: 1;}#sk-container-id-3 div.sk-parallel {display: flex;align-items: stretch;justify-content: center;background-color: white;position: relative;}#sk-container-id-3 div.sk-item::before, #sk-container-id-3 div.sk-parallel-item::before {content: \"\";position: absolute;border-left: 1px solid gray;box-sizing: border-box;top: 0;bottom: 0;left: 50%;z-index: -1;}#sk-container-id-3 div.sk-parallel-item {display: flex;flex-direction: column;z-index: 1;position: relative;background-color: white;}#sk-container-id-3 div.sk-parallel-item:first-child::after {align-self: flex-end;width: 50%;}#sk-container-id-3 div.sk-parallel-item:last-child::after {align-self: flex-start;width: 50%;}#sk-container-id-3 div.sk-parallel-item:only-child::after {width: 0;}#sk-container-id-3 div.sk-dashed-wrapped {border: 1px dashed gray;margin: 0 0.4em 0.5em 0.4em;box-sizing: border-box;padding-bottom: 0.4em;background-color: white;}#sk-container-id-3 div.sk-label label {font-family: monospace;font-weight: bold;display: inline-block;line-height: 1.2em;}#sk-container-id-3 div.sk-label-container {text-align: center;}#sk-container-id-3 div.sk-container {/* jupyter's `normalize.less` sets `[hidden] { display: none; }` but bootstrap.min.css set `[hidden] { display: none !important; }` so we also need the `!important` here to be able to override the default hidden behavior on the sphinx rendered scikit-learn.org. See: https://github.com/scikit-learn/scikit-learn/issues/21755 */display: inline-block !important;position: relative;}#sk-container-id-3 div.sk-text-repr-fallback {display: none;}</style><div id=\"sk-container-id-3\" class=\"sk-top-container\"><div class=\"sk-text-repr-fallback\"><pre>BaggingClassifier(base_estimator=DecisionTreeClassifier(), random_state=1)</pre><b>In a Jupyter environment, please rerun this cell to show the HTML representation or trust the notebook. <br />On GitHub, the HTML representation is unable to render, please try loading this page with nbviewer.org.</b></div><div class=\"sk-container\" hidden><div class=\"sk-item sk-dashed-wrapped\"><div class=\"sk-label-container\"><div class=\"sk-label sk-toggleable\"><input class=\"sk-toggleable__control sk-hidden--visually\" id=\"sk-estimator-id-3\" type=\"checkbox\" ><label for=\"sk-estimator-id-3\" class=\"sk-toggleable__label sk-toggleable__label-arrow\">BaggingClassifier</label><div class=\"sk-toggleable__content\"><pre>BaggingClassifier(base_estimator=DecisionTreeClassifier(), random_state=1)</pre></div></div></div><div class=\"sk-parallel\"><div class=\"sk-parallel-item\"><div class=\"sk-item\"><div class=\"sk-label-container\"><div class=\"sk-label sk-toggleable\"><input class=\"sk-toggleable__control sk-hidden--visually\" id=\"sk-estimator-id-4\" type=\"checkbox\" ><label for=\"sk-estimator-id-4\" class=\"sk-toggleable__label sk-toggleable__label-arrow\">base_estimator: DecisionTreeClassifier</label><div class=\"sk-toggleable__content\"><pre>DecisionTreeClassifier()</pre></div></div></div><div class=\"sk-serial\"><div class=\"sk-item\"><div class=\"sk-estimator sk-toggleable\"><input class=\"sk-toggleable__control sk-hidden--visually\" id=\"sk-estimator-id-5\" type=\"checkbox\" ><label for=\"sk-estimator-id-5\" class=\"sk-toggleable__label sk-toggleable__label-arrow\">DecisionTreeClassifier</label><div class=\"sk-toggleable__content\"><pre>DecisionTreeClassifier()</pre></div></div></div></div></div></div></div></div></div></div>"
            ],
            "text/plain": [
              "BaggingClassifier(base_estimator=DecisionTreeClassifier(), random_state=1)"
            ]
          },
          "execution_count": 19,
          "metadata": {},
          "output_type": "execute_result"
        }
      ],
      "source": [
        "bagging_clf = BaggingClassifier(base_estimator=clf, n_estimators=10, random_state=1)\n",
        "\n",
        "bagging_clf.fit(X_train, y_train)"
      ]
    },
    {
      "cell_type": "code",
      "execution_count": null,
      "metadata": {
        "id": "-24JHhXZXEft"
      },
      "outputs": [],
      "source": [
        "y_pred = bagging_clf.predict(X_test)"
      ]
    },
    {
      "cell_type": "code",
      "execution_count": null,
      "metadata": {
        "colab": {
          "base_uri": "https://localhost:8080/"
        },
        "id": "7RLESVO1XEYC",
        "outputId": "4849ec21-d102-41fa-89b6-7ef9d6f4ef25"
      },
      "outputs": [
        {
          "name": "stdout",
          "output_type": "stream",
          "text": [
            "Accuracy de 0.7127110251815524\n",
            "Precisión de 0.7866060743280396\n",
            "La sensibilidad, o recall es 0.8131844247905974\n",
            "El f1 score es 0.7996744679276925\n"
          ]
        }
      ],
      "source": [
        "accuracy = accuracy_score(y_test, y_pred)\n",
        "precision = precision_score(y_test, y_pred)\n",
        "recall = recall_score(y_test, y_pred)\n",
        "f1score = f1_score(y_test, y_pred)\n",
        "cm = confusion_matrix(y_test, y_pred)\n",
        "print('Accuracy de {}'.format(accuracy))\n",
        "print('Precisión de {}'.format(precision))\n",
        "print('La sensibilidad, o recall es {}'.format(recall))\n",
        "print('El f1 score es {}'.format(f1score))"
      ]
    },
    {
      "cell_type": "code",
      "execution_count": null,
      "metadata": {
        "id": "a5-Geh-VXEPA"
      },
      "outputs": [],
      "source": [
        "algoritmos.loc['BAGGING']=[accuracy,precision,recall,f1score]"
      ]
    },
    {
      "cell_type": "code",
      "execution_count": null,
      "metadata": {
        "colab": {
          "base_uri": "https://localhost:8080/",
          "height": 465
        },
        "id": "77iHQbQUXD8E",
        "outputId": "1f5d7c4e-3f7f-4368-8efd-5a737052745a"
      },
      "outputs": [
        {
          "name": "stdout",
          "output_type": "stream",
          "text": [
            "[[11816 13195]\n",
            " [11174 48639]]\n"
          ]
        },
        {
          "data": {
            "image/png": "[encoded data removed]",
            "text/plain": [
              "<Figure size 640x480 with 3 Axes>"
            ]
          },
          "metadata": {},
          "output_type": "display_data"
        }
      ],
      "source": [
        "print(cm)\n",
        "mosaic(cm)\n",
        "plt.show()"
      ]
    },
    {
      "cell_type": "markdown",
      "metadata": {
        "id": "VbiuNZoIYPWO"
      },
      "source": [
        "## Random Forest"
      ]
    },
    {
      "cell_type": "code",
      "execution_count": null,
      "metadata": {
        "colab": {
          "base_uri": "https://localhost:8080/",
          "height": 129
        },
        "id": "RUucHM0qYPJt",
        "outputId": "6aca66fa-8c35-467d-aa05-b0b3a3ae75d5"
      },
      "outputs": [
        {
          "name": "stderr",
          "output_type": "stream",
          "text": [
            "<ipython-input-23-45027c8b8cba>:3: DataConversionWarning: A column-vector y was passed when a 1d array was expected. Please change the shape of y to (n_samples,), for example using ravel().\n",
            "  rf_clf.fit(X_train, y_train)\n"
          ]
        },
        {
          "data": {
            "text/html": [
              "<style>#sk-container-id-4 {color: black;background-color: white;}#sk-container-id-4 pre{padding: 0;}#sk-container-id-4 div.sk-toggleable {background-color: white;}#sk-container-id-4 label.sk-toggleable__label {cursor: pointer;display: block;width: 100%;margin-bottom: 0;padding: 0.3em;box-sizing: border-box;text-align: center;}#sk-container-id-4 label.sk-toggleable__label-arrow:before {content: \"▸\";float: left;margin-right: 0.25em;color: #696969;}#sk-container-id-4 label.sk-toggleable__label-arrow:hover:before {color: black;}#sk-container-id-4 div.sk-estimator:hover label.sk-toggleable__label-arrow:before {color: black;}#sk-container-id-4 div.sk-toggleable__content {max-height: 0;max-width: 0;overflow: hidden;text-align: left;background-color: #f0f8ff;}#sk-container-id-4 div.sk-toggleable__content pre {margin: 0.2em;color: black;border-radius: 0.25em;background-color: #f0f8ff;}#sk-container-id-4 input.sk-toggleable__control:checked~div.sk-toggleable__content {max-height: 200px;max-width: 100%;overflow: auto;}#sk-container-id-4 input.sk-toggleable__control:checked~label.sk-toggleable__label-arrow:before {content: \"▾\";}#sk-container-id-4 div.sk-estimator input.sk-toggleable__control:checked~label.sk-toggleable__label {background-color: #d4ebff;}#sk-container-id-4 div.sk-label input.sk-toggleable__control:checked~label.sk-toggleable__label {background-color: #d4ebff;}#sk-container-id-4 input.sk-hidden--visually {border: 0;clip: rect(1px 1px 1px 1px);clip: rect(1px, 1px, 1px, 1px);height: 1px;margin: -1px;overflow: hidden;padding: 0;position: absolute;width: 1px;}#sk-container-id-4 div.sk-estimator {font-family: monospace;background-color: #f0f8ff;border: 1px dotted black;border-radius: 0.25em;box-sizing: border-box;margin-bottom: 0.5em;}#sk-container-id-4 div.sk-estimator:hover {background-color: #d4ebff;}#sk-container-id-4 div.sk-parallel-item::after {content: \"\";width: 100%;border-bottom: 1px solid gray;flex-grow: 1;}#sk-container-id-4 div.sk-label:hover label.sk-toggleable__label {background-color: #d4ebff;}#sk-container-id-4 div.sk-serial::before {content: \"\";position: absolute;border-left: 1px solid gray;box-sizing: border-box;top: 0;bottom: 0;left: 50%;z-index: 0;}#sk-container-id-4 div.sk-serial {display: flex;flex-direction: column;align-items: center;background-color: white;padding-right: 0.2em;padding-left: 0.2em;position: relative;}#sk-container-id-4 div.sk-item {position: relative;z-index: 1;}#sk-container-id-4 div.sk-parallel {display: flex;align-items: stretch;justify-content: center;background-color: white;position: relative;}#sk-container-id-4 div.sk-item::before, #sk-container-id-4 div.sk-parallel-item::before {content: \"\";position: absolute;border-left: 1px solid gray;box-sizing: border-box;top: 0;bottom: 0;left: 50%;z-index: -1;}#sk-container-id-4 div.sk-parallel-item {display: flex;flex-direction: column;z-index: 1;position: relative;background-color: white;}#sk-container-id-4 div.sk-parallel-item:first-child::after {align-self: flex-end;width: 50%;}#sk-container-id-4 div.sk-parallel-item:last-child::after {align-self: flex-start;width: 50%;}#sk-container-id-4 div.sk-parallel-item:only-child::after {width: 0;}#sk-container-id-4 div.sk-dashed-wrapped {border: 1px dashed gray;margin: 0 0.4em 0.5em 0.4em;box-sizing: border-box;padding-bottom: 0.4em;background-color: white;}#sk-container-id-4 div.sk-label label {font-family: monospace;font-weight: bold;display: inline-block;line-height: 1.2em;}#sk-container-id-4 div.sk-label-container {text-align: center;}#sk-container-id-4 div.sk-container {/* jupyter's `normalize.less` sets `[hidden] { display: none; }` but bootstrap.min.css set `[hidden] { display: none !important; }` so we also need the `!important` here to be able to override the default hidden behavior on the sphinx rendered scikit-learn.org. See: https://github.com/scikit-learn/scikit-learn/issues/21755 */display: inline-block !important;position: relative;}#sk-container-id-4 div.sk-text-repr-fallback {display: none;}</style><div id=\"sk-container-id-4\" class=\"sk-top-container\"><div class=\"sk-text-repr-fallback\"><pre>RandomForestClassifier(random_state=1)</pre><b>In a Jupyter environment, please rerun this cell to show the HTML representation or trust the notebook. <br />On GitHub, the HTML representation is unable to render, please try loading this page with nbviewer.org.</b></div><div class=\"sk-container\" hidden><div class=\"sk-item\"><div class=\"sk-estimator sk-toggleable\"><input class=\"sk-toggleable__control sk-hidden--visually\" id=\"sk-estimator-id-6\" type=\"checkbox\" checked><label for=\"sk-estimator-id-6\" class=\"sk-toggleable__label sk-toggleable__label-arrow\">RandomForestClassifier</label><div class=\"sk-toggleable__content\"><pre>RandomForestClassifier(random_state=1)</pre></div></div></div></div></div>"
            ],
            "text/plain": [
              "RandomForestClassifier(random_state=1)"
            ]
          },
          "execution_count": 23,
          "metadata": {},
          "output_type": "execute_result"
        }
      ],
      "source": [
        "rf_clf = RandomForestClassifier(n_estimators=100, random_state=1)\n",
        "\n",
        "rf_clf.fit(X_train, y_train)"
      ]
    },
    {
      "cell_type": "code",
      "execution_count": null,
      "metadata": {
        "id": "Uvl7wepkYPCd"
      },
      "outputs": [],
      "source": [
        "y_pred = rf_clf.predict(X_test)"
      ]
    },
    {
      "cell_type": "code",
      "execution_count": null,
      "metadata": {
        "colab": {
          "base_uri": "https://localhost:8080/"
        },
        "id": "Ag9YJuiKYO7U",
        "outputId": "15d70b3c-67ba-445c-8417-63968d129723"
      },
      "outputs": [
        {
          "name": "stdout",
          "output_type": "stream",
          "text": [
            "Accuracy de 0.7220126379326606\n",
            "Precisión de 0.7844972439893843\n",
            "La sensibilidad, o recall es 0.8352030495042884\n",
            "El f1 score es 0.8090564570984355\n"
          ]
        }
      ],
      "source": [
        "accuracy = accuracy_score(y_test, y_pred)\n",
        "precision = precision_score(y_test, y_pred)\n",
        "recall = recall_score(y_test, y_pred)\n",
        "f1score = f1_score(y_test, y_pred)\n",
        "cm = confusion_matrix(y_test, y_pred)\n",
        "print('Accuracy de {}'.format(accuracy))\n",
        "print('Precisión de {}'.format(precision))\n",
        "print('La sensibilidad, o recall es {}'.format(recall))\n",
        "print('El f1 score es {}'.format(f1score))"
      ]
    },
    {
      "cell_type": "code",
      "execution_count": null,
      "metadata": {
        "id": "5S-9f70iYOz9"
      },
      "outputs": [],
      "source": [
        "algoritmos.loc['RANDOM FOREST']=[accuracy,precision,recall,f1score]"
      ]
    },
    {
      "cell_type": "code",
      "execution_count": null,
      "metadata": {
        "colab": {
          "base_uri": "https://localhost:8080/",
          "height": 465
        },
        "id": "Yvdn211eYOs1",
        "outputId": "e32f2e2b-9651-4f0b-a3c5-6108eff9d292"
      },
      "outputs": [
        {
          "name": "stdout",
          "output_type": "stream",
          "text": [
            "[[11288 13723]\n",
            " [ 9857 49956]]\n"
          ]
        },
        {
          "data": {
            "image/png": "[encoded data removed]",
            "text/plain": [
              "<Figure size 640x480 with 3 Axes>"
            ]
          },
          "metadata": {},
          "output_type": "display_data"
        }
      ],
      "source": [
        "print(cm)\n",
        "mosaic(cm)\n",
        "plt.show()"
      ]
    },
    {
      "cell_type": "markdown",
      "metadata": {
        "id": "IO4xzGUDZrYt"
      },
      "source": [
        "## Gradient Boost"
      ]
    },
    {
      "cell_type": "code",
      "execution_count": null,
      "metadata": {
        "colab": {
          "base_uri": "https://localhost:8080/",
          "height": 129
        },
        "id": "wx4UL2DeZqjL",
        "outputId": "c897645e-5994-4942-d2b4-5c060048f70d"
      },
      "outputs": [
        {
          "name": "stderr",
          "output_type": "stream",
          "text": [
            "/usr/local/lib/python3.10/dist-packages/sklearn/ensemble/_gb.py:437: DataConversionWarning: A column-vector y was passed when a 1d array was expected. Please change the shape of y to (n_samples, ), for example using ravel().\n",
            "  y = column_or_1d(y, warn=True)\n"
          ]
        },
        {
          "data": {
            "text/html": [
              "<style>#sk-container-id-5 {color: black;background-color: white;}#sk-container-id-5 pre{padding: 0;}#sk-container-id-5 div.sk-toggleable {background-color: white;}#sk-container-id-5 label.sk-toggleable__label {cursor: pointer;display: block;width: 100%;margin-bottom: 0;padding: 0.3em;box-sizing: border-box;text-align: center;}#sk-container-id-5 label.sk-toggleable__label-arrow:before {content: \"▸\";float: left;margin-right: 0.25em;color: #696969;}#sk-container-id-5 label.sk-toggleable__label-arrow:hover:before {color: black;}#sk-container-id-5 div.sk-estimator:hover label.sk-toggleable__label-arrow:before {color: black;}#sk-container-id-5 div.sk-toggleable__content {max-height: 0;max-width: 0;overflow: hidden;text-align: left;background-color: #f0f8ff;}#sk-container-id-5 div.sk-toggleable__content pre {margin: 0.2em;color: black;border-radius: 0.25em;background-color: #f0f8ff;}#sk-container-id-5 input.sk-toggleable__control:checked~div.sk-toggleable__content {max-height: 200px;max-width: 100%;overflow: auto;}#sk-container-id-5 input.sk-toggleable__control:checked~label.sk-toggleable__label-arrow:before {content: \"▾\";}#sk-container-id-5 div.sk-estimator input.sk-toggleable__control:checked~label.sk-toggleable__label {background-color: #d4ebff;}#sk-container-id-5 div.sk-label input.sk-toggleable__control:checked~label.sk-toggleable__label {background-color: #d4ebff;}#sk-container-id-5 input.sk-hidden--visually {border: 0;clip: rect(1px 1px 1px 1px);clip: rect(1px, 1px, 1px, 1px);height: 1px;margin: -1px;overflow: hidden;padding: 0;position: absolute;width: 1px;}#sk-container-id-5 div.sk-estimator {font-family: monospace;background-color: #f0f8ff;border: 1px dotted black;border-radius: 0.25em;box-sizing: border-box;margin-bottom: 0.5em;}#sk-container-id-5 div.sk-estimator:hover {background-color: #d4ebff;}#sk-container-id-5 div.sk-parallel-item::after {content: \"\";width: 100%;border-bottom: 1px solid gray;flex-grow: 1;}#sk-container-id-5 div.sk-label:hover label.sk-toggleable__label {background-color: #d4ebff;}#sk-container-id-5 div.sk-serial::before {content: \"\";position: absolute;border-left: 1px solid gray;box-sizing: border-box;top: 0;bottom: 0;left: 50%;z-index: 0;}#sk-container-id-5 div.sk-serial {display: flex;flex-direction: column;align-items: center;background-color: white;padding-right: 0.2em;padding-left: 0.2em;position: relative;}#sk-container-id-5 div.sk-item {position: relative;z-index: 1;}#sk-container-id-5 div.sk-parallel {display: flex;align-items: stretch;justify-content: center;background-color: white;position: relative;}#sk-container-id-5 div.sk-item::before, #sk-container-id-5 div.sk-parallel-item::before {content: \"\";position: absolute;border-left: 1px solid gray;box-sizing: border-box;top: 0;bottom: 0;left: 50%;z-index: -1;}#sk-container-id-5 div.sk-parallel-item {display: flex;flex-direction: column;z-index: 1;position: relative;background-color: white;}#sk-container-id-5 div.sk-parallel-item:first-child::after {align-self: flex-end;width: 50%;}#sk-container-id-5 div.sk-parallel-item:last-child::after {align-self: flex-start;width: 50%;}#sk-container-id-5 div.sk-parallel-item:only-child::after {width: 0;}#sk-container-id-5 div.sk-dashed-wrapped {border: 1px dashed gray;margin: 0 0.4em 0.5em 0.4em;box-sizing: border-box;padding-bottom: 0.4em;background-color: white;}#sk-container-id-5 div.sk-label label {font-family: monospace;font-weight: bold;display: inline-block;line-height: 1.2em;}#sk-container-id-5 div.sk-label-container {text-align: center;}#sk-container-id-5 div.sk-container {/* jupyter's `normalize.less` sets `[hidden] { display: none; }` but bootstrap.min.css set `[hidden] { display: none !important; }` so we also need the `!important` here to be able to override the default hidden behavior on the sphinx rendered scikit-learn.org. See: https://github.com/scikit-learn/scikit-learn/issues/21755 */display: inline-block !important;position: relative;}#sk-container-id-5 div.sk-text-repr-fallback {display: none;}</style><div id=\"sk-container-id-5\" class=\"sk-top-container\"><div class=\"sk-text-repr-fallback\"><pre>GradientBoostingClassifier(random_state=1)</pre><b>In a Jupyter environment, please rerun this cell to show the HTML representation or trust the notebook. <br />On GitHub, the HTML representation is unable to render, please try loading this page with nbviewer.org.</b></div><div class=\"sk-container\" hidden><div class=\"sk-item\"><div class=\"sk-estimator sk-toggleable\"><input class=\"sk-toggleable__control sk-hidden--visually\" id=\"sk-estimator-id-7\" type=\"checkbox\" checked><label for=\"sk-estimator-id-7\" class=\"sk-toggleable__label sk-toggleable__label-arrow\">GradientBoostingClassifier</label><div class=\"sk-toggleable__content\"><pre>GradientBoostingClassifier(random_state=1)</pre></div></div></div></div></div>"
            ],
            "text/plain": [
              "GradientBoostingClassifier(random_state=1)"
            ]
          },
          "execution_count": 27,
          "metadata": {},
          "output_type": "execute_result"
        }
      ],
      "source": [
        "gb_clf = GradientBoostingClassifier(n_estimators=100, random_state=1)\n",
        "\n",
        "gb_clf.fit(X_train, y_train)"
      ]
    },
    {
      "cell_type": "code",
      "execution_count": null,
      "metadata": {
        "id": "wlmz4O2jZqbn"
      },
      "outputs": [],
      "source": [
        "y_pred = gb_clf.predict(X_test)"
      ]
    },
    {
      "cell_type": "code",
      "execution_count": null,
      "metadata": {
        "colab": {
          "base_uri": "https://localhost:8080/"
        },
        "id": "ttlvTd0jZqS-",
        "outputId": "daf642ff-6f09-4777-ad50-69c30c0e95ef"
      },
      "outputs": [
        {
          "name": "stdout",
          "output_type": "stream",
          "text": [
            "Accuracy de 0.749776006790531\n",
            "Precisión de 0.762104004781829\n",
            "La sensibilidad, o recall es 0.9379231939544915\n",
            "El f1 score es 0.8409218662169758\n"
          ]
        }
      ],
      "source": [
        "accuracy = accuracy_score(y_test, y_pred)\n",
        "precision = precision_score(y_test, y_pred)\n",
        "recall = recall_score(y_test, y_pred)\n",
        "f1score = f1_score(y_test, y_pred)\n",
        "cm = confusion_matrix(y_test, y_pred)\n",
        "print('Accuracy de {}'.format(accuracy))\n",
        "print('Precisión de {}'.format(precision))\n",
        "print('La sensibilidad, o recall es {}'.format(recall))\n",
        "print('El f1 score es {}'.format(f1score))"
      ]
    },
    {
      "cell_type": "code",
      "execution_count": null,
      "metadata": {
        "id": "aWEoJGBUZqKp"
      },
      "outputs": [],
      "source": [
        "algoritmos.loc['GRADIENT BOOST']=[accuracy,precision,recall,f1score]"
      ]
    },
    {
      "cell_type": "code",
      "execution_count": null,
      "metadata": {
        "colab": {
          "base_uri": "https://localhost:8080/",
          "height": 465
        },
        "id": "F9aJpoYkZqBf",
        "outputId": "3eb43692-4451-4770-a2a4-e4d365d9eb4b"
      },
      "outputs": [
        {
          "name": "stdout",
          "output_type": "stream",
          "text": [
            "[[ 7499 17512]\n",
            " [ 3713 56100]]\n"
          ]
        },
        {
          "data": {
            "image/png": "[encoded data removed]",
            "text/plain": [
              "<Figure size 640x480 with 3 Axes>"
            ]
          },
          "metadata": {},
          "output_type": "display_data"
        }
      ],
      "source": [
        "print(cm)\n",
        "mosaic(cm)\n",
        "plt.show()"
      ]
    },
    {
      "cell_type": "markdown",
      "metadata": {
        "id": "TE6jVa2dbN-n"
      },
      "source": [
        "## XGBoost"
      ]
    },
    {
      "cell_type": "code",
      "execution_count": null,
      "metadata": {
        "colab": {
          "base_uri": "https://localhost:8080/",
          "height": 248
        },
        "id": "m1hy1b7cbNyu",
        "outputId": "b8c1067d-c7ab-4127-d905-8220716668c5"
      },
      "outputs": [
        {
          "data": {
            "text/html": [
              "<style>#sk-container-id-6 {color: black;background-color: white;}#sk-container-id-6 pre{padding: 0;}#sk-container-id-6 div.sk-toggleable {background-color: white;}#sk-container-id-6 label.sk-toggleable__label {cursor: pointer;display: block;width: 100%;margin-bottom: 0;padding: 0.3em;box-sizing: border-box;text-align: center;}#sk-container-id-6 label.sk-toggleable__label-arrow:before {content: \"▸\";float: left;margin-right: 0.25em;color: #696969;}#sk-container-id-6 label.sk-toggleable__label-arrow:hover:before {color: black;}#sk-container-id-6 div.sk-estimator:hover label.sk-toggleable__label-arrow:before {color: black;}#sk-container-id-6 div.sk-toggleable__content {max-height: 0;max-width: 0;overflow: hidden;text-align: left;background-color: #f0f8ff;}#sk-container-id-6 div.sk-toggleable__content pre {margin: 0.2em;color: black;border-radius: 0.25em;background-color: #f0f8ff;}#sk-container-id-6 input.sk-toggleable__control:checked~div.sk-toggleable__content {max-height: 200px;max-width: 100%;overflow: auto;}#sk-container-id-6 input.sk-toggleable__control:checked~label.sk-toggleable__label-arrow:before {content: \"▾\";}#sk-container-id-6 div.sk-estimator input.sk-toggleable__control:checked~label.sk-toggleable__label {background-color: #d4ebff;}#sk-container-id-6 div.sk-label input.sk-toggleable__control:checked~label.sk-toggleable__label {background-color: #d4ebff;}#sk-container-id-6 input.sk-hidden--visually {border: 0;clip: rect(1px 1px 1px 1px);clip: rect(1px, 1px, 1px, 1px);height: 1px;margin: -1px;overflow: hidden;padding: 0;position: absolute;width: 1px;}#sk-container-id-6 div.sk-estimator {font-family: monospace;background-color: #f0f8ff;border: 1px dotted black;border-radius: 0.25em;box-sizing: border-box;margin-bottom: 0.5em;}#sk-container-id-6 div.sk-estimator:hover {background-color: #d4ebff;}#sk-container-id-6 div.sk-parallel-item::after {content: \"\";width: 100%;border-bottom: 1px solid gray;flex-grow: 1;}#sk-container-id-6 div.sk-label:hover label.sk-toggleable__label {background-color: #d4ebff;}#sk-container-id-6 div.sk-serial::before {content: \"\";position: absolute;border-left: 1px solid gray;box-sizing: border-box;top: 0;bottom: 0;left: 50%;z-index: 0;}#sk-container-id-6 div.sk-serial {display: flex;flex-direction: column;align-items: center;background-color: white;padding-right: 0.2em;padding-left: 0.2em;position: relative;}#sk-container-id-6 div.sk-item {position: relative;z-index: 1;}#sk-container-id-6 div.sk-parallel {display: flex;align-items: stretch;justify-content: center;background-color: white;position: relative;}#sk-container-id-6 div.sk-item::before, #sk-container-id-6 div.sk-parallel-item::before {content: \"\";position: absolute;border-left: 1px solid gray;box-sizing: border-box;top: 0;bottom: 0;left: 50%;z-index: -1;}#sk-container-id-6 div.sk-parallel-item {display: flex;flex-direction: column;z-index: 1;position: relative;background-color: white;}#sk-container-id-6 div.sk-parallel-item:first-child::after {align-self: flex-end;width: 50%;}#sk-container-id-6 div.sk-parallel-item:last-child::after {align-self: flex-start;width: 50%;}#sk-container-id-6 div.sk-parallel-item:only-child::after {width: 0;}#sk-container-id-6 div.sk-dashed-wrapped {border: 1px dashed gray;margin: 0 0.4em 0.5em 0.4em;box-sizing: border-box;padding-bottom: 0.4em;background-color: white;}#sk-container-id-6 div.sk-label label {font-family: monospace;font-weight: bold;display: inline-block;line-height: 1.2em;}#sk-container-id-6 div.sk-label-container {text-align: center;}#sk-container-id-6 div.sk-container {/* jupyter's `normalize.less` sets `[hidden] { display: none; }` but bootstrap.min.css set `[hidden] { display: none !important; }` so we also need the `!important` here to be able to override the default hidden behavior on the sphinx rendered scikit-learn.org. See: https://github.com/scikit-learn/scikit-learn/issues/21755 */display: inline-block !important;position: relative;}#sk-container-id-6 div.sk-text-repr-fallback {display: none;}</style><div id=\"sk-container-id-6\" class=\"sk-top-container\"><div class=\"sk-text-repr-fallback\"><pre>XGBClassifier(base_score=None, booster=None, callbacks=None,\n",
              "              colsample_bylevel=None, colsample_bynode=None,\n",
              "              colsample_bytree=None, early_stopping_rounds=None,\n",
              "              enable_categorical=False, eval_metric=None, feature_types=None,\n",
              "              gamma=None, gpu_id=None, grow_policy=None, importance_type=None,\n",
              "              interaction_constraints=None, learning_rate=None, max_bin=None,\n",
              "              max_cat_threshold=None, max_cat_to_onehot=None,\n",
              "              max_delta_step=None, max_depth=None, max_leaves=None,\n",
              "              min_child_weight=None, missing=nan, monotone_constraints=None,\n",
              "              n_estimators=100, n_jobs=None, num_parallel_tree=None,\n",
              "              predictor=None, random_state=1, ...)</pre><b>In a Jupyter environment, please rerun this cell to show the HTML representation or trust the notebook. <br />On GitHub, the HTML representation is unable to render, please try loading this page with nbviewer.org.</b></div><div class=\"sk-container\" hidden><div class=\"sk-item\"><div class=\"sk-estimator sk-toggleable\"><input class=\"sk-toggleable__control sk-hidden--visually\" id=\"sk-estimator-id-8\" type=\"checkbox\" checked><label for=\"sk-estimator-id-8\" class=\"sk-toggleable__label sk-toggleable__label-arrow\">XGBClassifier</label><div class=\"sk-toggleable__content\"><pre>XGBClassifier(base_score=None, booster=None, callbacks=None,\n",
              "              colsample_bylevel=None, colsample_bynode=None,\n",
              "              colsample_bytree=None, early_stopping_rounds=None,\n",
              "              enable_categorical=False, eval_metric=None, feature_types=None,\n",
              "              gamma=None, gpu_id=None, grow_policy=None, importance_type=None,\n",
              "              interaction_constraints=None, learning_rate=None, max_bin=None,\n",
              "              max_cat_threshold=None, max_cat_to_onehot=None,\n",
              "              max_delta_step=None, max_depth=None, max_leaves=None,\n",
              "              min_child_weight=None, missing=nan, monotone_constraints=None,\n",
              "              n_estimators=100, n_jobs=None, num_parallel_tree=None,\n",
              "              predictor=None, random_state=1, ...)</pre></div></div></div></div></div>"
            ],
            "text/plain": [
              "XGBClassifier(base_score=None, booster=None, callbacks=None,\n",
              "              colsample_bylevel=None, colsample_bynode=None,\n",
              "              colsample_bytree=None, early_stopping_rounds=None,\n",
              "              enable_categorical=False, eval_metric=None, feature_types=None,\n",
              "              gamma=None, gpu_id=None, grow_policy=None, importance_type=None,\n",
              "              interaction_constraints=None, learning_rate=None, max_bin=None,\n",
              "              max_cat_threshold=None, max_cat_to_onehot=None,\n",
              "              max_delta_step=None, max_depth=None, max_leaves=None,\n",
              "              min_child_weight=None, missing=nan, monotone_constraints=None,\n",
              "              n_estimators=100, n_jobs=None, num_parallel_tree=None,\n",
              "              predictor=None, random_state=1, ...)"
            ]
          },
          "execution_count": 31,
          "metadata": {},
          "output_type": "execute_result"
        }
      ],
      "source": [
        "xgb_clf = xgb.XGBClassifier(n_estimators=100, random_state=1)\n",
        "\n",
        "xgb_clf.fit(X_train, y_train)"
      ]
    },
    {
      "cell_type": "code",
      "execution_count": null,
      "metadata": {
        "id": "-yT3vB-LbNqk"
      },
      "outputs": [],
      "source": [
        "y_pred = xgb_clf.predict(X_test)"
      ]
    },
    {
      "cell_type": "code",
      "execution_count": null,
      "metadata": {
        "colab": {
          "base_uri": "https://localhost:8080/"
        },
        "id": "wbF91RJSbNik",
        "outputId": "90f1ab11-a3b5-411c-ad6b-36a42c186fb2"
      },
      "outputs": [
        {
          "name": "stdout",
          "output_type": "stream",
          "text": [
            "Accuracy de 0.7551282655852117\n",
            "Precisión de 0.7740943555181129\n",
            "La sensibilidad, o recall es 0.9217227024225503\n",
            "El f1 score es 0.8414826799355887\n"
          ]
        }
      ],
      "source": [
        "accuracy = accuracy_score(y_test, y_pred)\n",
        "precision = precision_score(y_test, y_pred)\n",
        "recall = recall_score(y_test, y_pred)\n",
        "f1score = f1_score(y_test, y_pred)\n",
        "cm = confusion_matrix(y_test, y_pred)\n",
        "print('Accuracy de {}'.format(accuracy))\n",
        "print('Precisión de {}'.format(precision))\n",
        "print('La sensibilidad, o recall es {}'.format(recall))\n",
        "print('El f1 score es {}'.format(f1score))"
      ]
    },
    {
      "cell_type": "code",
      "execution_count": null,
      "metadata": {
        "id": "1TWHK8YGbNad"
      },
      "outputs": [],
      "source": [
        "algoritmos.loc['XGBOOST']=[accuracy,precision,recall,f1score]"
      ]
    },
    {
      "cell_type": "code",
      "execution_count": null,
      "metadata": {
        "colab": {
          "base_uri": "https://localhost:8080/",
          "height": 465
        },
        "id": "8Lc3DJiBbNSc",
        "outputId": "12483c14-891f-4eec-bdd6-ee7ec6e22fae"
      },
      "outputs": [
        {
          "name": "stdout",
          "output_type": "stream",
          "text": [
            "[[ 8922 16089]\n",
            " [ 4682 55131]]\n"
          ]
        },
        {
          "data": {
            "image/png": "[encoded data removed]",
            "text/plain": [
              "<Figure size 640x480 with 3 Axes>"
            ]
          },
          "metadata": {},
          "output_type": "display_data"
        }
      ],
      "source": [
        "print(cm)\n",
        "mosaic(cm)\n",
        "plt.show()"
      ]
    },
    {
      "cell_type": "markdown",
      "metadata": {
        "id": "pK-Mn5ihPYm4"
      },
      "source": [
        "## Red Neuronal "
      ]
    },
    {
      "cell_type": "code",
      "execution_count": null,
      "metadata": {
        "colab": {
          "base_uri": "https://localhost:8080/"
        },
        "id": "hqUzWXLBHUCy",
        "outputId": "01f86369-9f4d-4a39-dfb5-725f0f62ed7c"
      },
      "outputs": [
        {
          "name": "stdout",
          "output_type": "stream",
          "text": [
            "Epoch 1/50\n",
            "33930/33930 [==============================] - 62s 2ms/step - loss: 7.4103 - accuracy: 0.7052\n",
            "Epoch 2/50\n",
            "33930/33930 [==============================] - 61s 2ms/step - loss: 0.6060 - accuracy: 0.7058\n",
            "Epoch 3/50\n",
            "33930/33930 [==============================] - 58s 2ms/step - loss: 0.6059 - accuracy: 0.7058\n",
            "Epoch 4/50\n",
            "33930/33930 [==============================] - 58s 2ms/step - loss: 0.6059 - accuracy: 0.7058\n",
            "Epoch 5/50\n",
            "33930/33930 [==============================] - 58s 2ms/step - loss: 0.6059 - accuracy: 0.7058\n",
            "Epoch 6/50\n",
            "33930/33930 [==============================] - 59s 2ms/step - loss: 0.6059 - accuracy: 0.7058\n",
            "Epoch 7/50\n",
            "33930/33930 [==============================] - 58s 2ms/step - loss: 0.6059 - accuracy: 0.7058\n",
            "Epoch 8/50\n",
            "33930/33930 [==============================] - 59s 2ms/step - loss: 0.6059 - accuracy: 0.7058\n",
            "Epoch 9/50\n",
            "33930/33930 [==============================] - 58s 2ms/step - loss: 0.6059 - accuracy: 0.7058\n",
            "Epoch 10/50\n",
            "33930/33930 [==============================] - 58s 2ms/step - loss: 0.6059 - accuracy: 0.7058\n",
            "Epoch 11/50\n",
            "33930/33930 [==============================] - 59s 2ms/step - loss: 0.6059 - accuracy: 0.7058\n",
            "Epoch 12/50\n",
            "33930/33930 [==============================] - 58s 2ms/step - loss: 0.6059 - accuracy: 0.7058\n",
            "Epoch 13/50\n",
            "33930/33930 [==============================] - 59s 2ms/step - loss: 0.6059 - accuracy: 0.7058\n",
            "Epoch 14/50\n",
            "33930/33930 [==============================] - 59s 2ms/step - loss: 0.6059 - accuracy: 0.7058\n",
            "Epoch 15/50\n",
            "33930/33930 [==============================] - 59s 2ms/step - loss: 0.6059 - accuracy: 0.7058\n",
            "Epoch 16/50\n",
            "33930/33930 [==============================] - 59s 2ms/step - loss: 0.6059 - accuracy: 0.7058\n",
            "Epoch 17/50\n",
            "33930/33930 [==============================] - 58s 2ms/step - loss: 0.6059 - accuracy: 0.7058\n",
            "Epoch 18/50\n",
            "33930/33930 [==============================] - 60s 2ms/step - loss: 0.6059 - accuracy: 0.7058\n",
            "Epoch 19/50\n",
            "33930/33930 [==============================] - 58s 2ms/step - loss: 0.6060 - accuracy: 0.7058\n",
            "Epoch 20/50\n",
            "33930/33930 [==============================] - 59s 2ms/step - loss: 0.6059 - accuracy: 0.7058\n",
            "Epoch 21/50\n",
            "33930/33930 [==============================] - 59s 2ms/step - loss: 0.6059 - accuracy: 0.7058\n",
            "Epoch 22/50\n",
            "33930/33930 [==============================] - 58s 2ms/step - loss: 0.6059 - accuracy: 0.7058\n",
            "Epoch 23/50\n",
            "33930/33930 [==============================] - 59s 2ms/step - loss: 0.6059 - accuracy: 0.7058\n",
            "Epoch 24/50\n",
            "33930/33930 [==============================] - 58s 2ms/step - loss: 0.6059 - accuracy: 0.7058\n",
            "Epoch 25/50\n",
            "33930/33930 [==============================] - 58s 2ms/step - loss: 0.6059 - accuracy: 0.7058\n",
            "Epoch 26/50\n",
            "33930/33930 [==============================] - 58s 2ms/step - loss: 0.6059 - accuracy: 0.7058\n",
            "Epoch 27/50\n",
            "33930/33930 [==============================] - 61s 2ms/step - loss: 0.6059 - accuracy: 0.7058\n",
            "Epoch 28/50\n",
            "33930/33930 [==============================] - 59s 2ms/step - loss: 0.6059 - accuracy: 0.7058\n",
            "Epoch 29/50\n",
            "33930/33930 [==============================] - 60s 2ms/step - loss: 0.6059 - accuracy: 0.7058\n",
            "Epoch 30/50\n",
            "33930/33930 [==============================] - 59s 2ms/step - loss: 0.6059 - accuracy: 0.7058\n",
            "Epoch 31/50\n",
            "33930/33930 [==============================] - 60s 2ms/step - loss: 0.6059 - accuracy: 0.7058\n",
            "Epoch 32/50\n",
            "33930/33930 [==============================] - 58s 2ms/step - loss: 0.6059 - accuracy: 0.7058\n",
            "Epoch 33/50\n",
            "33930/33930 [==============================] - 59s 2ms/step - loss: 0.6059 - accuracy: 0.7058\n",
            "Epoch 34/50\n",
            "33930/33930 [==============================] - 59s 2ms/step - loss: 0.6059 - accuracy: 0.7058\n",
            "Epoch 35/50\n",
            "33930/33930 [==============================] - 60s 2ms/step - loss: 0.6059 - accuracy: 0.7058\n",
            "Epoch 36/50\n",
            "33930/33930 [==============================] - 59s 2ms/step - loss: 0.6059 - accuracy: 0.7058\n",
            "Epoch 37/50\n",
            "33930/33930 [==============================] - 59s 2ms/step - loss: 0.6059 - accuracy: 0.7058\n",
            "Epoch 38/50\n",
            "33930/33930 [==============================] - 59s 2ms/step - loss: 0.6059 - accuracy: 0.7058\n",
            "Epoch 39/50\n",
            "33930/33930 [==============================] - 59s 2ms/step - loss: 0.6059 - accuracy: 0.7058\n",
            "Epoch 40/50\n",
            "33930/33930 [==============================] - 59s 2ms/step - loss: 0.6059 - accuracy: 0.7058\n",
            "Epoch 41/50\n",
            "33930/33930 [==============================] - 59s 2ms/step - loss: 0.6059 - accuracy: 0.7058\n",
            "Epoch 42/50\n",
            "33930/33930 [==============================] - 58s 2ms/step - loss: 0.6059 - accuracy: 0.7058\n",
            "Epoch 43/50\n",
            "33930/33930 [==============================] - 59s 2ms/step - loss: 0.6059 - accuracy: 0.7058\n",
            "Epoch 44/50\n",
            "33930/33930 [==============================] - 58s 2ms/step - loss: 0.6059 - accuracy: 0.7058\n",
            "Epoch 45/50\n",
            "33930/33930 [==============================] - 59s 2ms/step - loss: 0.6059 - accuracy: 0.7058\n",
            "Epoch 46/50\n",
            "33930/33930 [==============================] - 59s 2ms/step - loss: 0.6059 - accuracy: 0.7058\n",
            "Epoch 47/50\n",
            "33930/33930 [==============================] - 61s 2ms/step - loss: 0.6059 - accuracy: 0.7058\n",
            "Epoch 48/50\n",
            "33930/33930 [==============================] - 59s 2ms/step - loss: 0.6059 - accuracy: 0.7058\n",
            "Epoch 49/50\n",
            "33930/33930 [==============================] - 58s 2ms/step - loss: 0.6059 - accuracy: 0.7058\n",
            "Epoch 50/50\n",
            "33930/33930 [==============================] - 59s 2ms/step - loss: 0.6059 - accuracy: 0.7058\n",
            "2651/2651 [==============================] - 3s 1ms/step\n"
          ]
        }
      ],
      "source": [
        "classifier = Sequential()\n",
        "\n",
        "classifier.add(Dense(units = 4, kernel_initializer = 'uniform', activation = 'relu', input_dim = 29))\n",
        "\n",
        "classifier.add(Dense(units = 4, kernel_initializer = 'uniform', activation = 'relu'))\n",
        "\n",
        "classifier.add(Dense(units = 1, kernel_initializer = 'uniform', activation = 'sigmoid'))\n",
        "\n",
        "classifier.compile(optimizer = 'adam', loss = 'binary_crossentropy', metrics = ['accuracy'])\n",
        "\n",
        "classifier.fit(X_train, y_train, batch_size = 10, epochs = 50)\n",
        "\n",
        "y_pred = classifier.predict(X_test)\n",
        "y_pred = (y_pred > 0.5)"
      ]
    },
    {
      "cell_type": "code",
      "execution_count": null,
      "metadata": {
        "colab": {
          "base_uri": "https://localhost:8080/"
        },
        "id": "W6aWjLviGk3u",
        "outputId": "1a11293d-f118-4eab-dd4f-c1879ac7c664"
      },
      "outputs": [
        {
          "name": "stdout",
          "output_type": "stream",
          "text": [
            "Accuracy de 0.7051424125247572\n",
            "Precisión de 0.7051424125247572\n",
            "La sensibilidad, o recall es 1.0\n",
            "El f1 score es 0.8270774421482747\n"
          ]
        }
      ],
      "source": [
        "accuracy = accuracy_score(y_test, y_pred)\n",
        "precision = precision_score(y_test, y_pred)\n",
        "recall = recall_score(y_test, y_pred)\n",
        "f1score = f1_score(y_test, y_pred)\n",
        "cm = confusion_matrix(y_test, y_pred)\n",
        "print('Accuracy de {}'.format(accuracy))\n",
        "print('Precisión de {}'.format(precision))\n",
        "print('La sensibilidad, o recall es {}'.format(recall))\n",
        "print('El f1 score es {}'.format(f1score))"
      ]
    },
    {
      "cell_type": "code",
      "execution_count": null,
      "metadata": {
        "id": "ZSmTkTBuG5jS"
      },
      "outputs": [],
      "source": [
        "algoritmos.loc['Red Neuronal']=[accuracy,precision,recall,f1score]"
      ]
    },
    {
      "cell_type": "markdown",
      "metadata": {
        "id": "mx0V7TjIb_29"
      },
      "source": [
        "# 5. Evaluación de los Modelos"
      ]
    },
    {
      "cell_type": "code",
      "execution_count": null,
      "metadata": {
        "colab": {
          "base_uri": "https://localhost:8080/"
        },
        "id": "HzqSR5cTcD23",
        "outputId": "8b69e7d1-bb45-4692-9c3f-d8afa4c38019"
      },
      "outputs": [
        {
          "name": "stdout",
          "output_type": "stream",
          "text": [
            "                Accuracy  Precision    Recall   F1Score\n",
            "XGBOOST         0.755128   0.774094  0.921723  0.841483\n",
            "GRADIENT BOOST  0.749776   0.762104  0.937923  0.840922\n",
            "Red Neuronal    0.705142   0.705142  1.000000  0.827077\n",
            "RANDOM FOREST   0.722013   0.784497  0.835203  0.809056\n",
            "BAGGING         0.712711   0.786606  0.813184  0.799674\n",
            "KNN             0.691172   0.747020  0.849832  0.795116\n",
            "ÁRBOL           0.667347   0.767863  0.757143  0.762465\n"
          ]
        }
      ],
      "source": [
        "print(algoritmos.sort_values(by='F1Score',ascending=False))"
      ]
    },
    {
      "cell_type": "markdown",
      "metadata": {
        "id": "pHEdYErav-1u"
      },
      "source": [
        "Observando la lista nos quedaríamos con el modelo XGBoost, que obtiene unas mejores métricas a la hora de evaluar su desempeño."
      ]
    },
    {
      "cell_type": "markdown",
      "source": [
        "## Hiperparametrización"
      ],
      "metadata": {
        "id": "mjbVFG0xg8Hn"
      }
    },
    {
      "cell_type": "markdown",
      "source": [
        "Ya que el XGBoost nos ha salido que es el mejor modelo, vamos a buscar los mejores learning_rate, max_depth, y n_estimators. "
      ],
      "metadata": {
        "id": "H644nTiahAOY"
      }
    },
    {
      "cell_type": "code",
      "execution_count": null,
      "metadata": {
        "colab": {
          "base_uri": "https://localhost:8080/",
          "height": 118
        },
        "id": "aHCHyK4Hwx5X",
        "outputId": "bef608ea-4832-4af3-d961-478acc32dce5"
      },
      "outputs": [
        {
          "output_type": "execute_result",
          "data": {
            "text/plain": [
              "GridSearchCV(cv=4,\n",
              "             estimator=XGBClassifier(base_score=None, booster=None,\n",
              "                                     callbacks=None, colsample_bylevel=None,\n",
              "                                     colsample_bynode=None,\n",
              "                                     colsample_bytree=None,\n",
              "                                     early_stopping_rounds=None,\n",
              "                                     enable_categorical=False, eval_metric=None,\n",
              "                                     feature_types=None, gamma=None,\n",
              "                                     gpu_id=None, grow_policy=None,\n",
              "                                     importance_type=None,\n",
              "                                     interaction_constraints=None,\n",
              "                                     learning_rate=None,...in=None,\n",
              "                                     max_cat_threshold=None,\n",
              "                                     max_cat_to_onehot=None,\n",
              "                                     max_delta_step=None, max_depth=None,\n",
              "                                     max_leaves=None, min_child_weight=None,\n",
              "                                     missing=nan, monotone_constraints=None,\n",
              "                                     n_estimators=100, n_jobs=None,\n",
              "                                     num_parallel_tree=None, predictor=None,\n",
              "                                     random_state=None, ...),\n",
              "             param_grid={'learning_rate': [0.1, 0.01, 0.001],\n",
              "                         'max_depth': [3, 5, 7],\n",
              "                         'n_estimators': [100, 200, 300]})"
            ],
            "text/html": [
              "<style>#sk-container-id-1 {color: black;background-color: white;}#sk-container-id-1 pre{padding: 0;}#sk-container-id-1 div.sk-toggleable {background-color: white;}#sk-container-id-1 label.sk-toggleable__label {cursor: pointer;display: block;width: 100%;margin-bottom: 0;padding: 0.3em;box-sizing: border-box;text-align: center;}#sk-container-id-1 label.sk-toggleable__label-arrow:before {content: \"▸\";float: left;margin-right: 0.25em;color: #696969;}#sk-container-id-1 label.sk-toggleable__label-arrow:hover:before {color: black;}#sk-container-id-1 div.sk-estimator:hover label.sk-toggleable__label-arrow:before {color: black;}#sk-container-id-1 div.sk-toggleable__content {max-height: 0;max-width: 0;overflow: hidden;text-align: left;background-color: #f0f8ff;}#sk-container-id-1 div.sk-toggleable__content pre {margin: 0.2em;color: black;border-radius: 0.25em;background-color: #f0f8ff;}#sk-container-id-1 input.sk-toggleable__control:checked~div.sk-toggleable__content {max-height: 200px;max-width: 100%;overflow: auto;}#sk-container-id-1 input.sk-toggleable__control:checked~label.sk-toggleable__label-arrow:before {content: \"▾\";}#sk-container-id-1 div.sk-estimator input.sk-toggleable__control:checked~label.sk-toggleable__label {background-color: #d4ebff;}#sk-container-id-1 div.sk-label input.sk-toggleable__control:checked~label.sk-toggleable__label {background-color: #d4ebff;}#sk-container-id-1 input.sk-hidden--visually {border: 0;clip: rect(1px 1px 1px 1px);clip: rect(1px, 1px, 1px, 1px);height: 1px;margin: -1px;overflow: hidden;padding: 0;position: absolute;width: 1px;}#sk-container-id-1 div.sk-estimator {font-family: monospace;background-color: #f0f8ff;border: 1px dotted black;border-radius: 0.25em;box-sizing: border-box;margin-bottom: 0.5em;}#sk-container-id-1 div.sk-estimator:hover {background-color: #d4ebff;}#sk-container-id-1 div.sk-parallel-item::after {content: \"\";width: 100%;border-bottom: 1px solid gray;flex-grow: 1;}#sk-container-id-1 div.sk-label:hover label.sk-toggleable__label {background-color: #d4ebff;}#sk-container-id-1 div.sk-serial::before {content: \"\";position: absolute;border-left: 1px solid gray;box-sizing: border-box;top: 0;bottom: 0;left: 50%;z-index: 0;}#sk-container-id-1 div.sk-serial {display: flex;flex-direction: column;align-items: center;background-color: white;padding-right: 0.2em;padding-left: 0.2em;position: relative;}#sk-container-id-1 div.sk-item {position: relative;z-index: 1;}#sk-container-id-1 div.sk-parallel {display: flex;align-items: stretch;justify-content: center;background-color: white;position: relative;}#sk-container-id-1 div.sk-item::before, #sk-container-id-1 div.sk-parallel-item::before {content: \"\";position: absolute;border-left: 1px solid gray;box-sizing: border-box;top: 0;bottom: 0;left: 50%;z-index: -1;}#sk-container-id-1 div.sk-parallel-item {display: flex;flex-direction: column;z-index: 1;position: relative;background-color: white;}#sk-container-id-1 div.sk-parallel-item:first-child::after {align-self: flex-end;width: 50%;}#sk-container-id-1 div.sk-parallel-item:last-child::after {align-self: flex-start;width: 50%;}#sk-container-id-1 div.sk-parallel-item:only-child::after {width: 0;}#sk-container-id-1 div.sk-dashed-wrapped {border: 1px dashed gray;margin: 0 0.4em 0.5em 0.4em;box-sizing: border-box;padding-bottom: 0.4em;background-color: white;}#sk-container-id-1 div.sk-label label {font-family: monospace;font-weight: bold;display: inline-block;line-height: 1.2em;}#sk-container-id-1 div.sk-label-container {text-align: center;}#sk-container-id-1 div.sk-container {/* jupyter's `normalize.less` sets `[hidden] { display: none; }` but bootstrap.min.css set `[hidden] { display: none !important; }` so we also need the `!important` here to be able to override the default hidden behavior on the sphinx rendered scikit-learn.org. See: https://github.com/scikit-learn/scikit-learn/issues/21755 */display: inline-block !important;position: relative;}#sk-container-id-1 div.sk-text-repr-fallback {display: none;}</style><div id=\"sk-container-id-1\" class=\"sk-top-container\"><div class=\"sk-text-repr-fallback\"><pre>GridSearchCV(cv=4,\n",
              "             estimator=XGBClassifier(base_score=None, booster=None,\n",
              "                                     callbacks=None, colsample_bylevel=None,\n",
              "                                     colsample_bynode=None,\n",
              "                                     colsample_bytree=None,\n",
              "                                     early_stopping_rounds=None,\n",
              "                                     enable_categorical=False, eval_metric=None,\n",
              "                                     feature_types=None, gamma=None,\n",
              "                                     gpu_id=None, grow_policy=None,\n",
              "                                     importance_type=None,\n",
              "                                     interaction_constraints=None,\n",
              "                                     learning_rate=None,...in=None,\n",
              "                                     max_cat_threshold=None,\n",
              "                                     max_cat_to_onehot=None,\n",
              "                                     max_delta_step=None, max_depth=None,\n",
              "                                     max_leaves=None, min_child_weight=None,\n",
              "                                     missing=nan, monotone_constraints=None,\n",
              "                                     n_estimators=100, n_jobs=None,\n",
              "                                     num_parallel_tree=None, predictor=None,\n",
              "                                     random_state=None, ...),\n",
              "             param_grid={&#x27;learning_rate&#x27;: [0.1, 0.01, 0.001],\n",
              "                         &#x27;max_depth&#x27;: [3, 5, 7],\n",
              "                         &#x27;n_estimators&#x27;: [100, 200, 300]})</pre><b>In a Jupyter environment, please rerun this cell to show the HTML representation or trust the notebook. <br />On GitHub, the HTML representation is unable to render, please try loading this page with nbviewer.org.</b></div><div class=\"sk-container\" hidden><div class=\"sk-item sk-dashed-wrapped\"><div class=\"sk-label-container\"><div class=\"sk-label sk-toggleable\"><input class=\"sk-toggleable__control sk-hidden--visually\" id=\"sk-estimator-id-1\" type=\"checkbox\" ><label for=\"sk-estimator-id-1\" class=\"sk-toggleable__label sk-toggleable__label-arrow\">GridSearchCV</label><div class=\"sk-toggleable__content\"><pre>GridSearchCV(cv=4,\n",
              "             estimator=XGBClassifier(base_score=None, booster=None,\n",
              "                                     callbacks=None, colsample_bylevel=None,\n",
              "                                     colsample_bynode=None,\n",
              "                                     colsample_bytree=None,\n",
              "                                     early_stopping_rounds=None,\n",
              "                                     enable_categorical=False, eval_metric=None,\n",
              "                                     feature_types=None, gamma=None,\n",
              "                                     gpu_id=None, grow_policy=None,\n",
              "                                     importance_type=None,\n",
              "                                     interaction_constraints=None,\n",
              "                                     learning_rate=None,...in=None,\n",
              "                                     max_cat_threshold=None,\n",
              "                                     max_cat_to_onehot=None,\n",
              "                                     max_delta_step=None, max_depth=None,\n",
              "                                     max_leaves=None, min_child_weight=None,\n",
              "                                     missing=nan, monotone_constraints=None,\n",
              "                                     n_estimators=100, n_jobs=None,\n",
              "                                     num_parallel_tree=None, predictor=None,\n",
              "                                     random_state=None, ...),\n",
              "             param_grid={&#x27;learning_rate&#x27;: [0.1, 0.01, 0.001],\n",
              "                         &#x27;max_depth&#x27;: [3, 5, 7],\n",
              "                         &#x27;n_estimators&#x27;: [100, 200, 300]})</pre></div></div></div><div class=\"sk-parallel\"><div class=\"sk-parallel-item\"><div class=\"sk-item\"><div class=\"sk-label-container\"><div class=\"sk-label sk-toggleable\"><input class=\"sk-toggleable__control sk-hidden--visually\" id=\"sk-estimator-id-2\" type=\"checkbox\" ><label for=\"sk-estimator-id-2\" class=\"sk-toggleable__label sk-toggleable__label-arrow\">estimator: XGBClassifier</label><div class=\"sk-toggleable__content\"><pre>XGBClassifier(base_score=None, booster=None, callbacks=None,\n",
              "              colsample_bylevel=None, colsample_bynode=None,\n",
              "              colsample_bytree=None, early_stopping_rounds=None,\n",
              "              enable_categorical=False, eval_metric=None, feature_types=None,\n",
              "              gamma=None, gpu_id=None, grow_policy=None, importance_type=None,\n",
              "              interaction_constraints=None, learning_rate=None, max_bin=None,\n",
              "              max_cat_threshold=None, max_cat_to_onehot=None,\n",
              "              max_delta_step=None, max_depth=None, max_leaves=None,\n",
              "              min_child_weight=None, missing=nan, monotone_constraints=None,\n",
              "              n_estimators=100, n_jobs=None, num_parallel_tree=None,\n",
              "              predictor=None, random_state=None, ...)</pre></div></div></div><div class=\"sk-serial\"><div class=\"sk-item\"><div class=\"sk-estimator sk-toggleable\"><input class=\"sk-toggleable__control sk-hidden--visually\" id=\"sk-estimator-id-3\" type=\"checkbox\" ><label for=\"sk-estimator-id-3\" class=\"sk-toggleable__label sk-toggleable__label-arrow\">XGBClassifier</label><div class=\"sk-toggleable__content\"><pre>XGBClassifier(base_score=None, booster=None, callbacks=None,\n",
              "              colsample_bylevel=None, colsample_bynode=None,\n",
              "              colsample_bytree=None, early_stopping_rounds=None,\n",
              "              enable_categorical=False, eval_metric=None, feature_types=None,\n",
              "              gamma=None, gpu_id=None, grow_policy=None, importance_type=None,\n",
              "              interaction_constraints=None, learning_rate=None, max_bin=None,\n",
              "              max_cat_threshold=None, max_cat_to_onehot=None,\n",
              "              max_delta_step=None, max_depth=None, max_leaves=None,\n",
              "              min_child_weight=None, missing=nan, monotone_constraints=None,\n",
              "              n_estimators=100, n_jobs=None, num_parallel_tree=None,\n",
              "              predictor=None, random_state=None, ...)</pre></div></div></div></div></div></div></div></div></div></div>"
            ]
          },
          "metadata": {},
          "execution_count": 15
        }
      ],
      "source": [
        "model = XGBClassifier()\n",
        "param_grid = {'learning_rate': [0.1, 0.01, 0.001], 'max_depth': [3, 5, 7], 'n_estimators': [100, 200, 300]}\n",
        "grid_search = GridSearchCV(estimator=model, param_grid=param_grid, cv=4)\n",
        "grid_search.fit(X_train, y_train)"
      ]
    },
    {
      "cell_type": "code",
      "source": [
        "print(grid_search.best_params_)"
      ],
      "metadata": {
        "colab": {
          "base_uri": "https://localhost:8080/"
        },
        "id": "WJvD6kFwXQY6",
        "outputId": "f8ccbda0-baa2-4469-8067-ba4fe4fd98ac"
      },
      "execution_count": null,
      "outputs": [
        {
          "output_type": "stream",
          "name": "stdout",
          "text": [
            "{'learning_rate': 0.1, 'max_depth': 7, 'n_estimators': 300}\n"
          ]
        }
      ]
    },
    {
      "cell_type": "code",
      "source": [
        "best_model = grid_search.best_estimator_\n",
        "y_pred = best_model.predict(X_test)"
      ],
      "metadata": {
        "id": "8Q2z8K_piC0f"
      },
      "execution_count": null,
      "outputs": []
    },
    {
      "cell_type": "code",
      "source": [
        "accuracy = accuracy_score(y_test, y_pred)\n",
        "precision = precision_score(y_test, y_pred)\n",
        "recall = recall_score(y_test, y_pred)\n",
        "f1score = f1_score(y_test, y_pred)\n",
        "cm = confusion_matrix(y_test, y_pred)\n",
        "print('Accuracy de {}'.format(accuracy))\n",
        "print('Precisión de {}'.format(precision))\n",
        "print('La sensibilidad, o recall es {}'.format(recall))\n",
        "print('El f1 score es {}'.format(f1score))"
      ],
      "metadata": {
        "colab": {
          "base_uri": "https://localhost:8080/"
        },
        "id": "Hk_fpIadiS5w",
        "outputId": "850a9fac-6f13-486b-e7b0-5ac290e14d07"
      },
      "execution_count": null,
      "outputs": [
        {
          "output_type": "stream",
          "name": "stdout",
          "text": [
            "Accuracy de 0.7569320003772517\n",
            "Precisión de 0.774832765366654\n",
            "La sensibilidad, o recall es 0.9237289552438434\n",
            "El f1 score es 0.8427547284929835\n"
          ]
        }
      ]
    },
    {
      "cell_type": "markdown",
      "source": [
        "Observamos, que hemos mejorado un poco las métricas con la elección de estos hiperparámetros."
      ],
      "metadata": {
        "id": "a8DYXiv8id_p"
      }
    }
  ],
  "metadata": {
    "colab": {
      "collapsed_sections": [
        "Fgv-dpgS0Bxd",
        "fVMlPqOOabZa"
      ],
      "provenance": []
    },
    "kernelspec": {
      "display_name": "Python 3",
      "name": "python3"
    },
    "language_info": {
      "name": "python"
    }
  },
  "nbformat": 4,
  "nbformat_minor": 0
}